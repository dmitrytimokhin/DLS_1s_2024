{
 "cells": [
  {
   "cell_type": "markdown",
   "metadata": {
    "id": "TK7oX5qdEEYr"
   },
   "source": [
    "# Домашнее задание. Решение конкурса на kaggle.com\n",
    "\n",
    "Это домашнее задание посвящено полноценному решению задачи машинного обучения."
   ]
  },
  {
   "cell_type": "markdown",
   "metadata": {
    "id": "zlB-owfaEEYs"
   },
   "source": [
    "Есть две части этого домашнего задания:\n",
    "\n",
    "### Отправить ваши предсказания в Stepik.\n",
    "За прохождение определенных порогов будут начисляться баллы. Эта часть оценивается из 5 баллов.\n",
    "\n",
    "1) $1.00 \\geqslant score \\geqslant 0.84$ --- 5 баллов\n",
    "\n",
    "2) $0.84 > score \\geqslant 0.77$ --- 4 балла\n",
    "\n",
    "3) $0.77 > score \\geqslant 0.70$ --- 3 балла\n",
    "\n",
    "4) $0.70 > score \\geqslant 0.65$ --- 2 балла\n",
    "\n",
    "5) $0.65 > score \\geqslant 0.6$ --- 1 балл\n",
    "\n",
    "6) $0.60 > score$ --- 0 баллов\n",
    "\n",
    "Для этого мы предварительно разделили данные в задании на две части.\n",
    "* `train.csv`. На этом наборе данных вам необходимо создать и обучить модель. Подробное описание файла есть в ноутбуке.\n",
    "* `test.csv`. В каждой строчке файла `test.csv` указаны признаки тестовых объектов. Предсказания для этого набора необходимо записать в файл submission.csv и сдать в соответствующий шаг на Stepik. Количество попыток ограничено 100 штук.\n",
    "\n",
    "Отправлять в Stepik вы будете файл с ответами `my_submission.csv`. В этом файле вам необходимо для каждого объекта из датасета предсказать вероятность класса 1. Мы подготовили для вас файл с примером посылки `submission.csv`. Ваш файл должен быть оформлен таким же образом. В ноутбуке есть пример оформления файла посылки. Для отправки файла с предсказаниями на Stepik есть отдельный шаг.\n",
    "\n",
    "### Сделать полноценный отчет о вашей работе.\n",
    "Опишите, как вы обработали данные, какие модели попробовали и какие результаты получились (максимум 10 баллов). За каждую выполненную часть будет начислено определенное количество баллов. В этом пункте вам необходимо отправить файл в формате .ipynb на Stepik --- для этого в домашнем задании есть отдельный шаг. Этот пункт оценивается из 10 баллов.\n",
    "\n",
    "**Вторая часть будет проверяться в формате peer-review. Т.е. вашу посылку на Stepik будут проверять 3 других студента, и медианное значение их оценок будет выставлено. Чтобы получить баллы, вам также нужно будет проверить трех других учеников. Это станет доступно после того, как вы сдадите задание сами.**\n",
    "\n",
    "### Контест на Kaggle\n",
    "Для вашего удобства мы подготовили [контест на Kaggle](https://www.kaggle.com/c/advanced-dls-spring-2021/). Тестирующая система на Kaggle выдает те же баллы, что и Stepik. Мы рекомендуем в качестве основной тестирующей системы использовать именно Kaggle, а затем сдать лучшую посылку на Stepik. Так вы привыкните работать с Kaggle.\n",
    "\n",
    "Проблема для российских пользователей Kaggle заключается в том, что подтверждение аккаунта по номеру телефона работает с перебоями или не работает вообще. Без подтвержденного номера телефона вы не сможете совершать посылки в kaggle. Если у вас возникла такая проблема, мы советуем следующие шаги:\n",
    "* Попробовать зарегистрировать аккаунт с аутентификацией через gmail. В таком случае, аккаунт должен работать без подтверждения номера телефона.\n",
    "* Если у вас есть не российский номер, используйте его для верификации аккаунта.\n",
    "* Если на номер телефона не приходит смс для верификации аккаунта, обратитесь в службу поддержки kaggle. Они с переменным успехом умеют подтверждать аккаунты вручную.\n",
    "* Если все же подтвердить аккаунт и получить доступ к сдаче заданий не удалось, используйте только сдачу в Stepik.\n",
    "\n",
    "### Несколько замечаний по выполнению работы\n",
    "* Во всех пунктах указания это минимальный набор вещей, которые стоит сделать. Если вы можете сделать какой-то шаг лучше или добавить что-то свое --- дерзайте!\n",
    "* Пожалуйста, перед сдачей ноутбука убедитесь, что работа чистая и понятная. Это значительно облегчит проверку и повысит ваши ожидаемые баллы.\n",
    "* Если у вас будут проблемы с решением или хочется совета, то пишите в наш чат в телеграме.\n",
    "\n",
    "\n",
    "Данные: [train.csv](https://drive.google.com/file/d/1ERwQ5odiK1Zvi1LtjpkzCMUswYsAX8_K/view?usp=share_link),\n",
    "[test.csv](https://drive.google.com/file/d/1fGw_-RFwvn_LEdt91Jq-7A-wzG6mmH8r/view?usp=share_link), [submission.csv](https://drive.google.com/file/d/199Mt4OYZNaelT83U-HGDsEYs2YcUGQ6y/view?usp=share_link).\n",
    "\n",
    "Если ссылки на данные не работают, их можно скачать [на Kaggle](https://www.kaggle.com/competitions/advanced-dls-spring-2021/data)."
   ]
  },
  {
   "cell_type": "markdown",
   "metadata": {},
   "source": [
    "* catboost.__version__ == 1.1.1\n",
    "* matplotlib.__version__ == 3.5.3\n",
    "* sklearn.__version__ == 0.21.0\n",
    "* pandas.__version__ == 1.3.1\n",
    "* numpy.__version__ == 1.19.5"
   ]
  },
  {
   "cell_type": "code",
   "execution_count": 1,
   "metadata": {
    "id": "lzLqEeZKEEYz"
   },
   "outputs": [],
   "source": [
    "import pandas as pd\n",
    "import numpy as np\n",
    "import matplotlib.pyplot as plt\n",
    "import seaborn as sns\n",
    "\n",
    "from sklearn.impute import SimpleImputer\n",
    "from sklearn.pipeline import Pipeline\n",
    "from sklearn.compose import ColumnTransformer\n",
    "from sklearn.base import BaseEstimator, TransformerMixin\n",
    "from sklearn.model_selection import train_test_split, StratifiedKFold\n",
    "from category_encoders import CatBoostEncoder\n",
    "\n",
    "\n",
    "from catboost import CatBoostClassifier\n",
    "from sklearn.ensemble import RandomForestClassifier\n",
    "from sklearn.metrics import roc_auc_score, r2_score\n",
    "from sklearn.utils import shuffle\n",
    "\n",
    "from copy import deepcopy\n",
    "\n",
    "from tqdm import tqdm, notebook\n",
    "from joblib import Parallel, delayed\n",
    "from collections import ChainMap"
   ]
  },
  {
   "cell_type": "code",
   "execution_count": 2,
   "metadata": {
    "id": "pw-Brue9EEY3"
   },
   "outputs": [
    {
     "name": "stdout",
     "output_type": "stream",
     "text": [
      "(5282, 20)\n"
     ]
    },
    {
     "data": {
      "text/html": [
       "<div>\n",
       "<style scoped>\n",
       "    .dataframe tbody tr th:only-of-type {\n",
       "        vertical-align: middle;\n",
       "    }\n",
       "\n",
       "    .dataframe tbody tr th {\n",
       "        vertical-align: top;\n",
       "    }\n",
       "\n",
       "    .dataframe thead th {\n",
       "        text-align: right;\n",
       "    }\n",
       "</style>\n",
       "<table border=\"1\" class=\"dataframe\">\n",
       "  <thead>\n",
       "    <tr style=\"text-align: right;\">\n",
       "      <th></th>\n",
       "      <th>ClientPeriod</th>\n",
       "      <th>MonthlySpending</th>\n",
       "      <th>TotalSpent</th>\n",
       "      <th>Sex</th>\n",
       "      <th>IsSeniorCitizen</th>\n",
       "      <th>HasPartner</th>\n",
       "      <th>HasChild</th>\n",
       "      <th>HasPhoneService</th>\n",
       "      <th>HasMultiplePhoneNumbers</th>\n",
       "      <th>HasInternetService</th>\n",
       "      <th>HasOnlineSecurityService</th>\n",
       "      <th>HasOnlineBackup</th>\n",
       "      <th>HasDeviceProtection</th>\n",
       "      <th>HasTechSupportAccess</th>\n",
       "      <th>HasOnlineTV</th>\n",
       "      <th>HasMovieSubscription</th>\n",
       "      <th>HasContractPhone</th>\n",
       "      <th>IsBillingPaperless</th>\n",
       "      <th>PaymentMethod</th>\n",
       "      <th>Churn</th>\n",
       "    </tr>\n",
       "  </thead>\n",
       "  <tbody>\n",
       "    <tr>\n",
       "      <th>0</th>\n",
       "      <td>55</td>\n",
       "      <td>19.50</td>\n",
       "      <td>1026.35</td>\n",
       "      <td>Male</td>\n",
       "      <td>0</td>\n",
       "      <td>Yes</td>\n",
       "      <td>Yes</td>\n",
       "      <td>Yes</td>\n",
       "      <td>No</td>\n",
       "      <td>No</td>\n",
       "      <td>No internet service</td>\n",
       "      <td>No internet service</td>\n",
       "      <td>No internet service</td>\n",
       "      <td>No internet service</td>\n",
       "      <td>No internet service</td>\n",
       "      <td>No internet service</td>\n",
       "      <td>One year</td>\n",
       "      <td>No</td>\n",
       "      <td>Mailed check</td>\n",
       "      <td>0</td>\n",
       "    </tr>\n",
       "    <tr>\n",
       "      <th>1</th>\n",
       "      <td>72</td>\n",
       "      <td>25.85</td>\n",
       "      <td>1872.2</td>\n",
       "      <td>Male</td>\n",
       "      <td>0</td>\n",
       "      <td>Yes</td>\n",
       "      <td>No</td>\n",
       "      <td>Yes</td>\n",
       "      <td>Yes</td>\n",
       "      <td>No</td>\n",
       "      <td>No internet service</td>\n",
       "      <td>No internet service</td>\n",
       "      <td>No internet service</td>\n",
       "      <td>No internet service</td>\n",
       "      <td>No internet service</td>\n",
       "      <td>No internet service</td>\n",
       "      <td>Two year</td>\n",
       "      <td>No</td>\n",
       "      <td>Credit card (automatic)</td>\n",
       "      <td>0</td>\n",
       "    </tr>\n",
       "    <tr>\n",
       "      <th>2</th>\n",
       "      <td>1</td>\n",
       "      <td>75.90</td>\n",
       "      <td>75.9</td>\n",
       "      <td>Male</td>\n",
       "      <td>0</td>\n",
       "      <td>No</td>\n",
       "      <td>No</td>\n",
       "      <td>Yes</td>\n",
       "      <td>No</td>\n",
       "      <td>Fiber optic</td>\n",
       "      <td>No</td>\n",
       "      <td>No</td>\n",
       "      <td>No</td>\n",
       "      <td>Yes</td>\n",
       "      <td>No</td>\n",
       "      <td>No</td>\n",
       "      <td>Month-to-month</td>\n",
       "      <td>Yes</td>\n",
       "      <td>Electronic check</td>\n",
       "      <td>1</td>\n",
       "    </tr>\n",
       "    <tr>\n",
       "      <th>3</th>\n",
       "      <td>32</td>\n",
       "      <td>79.30</td>\n",
       "      <td>2570</td>\n",
       "      <td>Female</td>\n",
       "      <td>1</td>\n",
       "      <td>Yes</td>\n",
       "      <td>No</td>\n",
       "      <td>Yes</td>\n",
       "      <td>Yes</td>\n",
       "      <td>Fiber optic</td>\n",
       "      <td>No</td>\n",
       "      <td>No</td>\n",
       "      <td>Yes</td>\n",
       "      <td>No</td>\n",
       "      <td>No</td>\n",
       "      <td>No</td>\n",
       "      <td>Month-to-month</td>\n",
       "      <td>No</td>\n",
       "      <td>Mailed check</td>\n",
       "      <td>0</td>\n",
       "    </tr>\n",
       "    <tr>\n",
       "      <th>4</th>\n",
       "      <td>60</td>\n",
       "      <td>115.25</td>\n",
       "      <td>6758.45</td>\n",
       "      <td>Female</td>\n",
       "      <td>0</td>\n",
       "      <td>Yes</td>\n",
       "      <td>Yes</td>\n",
       "      <td>Yes</td>\n",
       "      <td>Yes</td>\n",
       "      <td>Fiber optic</td>\n",
       "      <td>Yes</td>\n",
       "      <td>Yes</td>\n",
       "      <td>Yes</td>\n",
       "      <td>Yes</td>\n",
       "      <td>Yes</td>\n",
       "      <td>Yes</td>\n",
       "      <td>Two year</td>\n",
       "      <td>No</td>\n",
       "      <td>Credit card (automatic)</td>\n",
       "      <td>0</td>\n",
       "    </tr>\n",
       "  </tbody>\n",
       "</table>\n",
       "</div>"
      ],
      "text/plain": [
       "   ClientPeriod  MonthlySpending TotalSpent     Sex  IsSeniorCitizen  \\\n",
       "0            55            19.50    1026.35    Male                0   \n",
       "1            72            25.85     1872.2    Male                0   \n",
       "2             1            75.90       75.9    Male                0   \n",
       "3            32            79.30       2570  Female                1   \n",
       "4            60           115.25    6758.45  Female                0   \n",
       "\n",
       "  HasPartner HasChild HasPhoneService HasMultiplePhoneNumbers  \\\n",
       "0        Yes      Yes             Yes                      No   \n",
       "1        Yes       No             Yes                     Yes   \n",
       "2         No       No             Yes                      No   \n",
       "3        Yes       No             Yes                     Yes   \n",
       "4        Yes      Yes             Yes                     Yes   \n",
       "\n",
       "  HasInternetService HasOnlineSecurityService      HasOnlineBackup  \\\n",
       "0                 No      No internet service  No internet service   \n",
       "1                 No      No internet service  No internet service   \n",
       "2        Fiber optic                       No                   No   \n",
       "3        Fiber optic                       No                   No   \n",
       "4        Fiber optic                      Yes                  Yes   \n",
       "\n",
       "   HasDeviceProtection HasTechSupportAccess          HasOnlineTV  \\\n",
       "0  No internet service  No internet service  No internet service   \n",
       "1  No internet service  No internet service  No internet service   \n",
       "2                   No                  Yes                   No   \n",
       "3                  Yes                   No                   No   \n",
       "4                  Yes                  Yes                  Yes   \n",
       "\n",
       "  HasMovieSubscription HasContractPhone IsBillingPaperless  \\\n",
       "0  No internet service         One year                 No   \n",
       "1  No internet service         Two year                 No   \n",
       "2                   No   Month-to-month                Yes   \n",
       "3                   No   Month-to-month                 No   \n",
       "4                  Yes         Two year                 No   \n",
       "\n",
       "             PaymentMethod  Churn  \n",
       "0             Mailed check      0  \n",
       "1  Credit card (automatic)      0  \n",
       "2         Electronic check      1  \n",
       "3             Mailed check      0  \n",
       "4  Credit card (automatic)      0  "
      ]
     },
     "execution_count": 2,
     "metadata": {},
     "output_type": "execute_result"
    }
   ],
   "source": [
    "data = pd.read_csv('./train.csv')\n",
    "print(data.shape)\n",
    "data.head()"
   ]
  },
  {
   "cell_type": "code",
   "execution_count": 3,
   "metadata": {
    "id": "KgnkkF5bEEY9"
   },
   "outputs": [],
   "source": [
    "# Для вашего удобства списки с именами разных колонок\n",
    "\n",
    "# Числовые признаки\n",
    "num_cols = [\n",
    "    'ClientPeriod',\n",
    "    'MonthlySpending',\n",
    "    'TotalSpent'\n",
    "]\n",
    "\n",
    "# Категориальные признаки\n",
    "cat_cols = [\n",
    "    'Sex',\n",
    "    'IsSeniorCitizen',\n",
    "    'HasPartner',\n",
    "    'HasChild',\n",
    "    'HasPhoneService',\n",
    "    'HasMultiplePhoneNumbers',\n",
    "    'HasInternetService',\n",
    "    'HasOnlineSecurityService',\n",
    "    'HasOnlineBackup',\n",
    "    'HasDeviceProtection',\n",
    "    'HasTechSupportAccess',\n",
    "    'HasOnlineTV',\n",
    "    'HasMovieSubscription',\n",
    "    'HasContractPhone',\n",
    "    'IsBillingPaperless',\n",
    "    'PaymentMethod'\n",
    "]\n",
    "\n",
    "feature_cols = num_cols + cat_cols\n",
    "target_col = 'Churn'"
   ]
  },
  {
   "cell_type": "code",
   "execution_count": 4,
   "metadata": {},
   "outputs": [
    {
     "data": {
      "text/plain": [
       "ClientPeriod         int64\n",
       "MonthlySpending    float64\n",
       "TotalSpent          object\n",
       "dtype: object"
      ]
     },
     "execution_count": 4,
     "metadata": {},
     "output_type": "execute_result"
    }
   ],
   "source": [
    "data[num_cols].dtypes"
   ]
  },
  {
   "cell_type": "code",
   "execution_count": 5,
   "metadata": {},
   "outputs": [
    {
     "data": {
      "text/plain": [
       "[' ', '100.2', '100.25', '100.35', '100.4']"
      ]
     },
     "execution_count": 5,
     "metadata": {},
     "output_type": "execute_result"
    }
   ],
   "source": [
    "sorted(data.TotalSpent.unique())[:5]"
   ]
  },
  {
   "cell_type": "markdown",
   "metadata": {},
   "source": [
    "* Необходимо избавиться от ' ' заменив их на np.nan и задать тип float для численной переменной"
   ]
  },
  {
   "cell_type": "code",
   "execution_count": 6,
   "metadata": {},
   "outputs": [
    {
     "data": {
      "text/plain": [
       "ClientPeriod         int64\n",
       "MonthlySpending    float64\n",
       "TotalSpent         float64\n",
       "dtype: object"
      ]
     },
     "execution_count": 6,
     "metadata": {},
     "output_type": "execute_result"
    }
   ],
   "source": [
    "data['TotalSpent'] = data['TotalSpent'].apply(lambda x: np.nan if x == ' ' else np.float(x))\n",
    "data['TotalSpent'] = data['TotalSpent'].fillna(data['TotalSpent'].median())\n",
    "data[num_cols].dtypes"
   ]
  },
  {
   "cell_type": "code",
   "execution_count": 7,
   "metadata": {},
   "outputs": [
    {
     "name": "stdout",
     "output_type": "stream",
     "text": [
      "(3961, 20) (1321, 20)\n"
     ]
    }
   ],
   "source": [
    "train, valid = train_test_split(data, test_size=0.25, random_state=42)\n",
    "train, valid = train.reset_index(drop=True), valid.reset_index(drop=True)\n",
    "\n",
    "print(train.shape, valid.shape)"
   ]
  },
  {
   "cell_type": "code",
   "execution_count": 8,
   "metadata": {},
   "outputs": [],
   "source": [
    "### Предобработчик признаков\n",
    "\n",
    "class SentColumns(BaseEstimator, TransformerMixin):\n",
    "    \n",
    "    def __init__(self, columns: list=None) -> None:\n",
    "        self.columns = columns\n",
    "    \n",
    "    def fit(self, X:pd.DataFrame=None, y:pd.DataFrame=None):\n",
    "        return self\n",
    "\n",
    "    def transform(self, X:pd.DataFrame=None)->pd.DataFrame:\n",
    "        df_x = pd.DataFrame(X)\n",
    "        df_x.columns = self.columns\n",
    "        return df_x\n",
    "    \n",
    "def base_pipe(num_columns:list=None, cat_columns:list=None, fill_value:float=-1e24)->object:\n",
    "\n",
    "    # создаем конвейер для количественных переменных\n",
    "    num_pipe = Pipeline([\n",
    "        ('imputer', SimpleImputer(strategy='constant', fill_value = fill_value))\n",
    "    ])\n",
    "\n",
    "    # создаем конвейер для категориальных переменных\n",
    "    cat_pipe = Pipeline([\n",
    "        ('catenc', CatBoostEncoder(cols=cat_columns))\n",
    "    ])\n",
    "\n",
    "    transformers = [('num', num_pipe, num_columns),\n",
    "                    ('cat', cat_pipe, cat_columns)]\n",
    "\n",
    "    # передаем список трансформеров в ColumnTransformer\n",
    "    transformer = ColumnTransformer(transformers=transformers)\n",
    "\n",
    "    # задаем итоговый конвейер\n",
    "    prep_pipe = Pipeline([\n",
    "        ('transform', transformer),\n",
    "        ('sent_columns', SentColumns(columns=num_columns+cat_columns))\n",
    "    ])  \n",
    "\n",
    "    return prep_pipe"
   ]
  },
  {
   "cell_type": "code",
   "execution_count": 9,
   "metadata": {},
   "outputs": [],
   "source": [
    "## Корреляционный анализ\n",
    "\n",
    "def _get_f_metric(df):     \n",
    "\n",
    "    try:    \n",
    "        return (2*roc_auc_score(df.iloc[:,0],df.iloc[:,1])-1)*100\n",
    "\n",
    "    except:\n",
    "        return 0 \n",
    "\n",
    "def _get_features_metric(df:pd.DataFrame):      \n",
    "\n",
    "    return {f: _get_f_metric(df[[df.columns[0],f]]) for f in list(df.columns[1:])}\n",
    "\n",
    "def corr_analysis(df:pd.DataFrame,\n",
    "                  target:str,\n",
    "                  method:str='spearman', \n",
    "                  threshold: float=0.8, \n",
    "                  drop_with_most_correlations: bool=True):\n",
    "\n",
    "    df_train = deepcopy(df)\n",
    "\n",
    "    features = list(df_train.drop(columns=target).columns)\n",
    "\n",
    "    samples = {name: sample for name, sample in {'metric': df_train}.items() if not sample.empty} if df_train is not None else None\n",
    "\n",
    "    metrics = {name: _get_features_metric(df_train[[target] + [f for f in features if f in df_train.columns]]) for name, df_train in samples.items()}\n",
    "\n",
    "    metric_res = pd.DataFrame(metrics).round(4).abs().sort_values('metric', ascending=False)\n",
    "\n",
    "    correlations = df_train[features].corr(method=method).abs()\n",
    "    to_check_correlation=True\n",
    "    features_to_drop = {}\n",
    "\n",
    "\n",
    "    while to_check_correlation:\n",
    "        to_check_correlation=False\n",
    "        corr_number = {}\n",
    "        significantly_correlated = {}\n",
    "\n",
    "        for var in correlations:\n",
    "            var_corr = correlations[var]\n",
    "            var_corr = var_corr[(var_corr.index != var) & (var_corr > threshold)].sort_values(ascending=False).copy()\n",
    "            corr_number[var] = var_corr.shape[0]\n",
    "            significantly_correlated[var] = str(var_corr.index.tolist())\n",
    "\n",
    "        if drop_with_most_correlations:\n",
    "            with_correlation = {x: metric_res['metric'][x] for x in corr_number\n",
    "                                if corr_number[x] == max([corr_number[x] for x in corr_number])\n",
    "                                and corr_number[x] > 0}\n",
    "        else:\n",
    "            with_correlation = {x: metric_res['metric'][x] for x in corr_number if corr_number[x] > 0}\n",
    "\n",
    "        if len(with_correlation)>0:\n",
    "            feature_to_drop = min(with_correlation, key=with_correlation.get)\n",
    "            features_to_drop[feature_to_drop] = significantly_correlated[feature_to_drop]\n",
    "            correlations = correlations.drop(feature_to_drop, axis=1).drop(feature_to_drop, axis=0).copy()\n",
    "\n",
    "            to_check_correlation = True\n",
    "\n",
    "        feat_after_corr = list(set(features) - set(features_to_drop))\n",
    "\n",
    "    corr_df = pd.DataFrame(features_to_drop.values(), features_to_drop.keys()).rename(columns={0: f'Корреляция более {threshold*100}%'})\n",
    "    print(f'Количество факторов после корреляционного анализа: {len(feat_after_corr)}')\n",
    "    display(corr_df)\n",
    "    return feat_after_corr"
   ]
  },
  {
   "cell_type": "code",
   "execution_count": 10,
   "metadata": {},
   "outputs": [
    {
     "name": "stdout",
     "output_type": "stream",
     "text": [
      "Количество факторов после корреляционного анализа: 19\n"
     ]
    },
    {
     "data": {
      "text/html": [
       "<div>\n",
       "<style scoped>\n",
       "    .dataframe tbody tr th:only-of-type {\n",
       "        vertical-align: middle;\n",
       "    }\n",
       "\n",
       "    .dataframe tbody tr th {\n",
       "        vertical-align: top;\n",
       "    }\n",
       "\n",
       "    .dataframe thead th {\n",
       "        text-align: right;\n",
       "    }\n",
       "</style>\n",
       "<table border=\"1\" class=\"dataframe\">\n",
       "  <thead>\n",
       "    <tr style=\"text-align: right;\">\n",
       "      <th></th>\n",
       "    </tr>\n",
       "  </thead>\n",
       "  <tbody>\n",
       "  </tbody>\n",
       "</table>\n",
       "</div>"
      ],
      "text/plain": [
       "Empty DataFrame\n",
       "Columns: []\n",
       "Index: []"
      ]
     },
     "metadata": {},
     "output_type": "display_data"
    }
   ],
   "source": [
    "data_prepared = base_pipe(num_columns=num_cols,cat_columns=cat_cols).fit_transform(train,train[target_col])\n",
    "data_prepared[target_col] = train[target_col]\n",
    "\n",
    "feats_after_corr= corr_analysis(df=data_prepared,target=target_col,method='spearman',threshold=0.9,drop_with_most_correlations=True)"
   ]
  },
  {
   "cell_type": "code",
   "execution_count": 11,
   "metadata": {},
   "outputs": [],
   "source": [
    "def depth_analysis(df:pd.DataFrame=None,\n",
    "                   target:str=None,\n",
    "                   features:list=None,\n",
    "                   max_depth:int=5):\n",
    "\n",
    "    df_train = deepcopy(df)\n",
    "    print(df_train.shape)\n",
    "\n",
    "    max_depth_grid = list(range(1,max_depth+1))\n",
    "    fi = list()\n",
    "\n",
    "    rank_df = pd.DataFrame(features,columns=['index']).set_index(['index'])\n",
    "\n",
    "    for max_depth in notebook.tqdm(max_depth_grid):\n",
    "\n",
    "        fi_feat = []\n",
    "        params = {'iterations':1500,\n",
    "                  'loss_function':'Logloss',\n",
    "                  'thread_count':-1,\n",
    "                  'random_state':42,\n",
    "                  'verbose':0\n",
    "                 }\n",
    "        \n",
    "        params['depth'] = max_depth\n",
    "\n",
    "        model = CatBoostClassifier(**params)\n",
    "        model.fit(df_train[features], df_train[target])\n",
    "\n",
    "        fi.append(model.get_feature_importance())\n",
    "        fi_feat.append(model.get_feature_importance())\n",
    "\n",
    "        rank = pd.DataFrame(np.array(fi_feat).T,\n",
    "                          columns=['importance'],\n",
    "                          index=features).sort_values('importance', ascending=True)\n",
    "\n",
    "    fi = pd.DataFrame(np.array(fi).T,\n",
    "              columns=['importance_depth_' + str(idx) for idx in range(1,len(fi)+1)],\n",
    "              index=features)\n",
    "\n",
    "    # вычисляем усредненные важности и добавляем столбец с ними\n",
    "    fi['mean_importance'] = fi.mean(axis=1)\n",
    "    \n",
    "    deth_features_importance = fi[fi.mean_importance>0].index.tolist()\n",
    "    fi = fi.sort_values('mean_importance',ascending=False)\n",
    "\n",
    "    print(f'Количество признаков после mean importance относительно глубины: {len(deth_features_importance)}')\n",
    "    display(fi)\n",
    "    return deth_features_importance"
   ]
  },
  {
   "cell_type": "code",
   "execution_count": 12,
   "metadata": {},
   "outputs": [
    {
     "name": "stdout",
     "output_type": "stream",
     "text": [
      "(3961, 20)\n"
     ]
    },
    {
     "data": {
      "application/vnd.jupyter.widget-view+json": {
       "model_id": "dab541d2bb9e400994205cb0c26d7d73",
       "version_major": 2,
       "version_minor": 0
      },
      "text/plain": [
       "  0%|          | 0/3 [00:00<?, ?it/s]"
      ]
     },
     "metadata": {},
     "output_type": "display_data"
    },
    {
     "name": "stdout",
     "output_type": "stream",
     "text": [
      "Количество признаков после mean importance относительно глубины: 19\n"
     ]
    },
    {
     "data": {
      "text/html": [
       "<div>\n",
       "<style scoped>\n",
       "    .dataframe tbody tr th:only-of-type {\n",
       "        vertical-align: middle;\n",
       "    }\n",
       "\n",
       "    .dataframe tbody tr th {\n",
       "        vertical-align: top;\n",
       "    }\n",
       "\n",
       "    .dataframe thead th {\n",
       "        text-align: right;\n",
       "    }\n",
       "</style>\n",
       "<table border=\"1\" class=\"dataframe\">\n",
       "  <thead>\n",
       "    <tr style=\"text-align: right;\">\n",
       "      <th></th>\n",
       "      <th>importance_depth_1</th>\n",
       "      <th>importance_depth_2</th>\n",
       "      <th>importance_depth_3</th>\n",
       "      <th>mean_importance</th>\n",
       "    </tr>\n",
       "  </thead>\n",
       "  <tbody>\n",
       "    <tr>\n",
       "      <th>HasContractPhone</th>\n",
       "      <td>38.592262</td>\n",
       "      <td>26.642884</td>\n",
       "      <td>20.262445</td>\n",
       "      <td>28.499197</td>\n",
       "    </tr>\n",
       "    <tr>\n",
       "      <th>ClientPeriod</th>\n",
       "      <td>17.433890</td>\n",
       "      <td>18.030015</td>\n",
       "      <td>15.571824</td>\n",
       "      <td>17.011909</td>\n",
       "    </tr>\n",
       "    <tr>\n",
       "      <th>HasInternetService</th>\n",
       "      <td>10.325431</td>\n",
       "      <td>9.282373</td>\n",
       "      <td>8.630344</td>\n",
       "      <td>9.412716</td>\n",
       "    </tr>\n",
       "    <tr>\n",
       "      <th>HasOnlineSecurityService</th>\n",
       "      <td>9.726855</td>\n",
       "      <td>6.757673</td>\n",
       "      <td>4.971877</td>\n",
       "      <td>7.152135</td>\n",
       "    </tr>\n",
       "    <tr>\n",
       "      <th>MonthlySpending</th>\n",
       "      <td>3.757834</td>\n",
       "      <td>7.318249</td>\n",
       "      <td>7.561161</td>\n",
       "      <td>6.212415</td>\n",
       "    </tr>\n",
       "    <tr>\n",
       "      <th>HasTechSupportAccess</th>\n",
       "      <td>7.121927</td>\n",
       "      <td>5.639371</td>\n",
       "      <td>5.154548</td>\n",
       "      <td>5.971949</td>\n",
       "    </tr>\n",
       "    <tr>\n",
       "      <th>PaymentMethod</th>\n",
       "      <td>4.392368</td>\n",
       "      <td>3.893392</td>\n",
       "      <td>4.306501</td>\n",
       "      <td>4.197420</td>\n",
       "    </tr>\n",
       "    <tr>\n",
       "      <th>IsBillingPaperless</th>\n",
       "      <td>2.210840</td>\n",
       "      <td>3.983117</td>\n",
       "      <td>4.446412</td>\n",
       "      <td>3.546790</td>\n",
       "    </tr>\n",
       "    <tr>\n",
       "      <th>TotalSpent</th>\n",
       "      <td>0.991969</td>\n",
       "      <td>3.461165</td>\n",
       "      <td>5.370863</td>\n",
       "      <td>3.274666</td>\n",
       "    </tr>\n",
       "    <tr>\n",
       "      <th>Sex</th>\n",
       "      <td>1.241695</td>\n",
       "      <td>2.217280</td>\n",
       "      <td>3.584972</td>\n",
       "      <td>2.347982</td>\n",
       "    </tr>\n",
       "    <tr>\n",
       "      <th>IsSeniorCitizen</th>\n",
       "      <td>1.089477</td>\n",
       "      <td>2.024247</td>\n",
       "      <td>3.344140</td>\n",
       "      <td>2.152621</td>\n",
       "    </tr>\n",
       "    <tr>\n",
       "      <th>HasPhoneService</th>\n",
       "      <td>1.036850</td>\n",
       "      <td>1.954071</td>\n",
       "      <td>2.913680</td>\n",
       "      <td>1.968200</td>\n",
       "    </tr>\n",
       "    <tr>\n",
       "      <th>HasDeviceProtection</th>\n",
       "      <td>0.129264</td>\n",
       "      <td>1.857855</td>\n",
       "      <td>2.525174</td>\n",
       "      <td>1.504098</td>\n",
       "    </tr>\n",
       "    <tr>\n",
       "      <th>HasOnlineBackup</th>\n",
       "      <td>0.943899</td>\n",
       "      <td>1.370791</td>\n",
       "      <td>2.123937</td>\n",
       "      <td>1.479542</td>\n",
       "    </tr>\n",
       "    <tr>\n",
       "      <th>HasMultiplePhoneNumbers</th>\n",
       "      <td>0.154519</td>\n",
       "      <td>1.383863</td>\n",
       "      <td>2.514513</td>\n",
       "      <td>1.350965</td>\n",
       "    </tr>\n",
       "    <tr>\n",
       "      <th>HasMovieSubscription</th>\n",
       "      <td>0.089524</td>\n",
       "      <td>1.392538</td>\n",
       "      <td>2.498346</td>\n",
       "      <td>1.326802</td>\n",
       "    </tr>\n",
       "    <tr>\n",
       "      <th>HasOnlineTV</th>\n",
       "      <td>0.467109</td>\n",
       "      <td>1.021877</td>\n",
       "      <td>1.647691</td>\n",
       "      <td>1.045559</td>\n",
       "    </tr>\n",
       "    <tr>\n",
       "      <th>HasChild</th>\n",
       "      <td>0.182209</td>\n",
       "      <td>1.301721</td>\n",
       "      <td>1.576593</td>\n",
       "      <td>1.020175</td>\n",
       "    </tr>\n",
       "    <tr>\n",
       "      <th>HasPartner</th>\n",
       "      <td>0.112078</td>\n",
       "      <td>0.467518</td>\n",
       "      <td>0.994981</td>\n",
       "      <td>0.524859</td>\n",
       "    </tr>\n",
       "  </tbody>\n",
       "</table>\n",
       "</div>"
      ],
      "text/plain": [
       "                          importance_depth_1  importance_depth_2  \\\n",
       "HasContractPhone                   38.592262           26.642884   \n",
       "ClientPeriod                       17.433890           18.030015   \n",
       "HasInternetService                 10.325431            9.282373   \n",
       "HasOnlineSecurityService            9.726855            6.757673   \n",
       "MonthlySpending                     3.757834            7.318249   \n",
       "HasTechSupportAccess                7.121927            5.639371   \n",
       "PaymentMethod                       4.392368            3.893392   \n",
       "IsBillingPaperless                  2.210840            3.983117   \n",
       "TotalSpent                          0.991969            3.461165   \n",
       "Sex                                 1.241695            2.217280   \n",
       "IsSeniorCitizen                     1.089477            2.024247   \n",
       "HasPhoneService                     1.036850            1.954071   \n",
       "HasDeviceProtection                 0.129264            1.857855   \n",
       "HasOnlineBackup                     0.943899            1.370791   \n",
       "HasMultiplePhoneNumbers             0.154519            1.383863   \n",
       "HasMovieSubscription                0.089524            1.392538   \n",
       "HasOnlineTV                         0.467109            1.021877   \n",
       "HasChild                            0.182209            1.301721   \n",
       "HasPartner                          0.112078            0.467518   \n",
       "\n",
       "                          importance_depth_3  mean_importance  \n",
       "HasContractPhone                   20.262445        28.499197  \n",
       "ClientPeriod                       15.571824        17.011909  \n",
       "HasInternetService                  8.630344         9.412716  \n",
       "HasOnlineSecurityService            4.971877         7.152135  \n",
       "MonthlySpending                     7.561161         6.212415  \n",
       "HasTechSupportAccess                5.154548         5.971949  \n",
       "PaymentMethod                       4.306501         4.197420  \n",
       "IsBillingPaperless                  4.446412         3.546790  \n",
       "TotalSpent                          5.370863         3.274666  \n",
       "Sex                                 3.584972         2.347982  \n",
       "IsSeniorCitizen                     3.344140         2.152621  \n",
       "HasPhoneService                     2.913680         1.968200  \n",
       "HasDeviceProtection                 2.525174         1.504098  \n",
       "HasOnlineBackup                     2.123937         1.479542  \n",
       "HasMultiplePhoneNumbers             2.514513         1.350965  \n",
       "HasMovieSubscription                2.498346         1.326802  \n",
       "HasOnlineTV                         1.647691         1.045559  \n",
       "HasChild                            1.576593         1.020175  \n",
       "HasPartner                          0.994981         0.524859  "
      ]
     },
     "metadata": {},
     "output_type": "display_data"
    }
   ],
   "source": [
    "feats_after_depth = depth_analysis(df=data_prepared,\n",
    "                                  target=target_col,\n",
    "                                  features=feats_after_corr,\n",
    "                                  max_depth=3)"
   ]
  },
  {
   "cell_type": "code",
   "execution_count": 13,
   "metadata": {},
   "outputs": [],
   "source": [
    "del data_prepared"
   ]
  },
  {
   "cell_type": "code",
   "execution_count": 14,
   "metadata": {},
   "outputs": [],
   "source": [
    "def _preprocessing(X_tr: pd.DataFrame=None, \n",
    "                   y_tr: pd.DataFrame=None, \n",
    "                   X_te: pd.DataFrame = None,\n",
    "                   num_columns: list=None, \n",
    "                   cat_columns: list=None):\n",
    "\n",
    "    X_tr.reset_index(drop=True,inplace=True)\n",
    "    y_tr.reset_index(drop=True,inplace=True)\n",
    "\n",
    "    prep_pipe = base_pipe(num_columns=num_columns,\n",
    "                          cat_columns=cat_columns)\n",
    "\n",
    "    prep_pipe.fit(X_tr, y_tr)\n",
    "\n",
    "    X_tr = prep_pipe.transform(X_tr)\n",
    "\n",
    "    if X_te is None:\n",
    "        return X_tr\n",
    "    else:\n",
    "\n",
    "        X_te.reset_index(drop=True,inplace=True)\n",
    "        X_te = prep_pipe.transform(X_te)\n",
    "\n",
    "        return X_tr, X_te\n",
    "\n",
    "def _permute(col, \n",
    "             model: object, \n",
    "             X: pd.DataFrame, \n",
    "             y: pd.DataFrame, \n",
    "             n_iter: int, \n",
    "             metric=None, \n",
    "             higher_is_better: bool=True, \n",
    "             random_state: int=None):\n",
    "\n",
    "    d = {col: []}      \n",
    "    base_score = metric(y, model.predict_proba(X)[:, 1])\n",
    "\n",
    "    for _ in range(n_iter):\n",
    "        X[col] = shuffle(X[col].values, random_state=random_state)\n",
    "        temp_prediction = model.predict_proba(X)[:, 1]\n",
    "        score = metric(y.values, temp_prediction)\n",
    "\n",
    "        if higher_is_better:\n",
    "            d[col].append(base_score-score)\n",
    "        else:\n",
    "            d[col].append(base_score+score)\n",
    "\n",
    "    return d\n",
    "\n",
    "def _custom_permute(model: object, \n",
    "                    X: pd.DataFrame, \n",
    "                    y: pd.DataFrame,\n",
    "                    metric=None, \n",
    "                    n_iter: int=5, \n",
    "                    n_jobs: int=-1, \n",
    "                    higher_is_better: bool=True, \n",
    "                    random_state: int=None):  \n",
    "\n",
    "\n",
    "    result = Parallel(n_jobs=n_jobs,max_nbytes='50M')(delayed(_permute)(col, model, X, y, \n",
    "                                                      n_iter, metric, higher_is_better, random_state) for col in tqdm(X.columns.tolist()))\n",
    "\n",
    "\n",
    "    dict_imp = dict(ChainMap(*result))\n",
    "\n",
    "    for i in dict_imp.keys(): dict_imp[i] = np.mean(dict_imp[i])\n",
    "\n",
    "    return dict_imp\n",
    "\n",
    "    \n",
    "def permutation_analysis(df:pd.DataFrame,\n",
    "                         num_columns:list=None,\n",
    "                         cat_columns:list=None,\n",
    "                         target:str=None,\n",
    "                         test_size:float=0.3,\n",
    "                         n_iter_permute:int=5, \n",
    "                         n_jobs: int=-1, \n",
    "                         metric=None, \n",
    "                         higher_is_better: bool=True):\n",
    "\n",
    "    features = num_columns+cat_columns\n",
    "    df_train = deepcopy(df).reset_index(drop=True)\n",
    "    nans_share = df_train[num_columns+cat_columns].isna().mean().values.mean()\n",
    "    df_train_perm, df_test_perm = train_test_split(df_train,test_size=test_size,random_state=42)\n",
    "\n",
    "    print(f'Размер обучающего подмножества для Permutation importance: {df_train_perm.shape} ; Среднее значение таргета: {df_train_perm[target].mean()}')\n",
    "    print()\n",
    "    print(f'Размер тестового подмножества для Permutation importance: {df_test_perm.shape} ; Среднее значение таргета: {df_test_perm[target].mean()}')  \n",
    "    print('==================================================')\n",
    "\n",
    "    params = {'iterations':1500,\n",
    "              'loss_function':'Logloss',\n",
    "              'thread_count':-1,\n",
    "              'random_state':42,\n",
    "              'verbose':0\n",
    "             }\n",
    "    model = CatBoostClassifier(**params)\n",
    "\n",
    "    X_train, X_test = _preprocessing(X_tr = df_train_perm, \n",
    "                                     y_tr = df_train_perm[target],\n",
    "                                     X_te = df_test_perm,\n",
    "                                     num_columns=num_columns, \n",
    "                                     cat_columns=cat_columns)\n",
    "    \n",
    "    X_train['random_feature'] = np.random.default_rng(42).normal(size=len(X_train))\n",
    "    X_test['random_feature'] = np.random.default_rng(42).normal(size=len(X_test))\n",
    "    \n",
    "    X_train.loc[X_train['random_feature'].sample(frac=nans_share, random_state=42).index,'random_feature'] = np.nan\n",
    "    X_test.loc[X_test['random_feature'].sample(frac=nans_share, random_state=42).index,'random_feature'] = np.nan\n",
    "\n",
    "\n",
    "    model.fit(X_train[features+['random_feature']], df_train_perm[target])\n",
    "    permute_feature_names = X_train.columns.tolist()\n",
    "\n",
    "    print('Расчет Permutation Importance на Train')\n",
    "    result_tr = _custom_permute(model, X_train, df_train_perm[target], metric=metric, n_iter=n_iter_permute, n_jobs=n_jobs, higher_is_better=higher_is_better, random_state=42)\n",
    "    print('Расчет Permutation Importance на Test')\n",
    "    result_te = _custom_permute(model, X_test, df_test_perm[target], metric=metric, n_iter=n_iter_permute, n_jobs=n_jobs, higher_is_better=higher_is_better, random_state=42)\n",
    "\n",
    "    # Создание важности и словаря факторов\n",
    "    data_tr = {'Feature':result_tr.keys(),\n",
    "               'Perm_Importance_Tr':result_tr.values()}\n",
    "    data_te = {'Feature':result_te.keys(),\n",
    "               'Perm_Importance_Te':result_te.values()}\n",
    "\n",
    "    # Создание датасета и сортировка PI на тесте по убыванию\n",
    "    pi_df = (pd.DataFrame(data_tr).merge(pd.DataFrame(data_te),how='left',on='Feature')).set_index('Feature').sort_values(by=['Perm_Importance_Te'], ascending=False)\n",
    "    \n",
    "    # Параметры для рисунка\n",
    "    plt.figure(figsize=(10,6))\n",
    "    sns.barplot(x=pi_df['Perm_Importance_Te'], y=pi_df.index,color='dodgerblue')\n",
    "    plt.title('Feature Importance on Test')\n",
    "    plt.xlabel('Permutation Importance')\n",
    "    plt.ylabel('Feature Names')\n",
    "    plt.show()\n",
    "    \n",
    "    display(pi_df)\n",
    "    \n",
    "    random_score = pi_df.loc['random_feature'].Perm_Importance_Te\n",
    "\n",
    "    if random_score>0:\n",
    "        selected_features = pi_df[pi_df.Perm_Importance_Te>random_score].index.tolist()\n",
    "    elif random_score<=0:\n",
    "        selected_features = pi_df[pi_df.Perm_Importance_Te>=0].index.tolist()\n",
    "\n",
    "    print(len(selected_features), 'признаков после Permutation Importance')\n",
    "\n",
    "    return selected_features"
   ]
  },
  {
   "cell_type": "code",
   "execution_count": 15,
   "metadata": {},
   "outputs": [
    {
     "name": "stdout",
     "output_type": "stream",
     "text": [
      "Размер обучающего подмножества для Permutation importance: (3366, 20) ; Среднее значение таргета: 0.2620320855614973\n",
      "\n",
      "Размер тестового подмножества для Permutation importance: (595, 20) ; Среднее значение таргета: 0.292436974789916\n",
      "==================================================\n",
      "Расчет Permutation Importance на Train\n"
     ]
    },
    {
     "name": "stderr",
     "output_type": "stream",
     "text": [
      "100%|██████████| 20/20 [00:05<00:00,  3.57it/s]\n"
     ]
    },
    {
     "name": "stdout",
     "output_type": "stream",
     "text": [
      "Расчет Permutation Importance на Test\n"
     ]
    },
    {
     "name": "stderr",
     "output_type": "stream",
     "text": [
      "100%|██████████| 20/20 [00:00<00:00, 58.95it/s]\n"
     ]
    },
    {
     "data": {
      "image/png": "[encoded data removed]",
      "text/plain": [
       "<Figure size 1000x600 with 1 Axes>"
      ]
     },
     "metadata": {},
     "output_type": "display_data"
    },
    {
     "data": {
      "text/html": [
       "<div>\n",
       "<style scoped>\n",
       "    .dataframe tbody tr th:only-of-type {\n",
       "        vertical-align: middle;\n",
       "    }\n",
       "\n",
       "    .dataframe tbody tr th {\n",
       "        vertical-align: top;\n",
       "    }\n",
       "\n",
       "    .dataframe thead th {\n",
       "        text-align: right;\n",
       "    }\n",
       "</style>\n",
       "<table border=\"1\" class=\"dataframe\">\n",
       "  <thead>\n",
       "    <tr style=\"text-align: right;\">\n",
       "      <th></th>\n",
       "      <th>Perm_Importance_Tr</th>\n",
       "      <th>Perm_Importance_Te</th>\n",
       "    </tr>\n",
       "    <tr>\n",
       "      <th>Feature</th>\n",
       "      <th></th>\n",
       "      <th></th>\n",
       "    </tr>\n",
       "  </thead>\n",
       "  <tbody>\n",
       "    <tr>\n",
       "      <th>HasContractPhone</th>\n",
       "      <td>0.033131</td>\n",
       "      <td>0.047776</td>\n",
       "    </tr>\n",
       "    <tr>\n",
       "      <th>ClientPeriod</th>\n",
       "      <td>0.052939</td>\n",
       "      <td>0.041807</td>\n",
       "    </tr>\n",
       "    <tr>\n",
       "      <th>HasInternetService</th>\n",
       "      <td>0.009844</td>\n",
       "      <td>0.017161</td>\n",
       "    </tr>\n",
       "    <tr>\n",
       "      <th>TotalSpent</th>\n",
       "      <td>0.049091</td>\n",
       "      <td>0.014944</td>\n",
       "    </tr>\n",
       "    <tr>\n",
       "      <th>HasOnlineSecurityService</th>\n",
       "      <td>0.006695</td>\n",
       "      <td>0.009361</td>\n",
       "    </tr>\n",
       "    <tr>\n",
       "      <th>HasTechSupportAccess</th>\n",
       "      <td>0.006476</td>\n",
       "      <td>0.009257</td>\n",
       "    </tr>\n",
       "    <tr>\n",
       "      <th>MonthlySpending</th>\n",
       "      <td>0.034535</td>\n",
       "      <td>0.007685</td>\n",
       "    </tr>\n",
       "    <tr>\n",
       "      <th>IsSeniorCitizen</th>\n",
       "      <td>0.005377</td>\n",
       "      <td>0.003288</td>\n",
       "    </tr>\n",
       "    <tr>\n",
       "      <th>HasOnlineBackup</th>\n",
       "      <td>0.006168</td>\n",
       "      <td>0.002970</td>\n",
       "    </tr>\n",
       "    <tr>\n",
       "      <th>Sex</th>\n",
       "      <td>0.006705</td>\n",
       "      <td>0.002932</td>\n",
       "    </tr>\n",
       "    <tr>\n",
       "      <th>HasMovieSubscription</th>\n",
       "      <td>0.005832</td>\n",
       "      <td>0.001795</td>\n",
       "    </tr>\n",
       "    <tr>\n",
       "      <th>IsBillingPaperless</th>\n",
       "      <td>0.011700</td>\n",
       "      <td>0.001438</td>\n",
       "    </tr>\n",
       "    <tr>\n",
       "      <th>HasMultiplePhoneNumbers</th>\n",
       "      <td>0.013094</td>\n",
       "      <td>0.000550</td>\n",
       "    </tr>\n",
       "    <tr>\n",
       "      <th>HasDeviceProtection</th>\n",
       "      <td>0.005387</td>\n",
       "      <td>0.000118</td>\n",
       "    </tr>\n",
       "    <tr>\n",
       "      <th>HasPhoneService</th>\n",
       "      <td>0.000651</td>\n",
       "      <td>-0.000243</td>\n",
       "    </tr>\n",
       "    <tr>\n",
       "      <th>HasChild</th>\n",
       "      <td>0.004056</td>\n",
       "      <td>-0.000652</td>\n",
       "    </tr>\n",
       "    <tr>\n",
       "      <th>PaymentMethod</th>\n",
       "      <td>0.021136</td>\n",
       "      <td>-0.001190</td>\n",
       "    </tr>\n",
       "    <tr>\n",
       "      <th>HasOnlineTV</th>\n",
       "      <td>0.007571</td>\n",
       "      <td>-0.001485</td>\n",
       "    </tr>\n",
       "    <tr>\n",
       "      <th>HasPartner</th>\n",
       "      <td>0.008006</td>\n",
       "      <td>-0.003711</td>\n",
       "    </tr>\n",
       "    <tr>\n",
       "      <th>random_feature</th>\n",
       "      <td>0.045181</td>\n",
       "      <td>-0.005608</td>\n",
       "    </tr>\n",
       "  </tbody>\n",
       "</table>\n",
       "</div>"
      ],
      "text/plain": [
       "                          Perm_Importance_Tr  Perm_Importance_Te\n",
       "Feature                                                         \n",
       "HasContractPhone                    0.033131            0.047776\n",
       "ClientPeriod                        0.052939            0.041807\n",
       "HasInternetService                  0.009844            0.017161\n",
       "TotalSpent                          0.049091            0.014944\n",
       "HasOnlineSecurityService            0.006695            0.009361\n",
       "HasTechSupportAccess                0.006476            0.009257\n",
       "MonthlySpending                     0.034535            0.007685\n",
       "IsSeniorCitizen                     0.005377            0.003288\n",
       "HasOnlineBackup                     0.006168            0.002970\n",
       "Sex                                 0.006705            0.002932\n",
       "HasMovieSubscription                0.005832            0.001795\n",
       "IsBillingPaperless                  0.011700            0.001438\n",
       "HasMultiplePhoneNumbers             0.013094            0.000550\n",
       "HasDeviceProtection                 0.005387            0.000118\n",
       "HasPhoneService                     0.000651           -0.000243\n",
       "HasChild                            0.004056           -0.000652\n",
       "PaymentMethod                       0.021136           -0.001190\n",
       "HasOnlineTV                         0.007571           -0.001485\n",
       "HasPartner                          0.008006           -0.003711\n",
       "random_feature                      0.045181           -0.005608"
      ]
     },
     "metadata": {},
     "output_type": "display_data"
    },
    {
     "name": "stdout",
     "output_type": "stream",
     "text": [
      "14 признаков после Permutation Importance\n"
     ]
    }
   ],
   "source": [
    "feats_after_permute = permutation_analysis(df=train,\n",
    "                                          num_columns=num_cols,\n",
    "                                          cat_columns=cat_cols,\n",
    "                                          target=target_col,\n",
    "                                          test_size=0.15,\n",
    "                                          n_iter_permute=15, \n",
    "                                          n_jobs=-1, \n",
    "                                          metric=roc_auc_score, \n",
    "                                          higher_is_better=True\n",
    "                                         )"
   ]
  },
  {
   "cell_type": "code",
   "execution_count": 16,
   "metadata": {},
   "outputs": [
    {
     "name": "stdout",
     "output_type": "stream",
     "text": [
      "3 11\n"
     ]
    }
   ],
   "source": [
    "# Обновляем признаки\n",
    "\n",
    "num_cols = list(filter(lambda x: x in feats_after_permute, num_cols))\n",
    "cat_cols = list(filter(lambda x: x in feats_after_permute, cat_cols))\n",
    "print(len(num_cols),len(cat_cols))\n",
    "\n",
    "# Обновление пайплайна трансформации\n",
    "\n",
    "prep_pipe = base_pipe(\n",
    "    num_columns=num_cols, \n",
    "    cat_columns=cat_cols)"
   ]
  },
  {
   "cell_type": "code",
   "execution_count": 17,
   "metadata": {},
   "outputs": [],
   "source": [
    "import optuna\n",
    "from optuna.samplers import TPESampler\n",
    "\n",
    "# импортируем функции для визуализации\n",
    "from optuna.visualization import plot_slice, plot_contour, plot_optimization_history"
   ]
  },
  {
   "cell_type": "code",
   "execution_count": 18,
   "metadata": {},
   "outputs": [],
   "source": [
    "class CustomCatboostCV():\n",
    "    def __init__(self, \n",
    "                 train: pd.DataFrame, \n",
    "                 target:str, \n",
    "                 main_estimator: object, \n",
    "                 main_fit_params: dict, \n",
    "                 main_prep_pipe: object, \n",
    "                 main_features: list):\n",
    "\n",
    "        self.X_train = train.reset_index(drop=True).copy()\n",
    "        self.y_train = train[target].reset_index(drop=True).copy()\n",
    "        \n",
    "        self.main_features = main_features\n",
    "        self.main_estimator = main_estimator\n",
    "        self.main_fit_params = main_fit_params\n",
    "        self.main_prep_pipe = main_prep_pipe\n",
    "        \n",
    "    def _get_metric(self, y_true, y_pred):\n",
    "        \n",
    "        result = roc_auc_score(y_true, y_pred)\n",
    "        \n",
    "        return result\n",
    "\n",
    "    def _calc_main_metric(self, X_train, X_test, y_train, y_test)-> dict:\n",
    "\n",
    "        y_pred_train = self.main_estimator.predict(X_train)\n",
    "        y_pred_test = self.main_estimator.predict(X_test)\n",
    "\n",
    "        main_train = self._get_metric(y_true=y_train, y_pred=y_pred_train)\n",
    "        main_valid = self._get_metric(y_true=y_test, y_pred=y_pred_test)\n",
    "\n",
    "        dict_temp = {'main_train': main_train, 'main_valid': main_valid}\n",
    "        \n",
    "        return dict_temp\n",
    "    \n",
    "\n",
    "    def _preprocessing(self, X_tr, X_val, y_tr, y_val):\n",
    "\n",
    "        self.main_prep_pipe.fit(X_tr, y_tr)\n",
    "\n",
    "        X_tr = self.main_prep_pipe.transform(X_tr).reset_index(drop=True)\n",
    "        X_val = self.main_prep_pipe.transform(X_val).reset_index(drop=True)\n",
    "        \n",
    "        y_tr = y_tr.reset_index(drop=True)\n",
    "        y_val = y_val.reset_index(drop=True)\n",
    "\n",
    "        return X_tr, X_val, y_tr, y_val\n",
    "\n",
    "    def _model_fit(self, \n",
    "                   X_train: pd.DataFrame, \n",
    "                   y_train: pd.DataFrame, \n",
    "                   X_val=None, \n",
    "                   y_val=None):\n",
    "\n",
    "\n",
    "        # если не аплифт модель, то просто применяем конвейер\n",
    "        X_train_new, X_val_new, y_train, y_val = self._preprocessing(\n",
    "            X_tr=X_train, X_val=X_val, y_tr=y_train, y_val=y_val)\n",
    "        \n",
    "        self.main_fit_params.update({'X':X_train_new, \n",
    "                                     'y':y_train, \n",
    "                                     'eval_set':[(X_train_new, y_train), (X_val_new, y_val)]\n",
    "                                    })\n",
    "\n",
    "        # Обучаем модель на трейне\n",
    "        self.main_estimator.fit(**self.main_fit_params)\n",
    "\n",
    "        print('BEST ITERATION: ', self.main_estimator.get_best_iteration())\n",
    "        best_iteration = self.main_estimator.get_best_iteration()\n",
    "        feature_imp = self.main_estimator.get_feature_importance(prettified=True, fstr_type='PredictionValuesChange')\n",
    "        evals = self.main_estimator.get_evals_result()\n",
    "        \n",
    "\n",
    "        # формируем предсказания для тестовой выборки\n",
    "        x_test_predict = self.main_estimator.predict_proba(X_val_new)[:,1]\n",
    "        main_metric = self._calc_main_metric(X_train = X_train_new, X_test=X_val_new, y_train=y_train, y_test=y_val)\n",
    "\n",
    "        return best_iteration, feature_imp, evals, main_metric\n",
    "\n",
    "    def model_fit_cv(self, strat):\n",
    "        i=0\n",
    "        \n",
    "        self._test_group = []\n",
    "\n",
    "        self._best_iters = []\n",
    "        self._fi = []\n",
    "        self._boost_logs = {}\n",
    "        self._main_scores = {}\n",
    "\n",
    "        # убрать X_train_global\n",
    "\n",
    "        X_train_global = self.X_train[self.main_features].reset_index(drop=True).copy()\n",
    "        y_train_global = self.y_train.reset_index(drop=True).copy()\n",
    "\n",
    "        for (train_index, test_index) in tqdm(strat.split(X_train_global, y_train_global)):\n",
    "            i+=1\n",
    "\n",
    "            print(f'==================== Обучение {i} фолда! ====================')\n",
    "\n",
    "            X_train, X_test = X_train_global.iloc[train_index],X_train_global.iloc[test_index]\n",
    "            y_train, y_test = y_train_global.iloc[train_index],y_train_global.iloc[test_index]\n",
    "\n",
    "            # модель с контролем переобучения на последнем фолде\n",
    "            best_iter, imp, evals, main_metric = self._model_fit(X_train=X_train, \n",
    "                                                                 y_train=y_train,\n",
    "                                                                 X_val=X_test, \n",
    "                                                                 y_val=y_test)\n",
    "\n",
    "            self._best_iters.append(best_iter)\n",
    "            self._fi.append(imp)\n",
    "            self._boost_logs[f'evals_{i}'] = evals\n",
    "            self._main_scores[f'scores_{i}'] = main_metric\n",
    "\n",
    "            print(f\"ROC AUC на обучающей выборке: {main_metric['main_train']}\")\n",
    "            print(f\"ROC AUC на проверочной выборке: {main_metric['main_valid']}\")\n",
    "            print()\n",
    "            print(f'********************** {i} фолд обучен! ******************************')\n",
    "            print()\n",
    "            print()\n",
    "            \n",
    "        val_metrics = []\n",
    "        for i in range(1, len(self._main_scores)+1):\n",
    "            val_metrics.append(self._main_scores[f'scores_{i}']['main_valid']) \n",
    "        self.mean_cv_scores = np.mean(val_metrics)\n",
    "        print()\n",
    "        print(f\"Среднее значение ROC AUC: {self.mean_cv_scores}\")\n",
    "\n",
    "    def get_fi(self)->pd.DataFrame:\n",
    "        \n",
    "        df_fi = self._fi[0]\n",
    "        df_fi.columns = ['Feature Id', 'importance_0']\n",
    "\n",
    "        for i in range(1, len(self._fi)):\n",
    "            df1 = self._fi[i]\n",
    "            df1.columns = ['Feature Id', f'importance_{i}']\n",
    "            df_fi = df_fi.merge(\n",
    "                df1,\n",
    "                left_on = 'Feature Id',\n",
    "                right_on = 'Feature Id',\n",
    "                how='left')\n",
    "\n",
    "        filter_col = [col for col in df_fi if col.startswith('importance_')]\n",
    "        df_fi['mean_importance'] = df_fi[filter_col].mean(axis=1)\n",
    "        df_fi = df_fi.sort_values('mean_importance', ascending=False).reset_index(drop=True)\n",
    "        df_fi = df_fi.rename(columns ={'Feature Id':'index'})\n",
    "\n",
    "        return df_fi"
   ]
  },
  {
   "cell_type": "code",
   "execution_count": 19,
   "metadata": {},
   "outputs": [],
   "source": [
    "params = {'iterations':1500,\n",
    "          'loss_function':'Logloss',\n",
    "          'thread_count':-1,\n",
    "          'random_state':42,\n",
    "          'eval_metric':'AUC',\n",
    "          'verbose':0\n",
    "         }\n",
    "\n",
    "fit_params = {'use_best_model':True,\n",
    "              'early_stopping_rounds':150, \n",
    "              'verbose':0,\n",
    "              'plot':False}\n",
    "\n",
    "# задаем стратегию проверки\n",
    "strat = StratifiedKFold(\n",
    "    n_splits=3,\n",
    "    shuffle=True,\n",
    "    random_state=42)"
   ]
  },
  {
   "cell_type": "code",
   "execution_count": 20,
   "metadata": {},
   "outputs": [
    {
     "name": "stderr",
     "output_type": "stream",
     "text": [
      "\u001b[32m[I 2024-03-31 13:36:30,880]\u001b[0m A new study created in memory with name: no-name-7ce3909a-3379-4c8e-83a4-ec61692676f5\u001b[0m\n",
      "0it [00:00, ?it/s]"
     ]
    },
    {
     "name": "stdout",
     "output_type": "stream",
     "text": [
      "==================== Обучение 1 фолда! ====================\n"
     ]
    },
    {
     "name": "stderr",
     "output_type": "stream",
     "text": [
      "\r",
      "1it [00:00,  1.01it/s]"
     ]
    },
    {
     "name": "stdout",
     "output_type": "stream",
     "text": [
      "BEST ITERATION:  81\n",
      "ROC AUC на обучающей выборке: 0.7553589876033058\n",
      "ROC AUC на проверочной выборке: 0.6892224294023829\n",
      "\n",
      "********************** 1 фолд обучен! ******************************\n",
      "\n",
      "\n",
      "==================== Обучение 2 фолда! ====================\n"
     ]
    },
    {
     "name": "stderr",
     "output_type": "stream",
     "text": [
      "\r",
      "2it [00:01,  1.07it/s]"
     ]
    },
    {
     "name": "stdout",
     "output_type": "stream",
     "text": [
      "BEST ITERATION:  34\n",
      "ROC AUC на обучающей выборке: 0.744852043929225\n",
      "ROC AUC на проверочной выборке: 0.71849173553719\n",
      "\n",
      "********************** 2 фолд обучен! ******************************\n",
      "\n",
      "\n",
      "==================== Обучение 3 фолда! ====================\n"
     ]
    },
    {
     "name": "stderr",
     "output_type": "stream",
     "text": [
      "3it [00:02,  1.06it/s]\n",
      "\u001b[32m[I 2024-03-31 13:36:33,724]\u001b[0m Trial 0 finished with value: 0.705722214759472 and parameters: {'learning_rate': 0.003148911647956862, 'depth': 9, 'subsample': 0.7822573760490122, 'colsample_bylevel': 0.6922933401417407, 'l2_leaf_reg': 1.77071686435378e-07}. Best is trial 0 with value: 0.705722214759472.\u001b[0m\n"
     ]
    },
    {
     "name": "stdout",
     "output_type": "stream",
     "text": [
      "BEST ITERATION:  63\n",
      "ROC AUC на обучающей выборке: 0.7414919392687849\n",
      "ROC AUC на проверочной выборке: 0.7094524793388431\n",
      "\n",
      "********************** 3 фолд обучен! ******************************\n",
      "\n",
      "\n",
      "\n",
      "Среднее значение ROC AUC: 0.705722214759472\n"
     ]
    },
    {
     "name": "stderr",
     "output_type": "stream",
     "text": [
      "\r",
      "0it [00:00, ?it/s]"
     ]
    },
    {
     "name": "stdout",
     "output_type": "stream",
     "text": [
      "==================== Обучение 1 фолда! ====================\n"
     ]
    },
    {
     "name": "stderr",
     "output_type": "stream",
     "text": [
      "\r",
      "1it [00:00,  1.34it/s]"
     ]
    },
    {
     "name": "stdout",
     "output_type": "stream",
     "text": [
      "BEST ITERATION:  225\n",
      "ROC AUC на обучающей выборке: 0.5\n",
      "ROC AUC на проверочной выборке: 0.5\n",
      "\n",
      "********************** 1 фолд обучен! ******************************\n",
      "\n",
      "\n",
      "==================== Обучение 2 фолда! ====================\n"
     ]
    },
    {
     "name": "stderr",
     "output_type": "stream",
     "text": [
      "\r",
      "2it [00:01,  1.64it/s]"
     ]
    },
    {
     "name": "stdout",
     "output_type": "stream",
     "text": [
      "BEST ITERATION:  23\n",
      "ROC AUC на обучающей выборке: 0.5\n",
      "ROC AUC на проверочной выборке: 0.5\n",
      "\n",
      "********************** 2 фолд обучен! ******************************\n",
      "\n",
      "\n",
      "==================== Обучение 3 фолда! ====================\n"
     ]
    },
    {
     "name": "stderr",
     "output_type": "stream",
     "text": [
      "3it [00:02,  1.37it/s]\n",
      "\u001b[32m[I 2024-03-31 13:36:35,930]\u001b[0m Trial 1 finished with value: 0.5 and parameters: {'learning_rate': 0.0004207053950287938, 'depth': 1, 'subsample': 0.8845983689917747, 'colsample_bylevel': 0.6938533737439828, 'l2_leaf_reg': 0.004619347374377372}. Best is trial 0 with value: 0.705722214759472.\u001b[0m\n"
     ]
    },
    {
     "name": "stdout",
     "output_type": "stream",
     "text": [
      "BEST ITERATION:  296\n",
      "ROC AUC на обучающей выборке: 0.5\n",
      "ROC AUC на проверочной выборке: 0.5\n",
      "\n",
      "********************** 3 фолд обучен! ******************************\n",
      "\n",
      "\n",
      "\n",
      "Среднее значение ROC AUC: 0.5\n"
     ]
    },
    {
     "name": "stderr",
     "output_type": "stream",
     "text": [
      "\r",
      "0it [00:00, ?it/s]"
     ]
    },
    {
     "name": "stdout",
     "output_type": "stream",
     "text": [
      "==================== Обучение 1 фолда! ====================\n"
     ]
    },
    {
     "name": "stderr",
     "output_type": "stream",
     "text": [
      "\r",
      "1it [00:00,  1.17it/s]"
     ]
    },
    {
     "name": "stdout",
     "output_type": "stream",
     "text": [
      "BEST ITERATION:  33\n",
      "ROC AUC на обучающей выборке: 0.7292097107438017\n",
      "ROC AUC на проверочной выборке: 0.6847001360352754\n",
      "\n",
      "********************** 1 фолд обучен! ******************************\n",
      "\n",
      "\n",
      "==================== Обучение 2 фолда! ====================\n"
     ]
    },
    {
     "name": "stderr",
     "output_type": "stream",
     "text": [
      "\r",
      "2it [00:01,  1.33it/s]"
     ]
    },
    {
     "name": "stdout",
     "output_type": "stream",
     "text": [
      "BEST ITERATION:  3\n",
      "ROC AUC на обучающей выборке: 0.6951390681466185\n",
      "ROC AUC на проверочной выборке: 0.6920196280991736\n",
      "\n",
      "********************** 2 фолд обучен! ******************************\n",
      "\n",
      "\n",
      "==================== Обучение 3 фолда! ====================\n"
     ]
    },
    {
     "name": "stderr",
     "output_type": "stream",
     "text": [
      "3it [00:03,  1.08s/it]\n",
      "\u001b[32m[I 2024-03-31 13:36:39,181]\u001b[0m Trial 2 finished with value: 0.694529866281731 and parameters: {'learning_rate': 0.00012087541473056971, 'depth': 9, 'subsample': 0.8576739569300319, 'colsample_bylevel': 0.48591266506353753, 'l2_leaf_reg': 2.8483918709107956e-07}. Best is trial 0 with value: 0.705722214759472.\u001b[0m\n"
     ]
    },
    {
     "name": "stdout",
     "output_type": "stream",
     "text": [
      "BEST ITERATION:  342\n",
      "ROC AUC на обучающей выборке: 0.7285138833481954\n",
      "ROC AUC на проверочной выборке: 0.7068698347107438\n",
      "\n",
      "********************** 3 фолд обучен! ******************************\n",
      "\n",
      "\n",
      "\n",
      "Среднее значение ROC AUC: 0.694529866281731\n"
     ]
    },
    {
     "name": "stderr",
     "output_type": "stream",
     "text": [
      "\r",
      "0it [00:00, ?it/s]"
     ]
    },
    {
     "name": "stdout",
     "output_type": "stream",
     "text": [
      "==================== Обучение 1 фолда! ====================\n"
     ]
    },
    {
     "name": "stderr",
     "output_type": "stream",
     "text": [
      "\r",
      "1it [00:02,  2.77s/it]"
     ]
    },
    {
     "name": "stdout",
     "output_type": "stream",
     "text": [
      "BEST ITERATION:  1498\n",
      "ROC AUC на обучающей выборке: 0.6731017561983471\n",
      "ROC AUC на проверочной выборке: 0.6601580823717046\n",
      "\n",
      "********************** 1 фолд обучен! ******************************\n",
      "\n",
      "\n",
      "==================== Обучение 2 фолда! ====================\n"
     ]
    },
    {
     "name": "stderr",
     "output_type": "stream",
     "text": [
      "\r",
      "2it [00:03,  1.49s/it]"
     ]
    },
    {
     "name": "stdout",
     "output_type": "stream",
     "text": [
      "BEST ITERATION:  127\n",
      "ROC AUC на обучающей выборке: 0.6643352976721266\n",
      "ROC AUC на проверочной выборке: 0.6547004132231405\n",
      "\n",
      "********************** 2 фолд обучен! ******************************\n",
      "\n",
      "\n",
      "==================== Обучение 3 фолда! ====================\n"
     ]
    },
    {
     "name": "stderr",
     "output_type": "stream",
     "text": [
      "3it [00:03,  1.29s/it]\n",
      "\u001b[32m[I 2024-03-31 13:36:43,061]\u001b[0m Trial 3 finished with value: 0.6627610274572349 and parameters: {'learning_rate': 0.0005415244119402539, 'depth': 3, 'subsample': 0.6469661675743767, 'colsample_bylevel': 0.5942212735373064, 'l2_leaf_reg': 2.1371407316372935e-06}. Best is trial 0 with value: 0.705722214759472.\u001b[0m\n"
     ]
    },
    {
     "name": "stdout",
     "output_type": "stream",
     "text": [
      "BEST ITERATION:  26\n",
      "ROC AUC на обучающей выборке: 0.6541325180691792\n",
      "ROC AUC на проверочной выборке: 0.6734245867768595\n",
      "\n",
      "********************** 3 фолд обучен! ******************************\n",
      "\n",
      "\n",
      "\n",
      "Среднее значение ROC AUC: 0.6627610274572349\n"
     ]
    },
    {
     "name": "stderr",
     "output_type": "stream",
     "text": [
      "\r",
      "0it [00:00, ?it/s]"
     ]
    },
    {
     "name": "stdout",
     "output_type": "stream",
     "text": [
      "==================== Обучение 1 фолда! ====================\n"
     ]
    },
    {
     "name": "stderr",
     "output_type": "stream",
     "text": [
      "\r",
      "1it [00:00,  1.23it/s]"
     ]
    },
    {
     "name": "stdout",
     "output_type": "stream",
     "text": [
      "BEST ITERATION:  338\n",
      "ROC AUC на обучающей выборке: 0.742058367768595\n",
      "ROC AUC на проверочной выборке: 0.7173823177596398\n",
      "\n",
      "********************** 1 фолд обучен! ******************************\n",
      "\n",
      "\n",
      "==================== Обучение 2 фолда! ====================\n"
     ]
    },
    {
     "name": "stderr",
     "output_type": "stream",
     "text": [
      "\r",
      "2it [00:01,  1.28it/s]"
     ]
    },
    {
     "name": "stdout",
     "output_type": "stream",
     "text": [
      "BEST ITERATION:  345\n",
      "ROC AUC на обучающей выборке: 0.7287808144037171\n",
      "ROC AUC на проверочной выборке: 0.7196539256198348\n",
      "\n",
      "********************** 2 фолд обучен! ******************************\n",
      "\n",
      "\n",
      "==================== Обучение 3 фолда! ====================\n"
     ]
    },
    {
     "name": "stderr",
     "output_type": "stream",
     "text": [
      "3it [00:02,  1.17it/s]\n",
      "\u001b[32m[I 2024-03-31 13:36:45,635]\u001b[0m Trial 4 finished with value: 0.7254824668014227 and parameters: {'learning_rate': 0.0280163515871626, 'depth': 2, 'subsample': 0.5227764740992744, 'colsample_bylevel': 0.5595643355000384, 'l2_leaf_reg': 4.452048365748842e-05}. Best is trial 4 with value: 0.7254824668014227.\u001b[0m\n"
     ]
    },
    {
     "name": "stdout",
     "output_type": "stream",
     "text": [
      "BEST ITERATION:  371\n",
      "ROC AUC на обучающей выборке: 0.7245850835406205\n",
      "ROC AUC на проверочной выборке: 0.7394111570247933\n",
      "\n",
      "********************** 3 фолд обучен! ******************************\n",
      "\n",
      "\n",
      "\n",
      "Среднее значение ROC AUC: 0.7254824668014227\n"
     ]
    },
    {
     "name": "stderr",
     "output_type": "stream",
     "text": [
      "\r",
      "0it [00:00, ?it/s]"
     ]
    },
    {
     "name": "stdout",
     "output_type": "stream",
     "text": [
      "==================== Обучение 1 фолда! ====================\n"
     ]
    },
    {
     "name": "stderr",
     "output_type": "stream",
     "text": [
      "\r",
      "1it [00:00,  2.11it/s]"
     ]
    },
    {
     "name": "stdout",
     "output_type": "stream",
     "text": [
      "BEST ITERATION:  67\n",
      "ROC AUC на обучающей выборке: 0.7398631198347108\n",
      "ROC AUC на проверочной выборке: 0.7198347640491604\n",
      "\n",
      "********************** 1 фолд обучен! ******************************\n",
      "\n",
      "\n",
      "==================== Обучение 2 фолда! ====================\n"
     ]
    },
    {
     "name": "stderr",
     "output_type": "stream",
     "text": [
      "\r",
      "2it [00:01,  1.16it/s]"
     ]
    },
    {
     "name": "stdout",
     "output_type": "stream",
     "text": [
      "BEST ITERATION:  55\n",
      "ROC AUC на обучающей выборке: 0.7233571273525133\n",
      "ROC AUC на проверочной выборке: 0.7141012396694215\n",
      "\n",
      "********************** 2 фолд обучен! ******************************\n",
      "\n",
      "\n",
      "==================== Обучение 3 фолда! ====================\n"
     ]
    },
    {
     "name": "stderr",
     "output_type": "stream",
     "text": [
      "3it [00:03,  1.01s/it]\n",
      "\u001b[32m[I 2024-03-31 13:36:48,669]\u001b[0m Trial 5 finished with value: 0.7234159957298855 and parameters: {'learning_rate': 0.13826232179369857, 'depth': 2, 'subsample': 0.6407586064789756, 'colsample_bylevel': 0.6883438712855351, 'l2_leaf_reg': 2.3528990899815284e-08}. Best is trial 4 with value: 0.7254824668014227.\u001b[0m\n"
     ]
    },
    {
     "name": "stdout",
     "output_type": "stream",
     "text": [
      "BEST ITERATION:  77\n",
      "ROC AUC на обучающей выборке: 0.7323975835406203\n",
      "ROC AUC на проверочной выборке: 0.7363119834710744\n",
      "\n",
      "********************** 3 фолд обучен! ******************************\n",
      "\n",
      "\n",
      "\n",
      "Среднее значение ROC AUC: 0.7234159957298855\n"
     ]
    },
    {
     "name": "stderr",
     "output_type": "stream",
     "text": [
      "\r",
      "0it [00:00, ?it/s]"
     ]
    },
    {
     "name": "stdout",
     "output_type": "stream",
     "text": [
      "==================== Обучение 1 фолда! ====================\n"
     ]
    },
    {
     "name": "stderr",
     "output_type": "stream",
     "text": [
      "\r",
      "1it [00:02,  2.25s/it]"
     ]
    },
    {
     "name": "stdout",
     "output_type": "stream",
     "text": [
      "BEST ITERATION:  618\n",
      "ROC AUC на обучающей выборке: 0.7481921487603306\n",
      "ROC AUC на проверочной выборке: 0.7182867764330613\n",
      "\n",
      "********************** 1 фолд обучен! ******************************\n",
      "\n",
      "\n",
      "==================== Обучение 2 фолда! ====================\n"
     ]
    },
    {
     "name": "stderr",
     "output_type": "stream",
     "text": [
      "\r",
      "2it [00:04,  2.00s/it]"
     ]
    },
    {
     "name": "stdout",
     "output_type": "stream",
     "text": [
      "BEST ITERATION:  458\n",
      "ROC AUC на обучающей выборке: 0.7265859664664194\n",
      "ROC AUC на проверочной выборке: 0.7257231404958678\n",
      "\n",
      "********************** 2 фолд обучен! ******************************\n",
      "\n",
      "\n",
      "==================== Обучение 3 фолда! ====================\n"
     ]
    },
    {
     "name": "stderr",
     "output_type": "stream",
     "text": [
      "3it [00:05,  1.82s/it]\n",
      "\u001b[32m[I 2024-03-31 13:36:54,145]\u001b[0m Trial 6 finished with value: 0.7250091596374668 and parameters: {'learning_rate': 0.02692646910086179, 'depth': 2, 'subsample': 0.42456737905889963, 'colsample_bylevel': 0.9542441589365409, 'l2_leaf_reg': 0.530953226900921}. Best is trial 4 with value: 0.7254824668014227.\u001b[0m\n"
     ]
    },
    {
     "name": "stdout",
     "output_type": "stream",
     "text": [
      "BEST ITERATION:  654\n",
      "ROC AUC на обучающей выборке: 0.7391119262448961\n",
      "ROC AUC на проверочной выборке: 0.7310175619834711\n",
      "\n",
      "********************** 3 фолд обучен! ******************************\n",
      "\n",
      "\n",
      "\n",
      "Среднее значение ROC AUC: 0.7250091596374668\n"
     ]
    },
    {
     "name": "stderr",
     "output_type": "stream",
     "text": [
      "\r",
      "0it [00:00, ?it/s]"
     ]
    },
    {
     "name": "stdout",
     "output_type": "stream",
     "text": [
      "==================== Обучение 1 фолда! ====================\n"
     ]
    },
    {
     "name": "stderr",
     "output_type": "stream",
     "text": [
      "\r",
      "1it [00:00,  1.83it/s]"
     ]
    },
    {
     "name": "stdout",
     "output_type": "stream",
     "text": [
      "BEST ITERATION:  66\n",
      "ROC AUC на обучающей выборке: 0.7556172520661157\n",
      "ROC AUC на проверочной выборке: 0.7262935078337556\n",
      "\n",
      "********************** 1 фолд обучен! ******************************\n",
      "\n",
      "\n",
      "==================== Обучение 2 фолда! ====================\n"
     ]
    },
    {
     "name": "stderr",
     "output_type": "stream",
     "text": [
      "\r",
      "2it [00:01,  1.82it/s]"
     ]
    },
    {
     "name": "stdout",
     "output_type": "stream",
     "text": [
      "BEST ITERATION:  37\n",
      "ROC AUC на обучающей выборке: 0.729167277772563\n",
      "ROC AUC на проверочной выборке: 0.7143595041322314\n",
      "\n",
      "********************** 2 фолд обучен! ******************************\n",
      "\n",
      "\n",
      "==================== Обучение 3 фолда! ====================\n"
     ]
    },
    {
     "name": "stderr",
     "output_type": "stream",
     "text": [
      "3it [00:01,  1.95it/s]\n",
      "\u001b[32m[I 2024-03-31 13:36:55,692]\u001b[0m Trial 7 finished with value: 0.7242775880107009 and parameters: {'learning_rate': 0.17123375973163968, 'depth': 3, 'subsample': 0.43744920663366266, 'colsample_bylevel': 0.7487618141055226, 'l2_leaf_reg': 3.320625892007924e-05}. Best is trial 4 with value: 0.7254824668014227.\u001b[0m\n"
     ]
    },
    {
     "name": "stdout",
     "output_type": "stream",
     "text": [
      "BEST ITERATION:  27\n",
      "ROC AUC на обучающей выборке: 0.7096673775050454\n",
      "ROC AUC на проверочной выборке: 0.7321797520661156\n",
      "\n",
      "********************** 3 фолд обучен! ******************************\n",
      "\n",
      "\n",
      "\n",
      "Среднее значение ROC AUC: 0.7242775880107009\n"
     ]
    },
    {
     "name": "stderr",
     "output_type": "stream",
     "text": [
      "\r",
      "0it [00:00, ?it/s]"
     ]
    },
    {
     "name": "stdout",
     "output_type": "stream",
     "text": [
      "==================== Обучение 1 фолда! ====================\n"
     ]
    },
    {
     "name": "stderr",
     "output_type": "stream",
     "text": [
      "\r",
      "1it [00:00,  1.40it/s]"
     ]
    },
    {
     "name": "stdout",
     "output_type": "stream",
     "text": [
      "BEST ITERATION:  147\n",
      "ROC AUC на обучающей выборке: 0.6895015495867768\n",
      "ROC AUC на проверочной выборке: 0.6711391195234073\n",
      "\n",
      "********************** 1 фолд обучен! ******************************\n",
      "\n",
      "\n",
      "==================== Обучение 2 фолда! ====================\n"
     ]
    },
    {
     "name": "stderr",
     "output_type": "stream",
     "text": [
      "\r",
      "2it [00:01,  1.13it/s]"
     ]
    },
    {
     "name": "stdout",
     "output_type": "stream",
     "text": [
      "BEST ITERATION:  247\n",
      "ROC AUC на обучающей выборке: 0.6908747712019524\n",
      "ROC AUC на проверочной выборке: 0.6836260330578513\n",
      "\n",
      "********************** 2 фолд обучен! ******************************\n",
      "\n",
      "\n",
      "==================== Обучение 3 фолда! ====================\n"
     ]
    },
    {
     "name": "stderr",
     "output_type": "stream",
     "text": [
      "3it [00:03,  1.00s/it]\n",
      "\u001b[32m[I 2024-03-31 13:36:58,718]\u001b[0m Trial 8 finished with value: 0.6844998855711634 and parameters: {'learning_rate': 0.00030771802712506853, 'depth': 5, 'subsample': 0.41280463004086393, 'colsample_bylevel': 0.9202693545129238, 'l2_leaf_reg': 1.1755466083160747e-06}. Best is trial 4 with value: 0.7254824668014227.\u001b[0m\n"
     ]
    },
    {
     "name": "stdout",
     "output_type": "stream",
     "text": [
      "BEST ITERATION:  415\n",
      "ROC AUC на обучающей выборке: 0.686935704815319\n",
      "ROC AUC на проверочной выборке: 0.6987345041322315\n",
      "\n",
      "********************** 3 фолд обучен! ******************************\n",
      "\n",
      "\n",
      "\n",
      "Среднее значение ROC AUC: 0.6844998855711634\n"
     ]
    },
    {
     "name": "stderr",
     "output_type": "stream",
     "text": [
      "\r",
      "0it [00:00, ?it/s]"
     ]
    },
    {
     "name": "stdout",
     "output_type": "stream",
     "text": [
      "==================== Обучение 1 фолда! ====================\n"
     ]
    },
    {
     "name": "stderr",
     "output_type": "stream",
     "text": [
      "\r",
      "1it [00:00,  1.32it/s]"
     ]
    },
    {
     "name": "stdout",
     "output_type": "stream",
     "text": [
      "BEST ITERATION:  250\n",
      "ROC AUC на обучающей выборке: 0.7534220041322314\n",
      "ROC AUC на проверочной выборке: 0.7204841565812928\n",
      "\n",
      "********************** 1 фолд обучен! ******************************\n",
      "\n",
      "\n",
      "==================== Обучение 2 фолда! ====================\n"
     ]
    },
    {
     "name": "stderr",
     "output_type": "stream",
     "text": [
      "\r",
      "2it [00:01,  1.38it/s]"
     ]
    },
    {
     "name": "stdout",
     "output_type": "stream",
     "text": [
      "BEST ITERATION:  168\n",
      "ROC AUC на обучающей выборке: 0.7354951571079926\n",
      "ROC AUC на проверочной выборке: 0.7181043388429753\n",
      "\n",
      "********************** 2 фолд обучен! ******************************\n",
      "\n",
      "\n",
      "==================== Обучение 3 фолда! ====================\n"
     ]
    },
    {
     "name": "stderr",
     "output_type": "stream",
     "text": [
      "3it [00:02,  1.39it/s]\n",
      "\u001b[32m[I 2024-03-31 13:37:00,891]\u001b[0m Trial 9 finished with value: 0.7247516059127724 and parameters: {'learning_rate': 0.04467752817973906, 'depth': 3, 'subsample': 0.6441927965702634, 'colsample_bylevel': 0.6601123904545768, 'l2_leaf_reg': 3.0118659882617117e-07}. Best is trial 4 with value: 0.7254824668014227.\u001b[0m\n"
     ]
    },
    {
     "name": "stdout",
     "output_type": "stream",
     "text": [
      "BEST ITERATION:  135\n",
      "ROC AUC на обучающей выборке: 0.732913845801849\n",
      "ROC AUC на проверочной выборке: 0.7356663223140495\n",
      "\n",
      "********************** 3 фолд обучен! ******************************\n",
      "\n",
      "\n",
      "\n",
      "Среднее значение ROC AUC: 0.7247516059127724\n"
     ]
    },
    {
     "name": "stderr",
     "output_type": "stream",
     "text": [
      "\r",
      "0it [00:00, ?it/s]"
     ]
    },
    {
     "name": "stdout",
     "output_type": "stream",
     "text": [
      "==================== Обучение 1 фолда! ====================\n"
     ]
    },
    {
     "name": "stderr",
     "output_type": "stream",
     "text": [
      "\r",
      "1it [00:00,  1.86it/s]"
     ]
    },
    {
     "name": "stdout",
     "output_type": "stream",
     "text": [
      "BEST ITERATION:  2\n",
      "ROC AUC на обучающей выборке: 0.7179106404958677\n",
      "ROC AUC на проверочной выборке: 0.7007253260155738\n",
      "\n",
      "********************** 1 фолд обучен! ******************************\n",
      "\n",
      "\n",
      "==================== Обучение 2 фолда! ====================\n"
     ]
    },
    {
     "name": "stderr",
     "output_type": "stream",
     "text": [
      "\r",
      "2it [00:01,  1.92it/s]"
     ]
    },
    {
     "name": "stdout",
     "output_type": "stream",
     "text": [
      "BEST ITERATION:  3\n",
      "ROC AUC на обучающей выборке: 0.7292329105458301\n",
      "ROC AUC на проверочной выборке: 0.7214617768595042\n",
      "\n",
      "********************** 2 фолд обучен! ******************************\n",
      "\n",
      "\n",
      "==================== Обучение 3 фолда! ====================\n"
     ]
    },
    {
     "name": "stderr",
     "output_type": "stream",
     "text": [
      "3it [00:01,  1.72it/s]\n",
      "\u001b[32m[I 2024-03-31 13:37:02,666]\u001b[0m Trial 10 finished with value: 0.7153674640437587 and parameters: {'learning_rate': 0.6648925113180527, 'depth': 6, 'subsample': 0.506219832153694, 'colsample_bylevel': 0.40663779362706587, 'l2_leaf_reg': 0.001320407613266518}. Best is trial 4 with value: 0.7254824668014227.\u001b[0m\n"
     ]
    },
    {
     "name": "stdout",
     "output_type": "stream",
     "text": [
      "BEST ITERATION:  3\n",
      "ROC AUC на обучающей выборке: 0.7295566744497114\n",
      "ROC AUC на проверочной выборке: 0.7239152892561984\n",
      "\n",
      "********************** 3 фолд обучен! ******************************\n",
      "\n",
      "\n",
      "\n",
      "Среднее значение ROC AUC: 0.7153674640437587\n"
     ]
    },
    {
     "name": "stderr",
     "output_type": "stream",
     "text": [
      "\r",
      "0it [00:00, ?it/s]"
     ]
    },
    {
     "name": "stdout",
     "output_type": "stream",
     "text": [
      "==================== Обучение 1 фолда! ====================\n"
     ]
    },
    {
     "name": "stderr",
     "output_type": "stream",
     "text": [
      "\r",
      "1it [00:01,  1.38s/it]"
     ]
    },
    {
     "name": "stdout",
     "output_type": "stream",
     "text": [
      "BEST ITERATION:  341\n",
      "ROC AUC на обучающей выборке: 0.7490315082644629\n",
      "ROC AUC на проверочной выборке: 0.7104075781030116\n",
      "\n",
      "********************** 1 фолд обучен! ******************************\n",
      "\n",
      "\n",
      "==================== Обучение 2 фолда! ====================\n"
     ]
    },
    {
     "name": "stderr",
     "output_type": "stream",
     "text": [
      "\r",
      "2it [00:02,  1.22s/it]"
     ]
    },
    {
     "name": "stdout",
     "output_type": "stream",
     "text": [
      "BEST ITERATION:  331\n",
      "ROC AUC на обучающей выборке: 0.7370439438916787\n",
      "ROC AUC на проверочной выборке: 0.7081611570247933\n",
      "\n",
      "********************** 2 фолд обучен! ******************************\n",
      "\n",
      "\n",
      "==================== Обучение 3 фолда! ====================\n"
     ]
    },
    {
     "name": "stderr",
     "output_type": "stream",
     "text": [
      "3it [00:03,  1.04s/it]\n",
      "\u001b[32m[I 2024-03-31 13:37:05,816]\u001b[0m Trial 11 finished with value: 0.7084364792023813 and parameters: {'learning_rate': 0.011004938211129588, 'depth': 5, 'subsample': 0.5186594119408318, 'colsample_bylevel': 0.9525636585418586, 'l2_leaf_reg': 0.9255354142640315}. Best is trial 4 with value: 0.7254824668014227.\u001b[0m\n"
     ]
    },
    {
     "name": "stdout",
     "output_type": "stream",
     "text": [
      "BEST ITERATION:  19\n",
      "ROC AUC на обучающей выборке: 0.6869998709344347\n",
      "ROC AUC на проверочной выборке: 0.7067407024793388\n",
      "\n",
      "********************** 3 фолд обучен! ******************************\n",
      "\n",
      "\n",
      "\n",
      "Среднее значение ROC AUC: 0.7084364792023813\n"
     ]
    },
    {
     "name": "stderr",
     "output_type": "stream",
     "text": [
      "\r",
      "0it [00:00, ?it/s]"
     ]
    },
    {
     "name": "stdout",
     "output_type": "stream",
     "text": [
      "==================== Обучение 1 фолда! ====================\n"
     ]
    },
    {
     "name": "stderr",
     "output_type": "stream",
     "text": [
      "\r",
      "1it [00:01,  1.83s/it]"
     ]
    },
    {
     "name": "stdout",
     "output_type": "stream",
     "text": [
      "BEST ITERATION:  1493\n",
      "ROC AUC на обучающей выборке: 0.7373450413223142\n",
      "ROC AUC на проверочной выборке: 0.7135094169246646\n",
      "\n",
      "********************** 1 фолд обучен! ******************************\n",
      "\n",
      "\n",
      "==================== Обучение 2 фолда! ====================\n"
     ]
    },
    {
     "name": "stderr",
     "output_type": "stream",
     "text": [
      "\r",
      "2it [00:04,  2.06s/it]"
     ]
    },
    {
     "name": "stdout",
     "output_type": "stream",
     "text": [
      "BEST ITERATION:  1390\n",
      "ROC AUC на обучающей выборке: 0.7229706639836673\n",
      "ROC AUC на проверочной выборке: 0.7177169421487604\n",
      "\n",
      "********************** 2 фолд обучен! ******************************\n",
      "\n",
      "\n",
      "==================== Обучение 3 фолда! ====================\n"
     ]
    },
    {
     "name": "stderr",
     "output_type": "stream",
     "text": [
      "3it [00:06,  2.02s/it]\n",
      "\u001b[32m[I 2024-03-31 13:37:11,891]\u001b[0m Trial 12 finished with value: 0.720834061839902 and parameters: {'learning_rate': 0.012142464710441904, 'depth': 1, 'subsample': 0.5051622580187404, 'colsample_bylevel': 0.5228214157875922, 'l2_leaf_reg': 0.4612316680842598}. Best is trial 4 with value: 0.7254824668014227.\u001b[0m\n"
     ]
    },
    {
     "name": "stdout",
     "output_type": "stream",
     "text": [
      "BEST ITERATION:  1499\n",
      "ROC AUC на обучающей выборке: 0.7254892758248462\n",
      "ROC AUC на проверочной выборке: 0.731275826446281\n",
      "\n",
      "********************** 3 фолд обучен! ******************************\n",
      "\n",
      "\n",
      "\n",
      "Среднее значение ROC AUC: 0.720834061839902\n"
     ]
    },
    {
     "name": "stderr",
     "output_type": "stream",
     "text": [
      "\r",
      "0it [00:00, ?it/s]"
     ]
    },
    {
     "name": "stdout",
     "output_type": "stream",
     "text": [
      "==================== Обучение 1 фолда! ====================\n"
     ]
    },
    {
     "name": "stderr",
     "output_type": "stream",
     "text": [
      "\r",
      "1it [00:02,  2.79s/it]"
     ]
    },
    {
     "name": "stdout",
     "output_type": "stream",
     "text": [
      "BEST ITERATION:  1471\n",
      "ROC AUC на обучающей выборке: 0.7395402892561983\n",
      "ROC AUC на проверочной выборке: 0.7120830987897552\n",
      "\n",
      "********************** 1 фолд обучен! ******************************\n",
      "\n",
      "\n",
      "==================== Обучение 2 фолда! ====================\n"
     ]
    },
    {
     "name": "stderr",
     "output_type": "stream",
     "text": [
      "\r",
      "2it [00:05,  2.72s/it]"
     ]
    },
    {
     "name": "stdout",
     "output_type": "stream",
     "text": [
      "BEST ITERATION:  1463\n",
      "ROC AUC на обучающей выборке: 0.7256146747547754\n",
      "ROC AUC на проверочной выборке: 0.7108729338842976\n",
      "\n",
      "********************** 2 фолд обучен! ******************************\n",
      "\n",
      "\n",
      "==================== Обучение 3 фолда! ====================\n"
     ]
    },
    {
     "name": "stderr",
     "output_type": "stream",
     "text": [
      "3it [00:06,  2.04s/it]\n",
      "\u001b[32m[I 2024-03-31 13:37:18,034]\u001b[0m Trial 13 finished with value: 0.704260137613114 and parameters: {'learning_rate': 0.002457532745801074, 'depth': 4, 'subsample': 0.46151102925279486, 'colsample_bylevel': 0.8325443905802375, 'l2_leaf_reg': 0.018014968429693728}. Best is trial 4 with value: 0.7254824668014227.\u001b[0m\n"
     ]
    },
    {
     "name": "stdout",
     "output_type": "stream",
     "text": [
      "BEST ITERATION:  111\n",
      "ROC AUC на обучающей выборке: 0.680671991599005\n",
      "ROC AUC на проверочной выборке: 0.6898243801652891\n",
      "\n",
      "********************** 3 фолд обучен! ******************************\n",
      "\n",
      "\n",
      "\n",
      "Среднее значение ROC AUC: 0.704260137613114\n"
     ]
    },
    {
     "name": "stderr",
     "output_type": "stream",
     "text": [
      "\r",
      "0it [00:00, ?it/s]"
     ]
    },
    {
     "name": "stdout",
     "output_type": "stream",
     "text": [
      "==================== Обучение 1 фолда! ====================\n"
     ]
    },
    {
     "name": "stderr",
     "output_type": "stream",
     "text": [
      "\r",
      "1it [00:00,  1.53it/s]"
     ]
    },
    {
     "name": "stdout",
     "output_type": "stream",
     "text": [
      "BEST ITERATION:  29\n",
      "ROC AUC на обучающей выборке: 0.7489669421487604\n",
      "ROC AUC на проверочной выборке: 0.6921967351533915\n",
      "\n",
      "********************** 1 фолд обучен! ******************************\n",
      "\n",
      "\n",
      "==================== Обучение 2 фолда! ====================\n"
     ]
    },
    {
     "name": "stderr",
     "output_type": "stream",
     "text": [
      "\r",
      "2it [00:01,  1.55it/s]"
     ]
    },
    {
     "name": "stdout",
     "output_type": "stream",
     "text": [
      "BEST ITERATION:  4\n",
      "ROC AUC на обучающей выборке: 0.6922937590932557\n",
      "ROC AUC на проверочной выборке: 0.6829803719008264\n",
      "\n",
      "********************** 2 фолд обучен! ******************************\n",
      "\n",
      "\n",
      "==================== Обучение 3 фолда! ====================\n"
     ]
    },
    {
     "name": "stderr",
     "output_type": "stream",
     "text": [
      "3it [00:01,  1.63it/s]\n",
      "\u001b[32m[I 2024-03-31 13:37:19,901]\u001b[0m Trial 14 finished with value: 0.7003000825166952 and parameters: {'learning_rate': 0.040927257184569785, 'depth': 7, 'subsample': 0.5445225527822418, 'colsample_bylevel': 0.565301412381736, 'l2_leaf_reg': 0.00019228974751454855}. Best is trial 4 with value: 0.7254824668014227.\u001b[0m\n"
     ]
    },
    {
     "name": "stdout",
     "output_type": "stream",
     "text": [
      "BEST ITERATION:  25\n",
      "ROC AUC на обучающей выборке: 0.7367187133336462\n",
      "ROC AUC на проверочной выборке: 0.7257231404958678\n",
      "\n",
      "********************** 3 фолд обучен! ******************************\n",
      "\n",
      "\n",
      "\n",
      "Среднее значение ROC AUC: 0.7003000825166952\n",
      "CPU times: user 1min 23s, sys: 6.98 s, total: 1min 30s\n",
      "Wall time: 49 s\n"
     ]
    }
   ],
   "source": [
    "%%time\n",
    "\n",
    "def create_model(trial):\n",
    "    \n",
    "    param = {'learning_rate':trial.suggest_loguniform('learning_rate', 0.0001, 1.0),\n",
    "             'iterations':1500,\n",
    "             'loss_function':'Logloss',\n",
    "             'thread_count':-1,\n",
    "             'random_state':42,\n",
    "             'eval_metric':'AUC',\n",
    "             'verbose':0,\n",
    "             'depth': trial.suggest_int('depth', 1, 9),\n",
    "             'subsample':trial.suggest_loguniform('subsample', 0.4, 1.0),\n",
    "             'colsample_bylevel':trial.suggest_loguniform('colsample_bylevel', 0.4, 1.0),\n",
    "             'l2_leaf_reg': trial.suggest_loguniform('l2_leaf_reg', 1e-8, 1.0)\n",
    "            }\n",
    "        \n",
    "    fit_params = {'early_stopping_rounds':150, \n",
    "                  'verbose':0}\n",
    "\n",
    "    # создаем экземпляр класса XGBClassifier\n",
    "    catb_model = CatBoostClassifier(**param)\n",
    "    \n",
    "    model = CustomCatboostCV(\n",
    "        main_estimator=catb_model, \n",
    "        main_fit_params=fit_params,\n",
    "        main_prep_pipe=prep_pipe,\n",
    "        main_features=num_cols+cat_cols,\n",
    "\n",
    "        train=train,\n",
    "        target=target_col)\n",
    "    \n",
    "    return model\n",
    "    \n",
    "def objective(trial):\n",
    "    my_model = create_model(trial)\n",
    "    my_model.model_fit_cv(strat=strat)\n",
    "    return my_model.mean_cv_scores\n",
    "\n",
    "sampler = TPESampler(seed=42)\n",
    "\n",
    "study = optuna.create_study(direction='maximize', sampler=sampler)\n",
    "study.optimize(objective, n_trials=15)"
   ]
  },
  {
   "cell_type": "code",
   "execution_count": 21,
   "metadata": {},
   "outputs": [
    {
     "data": {
      "text/plain": [
       "{'iterations': 1500,\n",
       " 'loss_function': 'Logloss',\n",
       " 'thread_count': -1,\n",
       " 'random_state': 42,\n",
       " 'eval_metric': 'AUC',\n",
       " 'verbose': 0,\n",
       " 'learning_rate': 0.0280163515871626,\n",
       " 'depth': 2,\n",
       " 'subsample': 0.5227764740992744,\n",
       " 'colsample_bylevel': 0.5595643355000384,\n",
       " 'l2_leaf_reg': 4.452048365748842e-05}"
      ]
     },
     "execution_count": 21,
     "metadata": {},
     "output_type": "execute_result"
    }
   ],
   "source": [
    "params.update(study.best_params)\n",
    "model = CatBoostClassifier(**params)\n",
    "\n",
    "params"
   ]
  },
  {
   "cell_type": "code",
   "execution_count": 22,
   "metadata": {},
   "outputs": [],
   "source": [
    "class CustomSelection(CustomCatboostCV):\n",
    "    \n",
    "    def __init__(self,\n",
    "                 train:pd.DataFrame,\n",
    "                 target:str, \n",
    "                 main_estimator:object, \n",
    "                 main_fit_params:dict,\n",
    "                 base_pipe:object=None, \n",
    "                 num_columns:list=None, \n",
    "                 cat_columns:list=None\n",
    "                 ):\n",
    "        \n",
    "        self.X_train = train.reset_index(drop=True).copy()\n",
    "        self.y_train = train[target].reset_index(drop=True).copy()\n",
    "\n",
    "        self.num_columns = num_columns\n",
    "        self.cat_columns = cat_columns        \n",
    "        self.main_features = num_columns+cat_columns\n",
    "        \n",
    "        self.main_estimator = main_estimator\n",
    "        self.main_fit_params = main_fit_params\n",
    "        self.base_pipe = base_pipe\n",
    "        self.main_prep_pipe = self.base_pipe(num_columns=self.num_columns, cat_columns=self.cat_columns)\n",
    "        \n",
    "    def _get_score_selection(self, X, estimator, model_type, metric):\n",
    "\n",
    "        y_predict = estimator.predict_proba(X)[:,1]\n",
    "\n",
    "        return y_predict\n",
    "        \n",
    "    def backward_selection(self, strat, tol:float=0.0)->list: \n",
    "        \n",
    "        self.main_features = self.num_columns+self.cat_columns\n",
    "        self.main_prep_pipe = self.base_pipe(num_columns=self.num_columns, cat_columns=self.cat_columns)\n",
    "        self.model_fit_cv(strat=strat)\n",
    "        self.mean_metric_folds = list()\n",
    "        for i in range(1,len(self._main_scores.keys())+1):\n",
    "            self.mean_metric_folds.append(self._main_scores[f'scores_{i}']['main_valid'])\n",
    "        self.mean_metric_folds = np.array(self.mean_metric_folds)\n",
    "        mean_metric_folds = np.mean(self.mean_metric_folds)\n",
    "        fi = self.get_fi()\n",
    "        features_imp = fi[fi['mean_importance']>0]['index'].to_list()[::-1]\n",
    "        \n",
    "        bselection_res = dict()\n",
    "        bselection_res['features_stack'] = None\n",
    "        \n",
    "        print('Средняя метрика на фолдах со всеми факторами: ',np.round(np.mean(self.mean_metric_folds),6))\n",
    "        print('==========================')\n",
    "        print('Конец обучения кросс-валидации!')\n",
    "        print()\n",
    "        \n",
    "        print('Начало глубокого жадного отбора факторов Backward Selection!')\n",
    "        print('==========================')\n",
    "\n",
    "        features_to_remove = list()\n",
    "        metric_mean_list = list()\n",
    "        diff_metric_list = list()\n",
    "        count = 1\n",
    "        \n",
    "        for i in notebook.tqdm(features_imp):\n",
    "            print(f'Проверяемый признак: {i}')\n",
    "            count = count + 1\n",
    "            \n",
    "            features_stack = self.X_train[features_imp].drop(features_to_remove + [i], axis=1).columns.tolist()[::-1]\n",
    "            \n",
    "            num_stack = list(filter(lambda x: x in self.num_columns, features_stack))\n",
    "            cat_stack = list(filter(lambda x: x in self.cat_columns, features_stack))            \n",
    "            \n",
    "            self.main_features = num_stack+cat_stack\n",
    "\n",
    "            self.main_prep_pipe = self.base_pipe(num_columns=num_stack,cat_columns=cat_stack)\n",
    "            \n",
    "            self.model_fit_cv(strat=strat)\n",
    "            \n",
    "            _fold_scores = list()\n",
    "            for j in range(1,len(self._main_scores.keys())+1):\n",
    "                _fold_scores.append(self._main_scores[f'scores_{j}']['main_valid'])\n",
    "            _fold_scores = np.array(_fold_scores)\n",
    "            mean_fold_scores = np.mean(_fold_scores)\n",
    "            \n",
    "            metric_mean_list.append(mean_fold_scores)\n",
    "            print(f'Количество признаков: {len(features_stack)} => метрика: {mean_fold_scores}')\n",
    "            print('Метрика модели со всеми признаками={}'.format((mean_metric_folds)))\n",
    "            \n",
    "            diff_metric = mean_metric_folds - mean_fold_scores\n",
    "            diff_metric_list.append(diff_metric)\n",
    "            \n",
    "            # сравниваем разницу метрики с порогом, заданным заранее\n",
    "            # если разница метрики больше или равна порогу, сохраняем\n",
    "                        \n",
    "            if diff_metric >= tol:\n",
    "                print('Разница метрики ={}'.format(diff_metric))\n",
    "                print('Сохраняем: ', i)\n",
    "                print\n",
    "            # если разница метрики меньше порога, удаляем\n",
    "            else:\n",
    "                print('Разница метрики ={}'.format(diff_metric))\n",
    "                print('Удаляем: ', i)\n",
    "                print\n",
    "\n",
    "                # если разница метрики меньше порога и мы удаляем признак,\n",
    "                # мы в качестве нового опорного значения метрики задаем\n",
    "                # значение метрики для модели с оставшимися признаками\n",
    "                mean_metric_folds = mean_fold_scores\n",
    "\n",
    "                # добавляем удаляемый признак в список\n",
    "                features_to_remove.append(i)\n",
    "                  \n",
    "        \n",
    "        # определяем признаки, которые мы хотим сохранить (не удаляем)\n",
    "        features_to_keep = [x for x in features_imp if x not in features_to_remove]\n",
    "        num_stack = list(filter(lambda x: x in self.num_columns, features_to_keep))\n",
    "        cat_stack = list(filter(lambda x: x in self.cat_columns, features_to_keep))\n",
    "        \n",
    "        bselection_res['features_stack'] = features_to_keep[::-1]\n",
    "        bselection_res['features_drop'] = features_to_remove\n",
    "        bselection_res['num_features_stack'] = num_stack[::-1]\n",
    "        bselection_res['cat_features_stack'] = cat_stack[::-1]\n",
    "        bselection_res['metric_alt'] = mean_metric_folds\n",
    "\n",
    "        print('Общее количество признаков для сохранения: ', len(features_to_keep))\n",
    "        print()    \n",
    "        print('==========================')\n",
    "        print(f'Конец жадного отбора факторов Backward Selection!')\n",
    "\n",
    "        self.deep_bselection_res = bselection_res\n",
    "        self.dbackward = True \n",
    "        \n",
    "        return features_to_keep[::-1]    "
   ]
  },
  {
   "cell_type": "code",
   "execution_count": 23,
   "metadata": {},
   "outputs": [
    {
     "name": "stderr",
     "output_type": "stream",
     "text": [
      "\r",
      "0it [00:00, ?it/s]"
     ]
    },
    {
     "name": "stdout",
     "output_type": "stream",
     "text": [
      "==================== Обучение 1 фолда! ====================\n"
     ]
    },
    {
     "name": "stderr",
     "output_type": "stream",
     "text": [
      "\r",
      "1it [00:00,  1.20it/s]"
     ]
    },
    {
     "name": "stdout",
     "output_type": "stream",
     "text": [
      "BEST ITERATION:  338\n",
      "ROC AUC на обучающей выборке: 0.742058367768595\n",
      "ROC AUC на проверочной выборке: 0.7173823177596398\n",
      "\n",
      "********************** 1 фолд обучен! ******************************\n",
      "\n",
      "\n",
      "==================== Обучение 2 фолда! ====================\n"
     ]
    },
    {
     "name": "stderr",
     "output_type": "stream",
     "text": [
      "\r",
      "2it [00:01,  1.12it/s]"
     ]
    },
    {
     "name": "stdout",
     "output_type": "stream",
     "text": [
      "BEST ITERATION:  345\n",
      "ROC AUC на обучающей выборке: 0.7287808144037171\n",
      "ROC AUC на проверочной выборке: 0.7196539256198348\n",
      "\n",
      "********************** 2 фолд обучен! ******************************\n",
      "\n",
      "\n",
      "==================== Обучение 3 фолда! ====================\n"
     ]
    },
    {
     "name": "stderr",
     "output_type": "stream",
     "text": [
      "3it [00:02,  1.04it/s]"
     ]
    },
    {
     "name": "stdout",
     "output_type": "stream",
     "text": [
      "BEST ITERATION:  371\n",
      "ROC AUC на обучающей выборке: 0.7245850835406205\n",
      "ROC AUC на проверочной выборке: 0.7394111570247933\n",
      "\n",
      "********************** 3 фолд обучен! ******************************\n",
      "\n",
      "\n",
      "\n",
      "Среднее значение ROC AUC: 0.7254824668014227\n",
      "Средняя метрика на фолдах со всеми факторами:  0.725482\n",
      "==========================\n",
      "Конец обучения кросс-валидации!\n",
      "\n",
      "Начало глубокого жадного отбора факторов Backward Selection!\n",
      "==========================\n"
     ]
    },
    {
     "name": "stderr",
     "output_type": "stream",
     "text": [
      "\n"
     ]
    },
    {
     "data": {
      "application/vnd.jupyter.widget-view+json": {
       "model_id": "07f69164e75248d981ddf5f5e98e5516",
       "version_major": 2,
       "version_minor": 0
      },
      "text/plain": [
       "  0%|          | 0/14 [00:00<?, ?it/s]"
      ]
     },
     "metadata": {},
     "output_type": "display_data"
    },
    {
     "name": "stdout",
     "output_type": "stream",
     "text": [
      "Проверяемый признак: Sex\n"
     ]
    },
    {
     "name": "stderr",
     "output_type": "stream",
     "text": [
      "\n",
      "0it [00:00, ?it/s]\u001b[A"
     ]
    },
    {
     "name": "stdout",
     "output_type": "stream",
     "text": [
      "==================== Обучение 1 фолда! ====================\n"
     ]
    },
    {
     "name": "stderr",
     "output_type": "stream",
     "text": [
      "\n",
      "1it [00:00,  1.02it/s]\u001b[A"
     ]
    },
    {
     "name": "stdout",
     "output_type": "stream",
     "text": [
      "BEST ITERATION:  384\n",
      "ROC AUC на обучающей выборке: 0.7441890495867768\n",
      "ROC AUC на проверочной выборке: 0.7202232268505488\n",
      "\n",
      "********************** 1 фолд обучен! ******************************\n",
      "\n",
      "\n",
      "==================== Обучение 2 фолда! ====================\n"
     ]
    },
    {
     "name": "stderr",
     "output_type": "stream",
     "text": [
      "\n",
      "2it [00:01,  1.10it/s]\u001b[A"
     ]
    },
    {
     "name": "stdout",
     "output_type": "stream",
     "text": [
      "BEST ITERATION:  348\n",
      "ROC AUC на обучающей выборке: 0.7343984664664195\n",
      "ROC AUC на проверочной выборке: 0.7205578512396694\n",
      "\n",
      "********************** 2 фолд обучен! ******************************\n",
      "\n",
      "\n",
      "==================== Обучение 3 фолда! ====================\n"
     ]
    },
    {
     "name": "stderr",
     "output_type": "stream",
     "text": [
      "\n",
      "3it [00:02,  1.12it/s]\u001b[A\n"
     ]
    },
    {
     "name": "stdout",
     "output_type": "stream",
     "text": [
      "BEST ITERATION:  344\n",
      "ROC AUC на обучающей выборке: 0.7241971535176233\n",
      "ROC AUC на проверочной выборке: 0.7356663223140495\n",
      "\n",
      "********************** 3 фолд обучен! ******************************\n",
      "\n",
      "\n",
      "\n",
      "Среднее значение ROC AUC: 0.7254824668014225\n",
      "Количество признаков: 13 => метрика: 0.7254824668014225\n",
      "Метрика модели со всеми признаками=0.7254824668014227\n",
      "Разница метрики =2.220446049250313e-16\n",
      "Сохраняем:  Sex\n",
      "Проверяемый признак: HasDeviceProtection\n"
     ]
    },
    {
     "name": "stderr",
     "output_type": "stream",
     "text": [
      "\n",
      "0it [00:00, ?it/s]\u001b[A"
     ]
    },
    {
     "name": "stdout",
     "output_type": "stream",
     "text": [
      "==================== Обучение 1 фолда! ====================\n"
     ]
    },
    {
     "name": "stderr",
     "output_type": "stream",
     "text": [
      "\n",
      "1it [00:00,  1.14it/s]\u001b[A"
     ]
    },
    {
     "name": "stdout",
     "output_type": "stream",
     "text": [
      "BEST ITERATION:  386\n",
      "ROC AUC на обучающей выборке: 0.7427685950413223\n",
      "ROC AUC на проверочной выборке: 0.7217712144666478\n",
      "\n",
      "********************** 1 фолд обучен! ******************************\n",
      "\n",
      "\n",
      "==================== Обучение 2 фолда! ====================\n"
     ]
    },
    {
     "name": "stderr",
     "output_type": "stream",
     "text": [
      "\n",
      "2it [00:01,  1.05it/s]\u001b[A"
     ]
    },
    {
     "name": "stdout",
     "output_type": "stream",
     "text": [
      "BEST ITERATION:  365\n",
      "ROC AUC на обучающей выборке: 0.735818921011874\n",
      "ROC AUC на проверочной выборке: 0.7166838842975207\n",
      "\n",
      "********************** 2 фолд обучен! ******************************\n",
      "\n",
      "\n",
      "==================== Обучение 3 фолда! ====================\n"
     ]
    },
    {
     "name": "stderr",
     "output_type": "stream",
     "text": [
      "\n",
      "3it [00:02,  1.07it/s]\u001b[A\n"
     ]
    },
    {
     "name": "stdout",
     "output_type": "stream",
     "text": [
      "BEST ITERATION:  410\n",
      "ROC AUC на обучающей выборке: 0.7285883160463698\n",
      "ROC AUC на проверочной выборке: 0.7408316115702479\n",
      "\n",
      "********************** 3 фолд обучен! ******************************\n",
      "\n",
      "\n",
      "\n",
      "Среднее значение ROC AUC: 0.7264289034448055\n",
      "Количество признаков: 13 => метрика: 0.7264289034448055\n",
      "Метрика модели со всеми признаками=0.7254824668014227\n",
      "Разница метрики =-0.0009464366433827864\n",
      "Удаляем:  HasDeviceProtection\n",
      "Проверяемый признак: IsBillingPaperless\n"
     ]
    },
    {
     "name": "stderr",
     "output_type": "stream",
     "text": [
      "\n",
      "0it [00:00, ?it/s]\u001b[A"
     ]
    },
    {
     "name": "stdout",
     "output_type": "stream",
     "text": [
      "==================== Обучение 1 фолда! ====================\n"
     ]
    },
    {
     "name": "stderr",
     "output_type": "stream",
     "text": [
      "\n",
      "1it [00:01,  1.44s/it]\u001b[A"
     ]
    },
    {
     "name": "stdout",
     "output_type": "stream",
     "text": [
      "BEST ITERATION:  787\n",
      "ROC AUC на обучающей выборке: 0.7462551652892563\n",
      "ROC AUC на проверочной выборке: 0.7184143095037059\n",
      "\n",
      "********************** 1 фолд обучен! ******************************\n",
      "\n",
      "\n",
      "==================== Обучение 2 фолда! ====================\n"
     ]
    },
    {
     "name": "stderr",
     "output_type": "stream",
     "text": [
      "\n",
      "2it [00:02,  1.04s/it]\u001b[A"
     ]
    },
    {
     "name": "stdout",
     "output_type": "stream",
     "text": [
      "BEST ITERATION:  325\n",
      "ROC AUC на обучающей выборке: 0.7210981132961\n",
      "ROC AUC на проверочной выборке: 0.7161673553719009\n",
      "\n",
      "********************** 2 фолд обучен! ******************************\n",
      "\n",
      "\n",
      "==================== Обучение 3 фолда! ====================\n"
     ]
    },
    {
     "name": "stderr",
     "output_type": "stream",
     "text": [
      "\n",
      "3it [00:02,  1.02it/s]\u001b[A\n"
     ]
    },
    {
     "name": "stdout",
     "output_type": "stream",
     "text": [
      "BEST ITERATION:  296\n",
      "ROC AUC на обучающей выборке: 0.7163190207443564\n",
      "ROC AUC на проверочной выборке: 0.7241735537190083\n",
      "\n",
      "********************** 3 фолд обучен! ******************************\n",
      "\n",
      "\n",
      "\n",
      "Среднее значение ROC AUC: 0.7195850728648717\n",
      "Количество признаков: 12 => метрика: 0.7195850728648717\n",
      "Метрика модели со всеми признаками=0.7264289034448055\n",
      "Разница метрики =0.006843830579933763\n",
      "Сохраняем:  IsBillingPaperless\n",
      "Проверяемый признак: HasOnlineBackup\n"
     ]
    },
    {
     "name": "stderr",
     "output_type": "stream",
     "text": [
      "\n",
      "0it [00:00, ?it/s]\u001b[A"
     ]
    },
    {
     "name": "stdout",
     "output_type": "stream",
     "text": [
      "==================== Обучение 1 фолда! ====================\n"
     ]
    },
    {
     "name": "stderr",
     "output_type": "stream",
     "text": [
      "\n",
      "1it [00:01,  1.37s/it]\u001b[A"
     ]
    },
    {
     "name": "stdout",
     "output_type": "stream",
     "text": [
      "BEST ITERATION:  626\n",
      "ROC AUC на обучающей выборке: 0.7496126033057852\n",
      "ROC AUC на проверочной выборке: 0.7215161483253589\n",
      "\n",
      "********************** 1 фолд обучен! ******************************\n",
      "\n",
      "\n",
      "==================== Обучение 2 фолда! ====================\n"
     ]
    },
    {
     "name": "stderr",
     "output_type": "stream",
     "text": [
      "\n",
      "2it [00:02,  1.11s/it]\u001b[A"
     ]
    },
    {
     "name": "stdout",
     "output_type": "stream",
     "text": [
      "BEST ITERATION:  366\n",
      "ROC AUC на обучающей выборке: 0.7285868493922185\n",
      "ROC AUC на проверочной выборке: 0.725077479338843\n",
      "\n",
      "********************** 2 фолд обучен! ******************************\n",
      "\n",
      "\n",
      "==================== Обучение 3 фолда! ====================\n"
     ]
    },
    {
     "name": "stderr",
     "output_type": "stream",
     "text": [
      "\n",
      "3it [00:03,  1.05s/it]\u001b[A\n"
     ]
    },
    {
     "name": "stdout",
     "output_type": "stream",
     "text": [
      "BEST ITERATION:  336\n",
      "ROC AUC на обучающей выборке: 0.7255534419439621\n",
      "ROC AUC на проверочной выборке: 0.7337293388429752\n",
      "\n",
      "********************** 3 фолд обучен! ******************************\n",
      "\n",
      "\n",
      "\n",
      "Среднее значение ROC AUC: 0.7267743221690591\n",
      "Количество признаков: 12 => метрика: 0.7267743221690591\n",
      "Метрика модели со всеми признаками=0.7264289034448055\n",
      "Разница метрики =-0.0003454187242536433\n",
      "Удаляем:  HasOnlineBackup\n",
      "Проверяемый признак: HasMultiplePhoneNumbers\n"
     ]
    },
    {
     "name": "stderr",
     "output_type": "stream",
     "text": [
      "\n",
      "0it [00:00, ?it/s]\u001b[A"
     ]
    },
    {
     "name": "stdout",
     "output_type": "stream",
     "text": [
      "==================== Обучение 1 фолда! ====================\n"
     ]
    },
    {
     "name": "stderr",
     "output_type": "stream",
     "text": [
      "\n",
      "1it [00:00,  1.24it/s]\u001b[A"
     ]
    },
    {
     "name": "stdout",
     "output_type": "stream",
     "text": [
      "BEST ITERATION:  304\n",
      "ROC AUC на обучающей выборке: 0.7363119834710744\n",
      "ROC AUC на проверочной выборке: 0.7123440285204992\n",
      "\n",
      "********************** 1 фолд обучен! ******************************\n",
      "\n",
      "\n",
      "==================== Обучение 2 фолда! ====================\n"
     ]
    },
    {
     "name": "stderr",
     "output_type": "stream",
     "text": [
      "\n",
      "2it [00:01,  1.25it/s]\u001b[A"
     ]
    },
    {
     "name": "stdout",
     "output_type": "stream",
     "text": [
      "BEST ITERATION:  363\n",
      "ROC AUC на обучающей выборке: 0.723098996221899\n",
      "ROC AUC на проверочной выборке: 0.7233987603305785\n",
      "\n",
      "********************** 2 фолд обучен! ******************************\n",
      "\n",
      "\n",
      "==================== Обучение 3 фолда! ====================\n"
     ]
    },
    {
     "name": "stderr",
     "output_type": "stream",
     "text": [
      "\n",
      "3it [00:02,  1.29it/s]\u001b[A\n"
     ]
    },
    {
     "name": "stdout",
     "output_type": "stream",
     "text": [
      "BEST ITERATION:  275\n",
      "ROC AUC на обучающей выборке: 0.7265203336931525\n",
      "ROC AUC на проверочной выборке: 0.7298553719008264\n",
      "\n",
      "********************** 3 фолд обучен! ******************************\n",
      "\n",
      "\n",
      "\n",
      "Среднее значение ROC AUC: 0.7218660535839679\n",
      "Количество признаков: 11 => метрика: 0.7218660535839679\n",
      "Метрика модели со всеми признаками=0.7267743221690591\n",
      "Разница метрики =0.004908268585091191\n",
      "Сохраняем:  HasMultiplePhoneNumbers\n",
      "Проверяемый признак: IsSeniorCitizen\n"
     ]
    },
    {
     "name": "stderr",
     "output_type": "stream",
     "text": [
      "\n",
      "0it [00:00, ?it/s]\u001b[A"
     ]
    },
    {
     "name": "stdout",
     "output_type": "stream",
     "text": [
      "==================== Обучение 1 фолда! ====================\n"
     ]
    },
    {
     "name": "stderr",
     "output_type": "stream",
     "text": [
      "\n",
      "1it [00:00,  1.14it/s]\u001b[A"
     ]
    },
    {
     "name": "stdout",
     "output_type": "stream",
     "text": [
      "BEST ITERATION:  343\n",
      "ROC AUC на обучающей выборке: 0.7320506198347108\n",
      "ROC AUC на проверочной выборке: 0.7124715615911436\n",
      "\n",
      "********************** 1 фолд обучен! ******************************\n",
      "\n",
      "\n",
      "==================== Обучение 2 фолда! ====================\n"
     ]
    },
    {
     "name": "stderr",
     "output_type": "stream",
     "text": [
      "\n",
      "2it [00:01,  1.08it/s]\u001b[A"
     ]
    },
    {
     "name": "stdout",
     "output_type": "stream",
     "text": [
      "BEST ITERATION:  373\n",
      "ROC AUC на обучающей выборке: 0.7287808144037171\n",
      "ROC AUC на проверочной выборке: 0.7239152892561983\n",
      "\n",
      "********************** 2 фолд обучен! ******************************\n",
      "\n",
      "\n",
      "==================== Обучение 3 фолда! ====================\n"
     ]
    },
    {
     "name": "stderr",
     "output_type": "stream",
     "text": [
      "\n",
      "3it [00:02,  1.03it/s]\u001b[A\n"
     ]
    },
    {
     "name": "stdout",
     "output_type": "stream",
     "text": [
      "BEST ITERATION:  536\n",
      "ROC AUC на обучающей выборке: 0.7286524821654855\n",
      "ROC AUC на проверочной выборке: 0.7448347107438017\n",
      "\n",
      "********************** 3 фолд обучен! ******************************\n",
      "\n",
      "\n",
      "\n",
      "Среднее значение ROC AUC: 0.7270738538637146\n",
      "Количество признаков: 11 => метрика: 0.7270738538637146\n",
      "Метрика модели со всеми признаками=0.7267743221690591\n",
      "Разница метрики =-0.0002995316946554638\n",
      "Удаляем:  IsSeniorCitizen\n",
      "Проверяемый признак: HasMovieSubscription\n"
     ]
    },
    {
     "name": "stderr",
     "output_type": "stream",
     "text": [
      "\n",
      "0it [00:00, ?it/s]\u001b[A"
     ]
    },
    {
     "name": "stdout",
     "output_type": "stream",
     "text": [
      "==================== Обучение 1 фолда! ====================\n"
     ]
    },
    {
     "name": "stderr",
     "output_type": "stream",
     "text": [
      "\n",
      "1it [00:00,  1.26it/s]\u001b[A"
     ]
    },
    {
     "name": "stdout",
     "output_type": "stream",
     "text": [
      "BEST ITERATION:  363\n",
      "ROC AUC на обучающей выборке: 0.7318569214876034\n",
      "ROC AUC на проверочной выборке: 0.7070506731400694\n",
      "\n",
      "********************** 1 фолд обучен! ******************************\n",
      "\n",
      "\n",
      "==================== Обучение 2 фолда! ====================\n"
     ]
    },
    {
     "name": "stderr",
     "output_type": "stream",
     "text": [
      "\n",
      "2it [00:01,  1.24it/s]\u001b[A"
     ]
    },
    {
     "name": "stdout",
     "output_type": "stream",
     "text": [
      "BEST ITERATION:  314\n",
      "ROC AUC на обучающей выборке: 0.7185780348007698\n",
      "ROC AUC на проверочной выборке: 0.7045454545454546\n",
      "\n",
      "********************** 2 фолд обучен! ******************************\n",
      "\n",
      "\n",
      "==================== Обучение 3 фолда! ====================\n"
     ]
    },
    {
     "name": "stderr",
     "output_type": "stream",
     "text": [
      "\n",
      "3it [00:02,  1.12it/s]\u001b[A\n"
     ]
    },
    {
     "name": "stdout",
     "output_type": "stream",
     "text": [
      "BEST ITERATION:  497\n",
      "ROC AUC на обучающей выборке: 0.7291687444267143\n",
      "ROC AUC на проверочной выборке: 0.7423811983471074\n",
      "\n",
      "********************** 3 фолд обучен! ******************************\n",
      "\n",
      "\n",
      "\n",
      "Среднее значение ROC AUC: 0.7179924420108771\n",
      "Количество признаков: 10 => метрика: 0.7179924420108771\n",
      "Метрика модели со всеми признаками=0.7270738538637146\n",
      "Разница метрики =0.009081411852837507\n",
      "Сохраняем:  HasMovieSubscription\n",
      "Проверяемый признак: HasTechSupportAccess\n"
     ]
    },
    {
     "name": "stderr",
     "output_type": "stream",
     "text": [
      "\n",
      "0it [00:00, ?it/s]\u001b[A"
     ]
    },
    {
     "name": "stdout",
     "output_type": "stream",
     "text": [
      "==================== Обучение 1 фолда! ====================\n"
     ]
    },
    {
     "name": "stderr",
     "output_type": "stream",
     "text": [
      "\n",
      "1it [00:00,  1.16it/s]\u001b[A"
     ]
    },
    {
     "name": "stdout",
     "output_type": "stream",
     "text": [
      "BEST ITERATION:  372\n",
      "ROC AUC на обучающей выборке: 0.7334710743801653\n",
      "ROC AUC на проверочной выборке: 0.7119555657191107\n",
      "\n",
      "********************** 1 фолд обучен! ******************************\n",
      "\n",
      "\n",
      "==================== Обучение 2 фолда! ====================\n"
     ]
    },
    {
     "name": "stderr",
     "output_type": "stream",
     "text": [
      "\n",
      "2it [00:01,  1.11it/s]\u001b[A"
     ]
    },
    {
     "name": "stdout",
     "output_type": "stream",
     "text": [
      "BEST ITERATION:  320\n",
      "ROC AUC на обучающей выборке: 0.7229050312104004\n",
      "ROC AUC на проверочной выборке: 0.7099690082644629\n",
      "\n",
      "********************** 2 фолд обучен! ******************************\n",
      "\n",
      "\n",
      "==================== Обучение 3 фолда! ====================\n"
     ]
    },
    {
     "name": "stderr",
     "output_type": "stream",
     "text": [
      "\n",
      "3it [00:02,  1.08it/s]\u001b[A\n"
     ]
    },
    {
     "name": "stdout",
     "output_type": "stream",
     "text": [
      "BEST ITERATION:  332\n",
      "ROC AUC на обучающей выборке: 0.7199343232271084\n",
      "ROC AUC на проверочной выборке: 0.7399276859504131\n",
      "\n",
      "********************** 3 фолд обучен! ******************************\n",
      "\n",
      "\n",
      "\n",
      "Среднее значение ROC AUC: 0.7206174199779957\n",
      "Количество признаков: 10 => метрика: 0.7206174199779957\n",
      "Метрика модели со всеми признаками=0.7270738538637146\n",
      "Разница метрики =0.006456433885718926\n",
      "Сохраняем:  HasTechSupportAccess\n",
      "Проверяемый признак: HasOnlineSecurityService\n"
     ]
    },
    {
     "name": "stderr",
     "output_type": "stream",
     "text": [
      "\n",
      "0it [00:00, ?it/s]\u001b[A"
     ]
    },
    {
     "name": "stdout",
     "output_type": "stream",
     "text": [
      "==================== Обучение 1 фолда! ====================\n"
     ]
    },
    {
     "name": "stderr",
     "output_type": "stream",
     "text": [
      "\n",
      "1it [00:01,  1.12s/it]\u001b[A"
     ]
    },
    {
     "name": "stdout",
     "output_type": "stream",
     "text": [
      "BEST ITERATION:  404\n",
      "ROC AUC на обучающей выборке: 0.7326962809917357\n",
      "ROC AUC на проверочной выборке: 0.7104075781030116\n",
      "\n",
      "********************** 1 фолд обучен! ******************************\n",
      "\n",
      "\n",
      "==================== Обучение 2 фолда! ====================\n"
     ]
    },
    {
     "name": "stderr",
     "output_type": "stream",
     "text": [
      "\n",
      "2it [00:01,  1.04it/s]\u001b[A"
     ]
    },
    {
     "name": "stdout",
     "output_type": "stream",
     "text": [
      "BEST ITERATION:  284\n",
      "ROC AUC на обучающей выборке: 0.7085706868634721\n",
      "ROC AUC на проверочной выборке: 0.7119059917355371\n",
      "\n",
      "********************** 2 фолд обучен! ******************************\n",
      "\n",
      "\n",
      "==================== Обучение 3 фолда! ====================\n"
     ]
    },
    {
     "name": "stderr",
     "output_type": "stream",
     "text": [
      "\n",
      "3it [00:03,  1.03s/it]\u001b[A\n"
     ]
    },
    {
     "name": "stdout",
     "output_type": "stream",
     "text": [
      "BEST ITERATION:  345\n",
      "ROC AUC на обучающей выборке: 0.7232914945792462\n",
      "ROC AUC на проверочной выборке: 0.7311466942148761\n",
      "\n",
      "********************** 3 фолд обучен! ******************************\n",
      "\n",
      "\n",
      "\n",
      "Среднее значение ROC AUC: 0.7178200880178083\n",
      "Количество признаков: 10 => метрика: 0.7178200880178083\n",
      "Метрика модели со всеми признаками=0.7270738538637146\n",
      "Разница метрики =0.009253765845906314\n",
      "Сохраняем:  HasOnlineSecurityService\n",
      "Проверяемый признак: HasInternetService\n"
     ]
    },
    {
     "name": "stderr",
     "output_type": "stream",
     "text": [
      "\n",
      "0it [00:00, ?it/s]\u001b[A"
     ]
    },
    {
     "name": "stdout",
     "output_type": "stream",
     "text": [
      "==================== Обучение 1 фолда! ====================\n"
     ]
    },
    {
     "name": "stderr",
     "output_type": "stream",
     "text": [
      "\n",
      "1it [00:01,  1.46s/it]\u001b[A"
     ]
    },
    {
     "name": "stdout",
     "output_type": "stream",
     "text": [
      "BEST ITERATION:  379\n",
      "ROC AUC на обучающей выборке: 0.7372804752066114\n",
      "ROC AUC на проверочной выборке: 0.7027893095037059\n",
      "\n",
      "********************** 1 фолд обучен! ******************************\n",
      "\n",
      "\n",
      "==================== Обучение 2 фолда! ====================\n"
     ]
    },
    {
     "name": "stderr",
     "output_type": "stream",
     "text": [
      "\n",
      "2it [00:02,  1.23s/it]\u001b[A"
     ]
    },
    {
     "name": "stdout",
     "output_type": "stream",
     "text": [
      "BEST ITERATION:  370\n",
      "ROC AUC на обучающей выборке: 0.7254878091706951\n",
      "ROC AUC на проверочной выборке: 0.7215909090909091\n",
      "\n",
      "********************** 2 фолд обучен! ******************************\n",
      "\n",
      "\n",
      "==================== Обучение 3 фолда! ====================\n"
     ]
    },
    {
     "name": "stderr",
     "output_type": "stream",
     "text": [
      "\n",
      "3it [00:03,  1.16s/it]\u001b[A\n"
     ]
    },
    {
     "name": "stdout",
     "output_type": "stream",
     "text": [
      "BEST ITERATION:  339\n",
      "ROC AUC на обучающей выборке: 0.7242613196367391\n",
      "ROC AUC на проверочной выборке: 0.7401859504132232\n",
      "\n",
      "********************** 3 фолд обучен! ******************************\n",
      "\n",
      "\n",
      "\n",
      "Среднее значение ROC AUC: 0.721522056335946\n",
      "Количество признаков: 10 => метрика: 0.721522056335946\n",
      "Метрика модели со всеми признаками=0.7270738538637146\n",
      "Разница метрики =0.005551797527768576\n",
      "Сохраняем:  HasInternetService\n",
      "Проверяемый признак: TotalSpent\n"
     ]
    },
    {
     "name": "stderr",
     "output_type": "stream",
     "text": [
      "\n",
      "0it [00:00, ?it/s]\u001b[A"
     ]
    },
    {
     "name": "stdout",
     "output_type": "stream",
     "text": [
      "==================== Обучение 1 фолда! ====================\n"
     ]
    },
    {
     "name": "stderr",
     "output_type": "stream",
     "text": [
      "\n",
      "1it [00:01,  1.15s/it]\u001b[A"
     ]
    },
    {
     "name": "stdout",
     "output_type": "stream",
     "text": [
      "BEST ITERATION:  502\n",
      "ROC AUC на обучающей выборке: 0.7392820247933884\n",
      "ROC AUC на проверочной выборке: 0.7145414086687307\n",
      "\n",
      "********************** 1 фолд обучен! ******************************\n",
      "\n",
      "\n",
      "==================== Обучение 2 фолда! ====================\n"
     ]
    },
    {
     "name": "stderr",
     "output_type": "stream",
     "text": [
      "\n",
      "2it [00:02,  1.18s/it]\u001b[A"
     ]
    },
    {
     "name": "stdout",
     "output_type": "stream",
     "text": [
      "BEST ITERATION:  442\n",
      "ROC AUC на обучающей выборке: 0.7376914716994415\n",
      "ROC AUC на проверочной выборке: 0.7230113636363636\n",
      "\n",
      "********************** 2 фолд обучен! ******************************\n",
      "\n",
      "\n",
      "==================== Обучение 3 фолда! ====================\n"
     ]
    },
    {
     "name": "stderr",
     "output_type": "stream",
     "text": [
      "\n",
      "3it [00:03,  1.12s/it]\u001b[A\n"
     ]
    },
    {
     "name": "stdout",
     "output_type": "stream",
     "text": [
      "BEST ITERATION:  308\n",
      "ROC AUC на обучающей выборке: 0.7274259926315295\n",
      "ROC AUC на проверочной выборке: 0.7443181818181818\n",
      "\n",
      "********************** 3 фолд обучен! ******************************\n",
      "\n",
      "\n",
      "\n",
      "Среднее значение ROC AUC: 0.727290318041092\n",
      "Количество признаков: 10 => метрика: 0.727290318041092\n",
      "Метрика модели со всеми признаками=0.7270738538637146\n",
      "Разница метрики =-0.00021646417737741785\n",
      "Удаляем:  TotalSpent\n",
      "Проверяемый признак: MonthlySpending\n"
     ]
    },
    {
     "name": "stderr",
     "output_type": "stream",
     "text": [
      "\n",
      "0it [00:00, ?it/s]\u001b[A"
     ]
    },
    {
     "name": "stdout",
     "output_type": "stream",
     "text": [
      "==================== Обучение 1 фолда! ====================\n"
     ]
    },
    {
     "name": "stderr",
     "output_type": "stream",
     "text": [
      "\n",
      "1it [00:01,  1.23s/it]\u001b[A"
     ]
    },
    {
     "name": "stdout",
     "output_type": "stream",
     "text": [
      "BEST ITERATION:  552\n",
      "ROC AUC на обучающей выборке: 0.7383780991735537\n",
      "ROC AUC на проверочной выборке: 0.7211276855239703\n",
      "\n",
      "********************** 1 фолд обучен! ******************************\n",
      "\n",
      "\n",
      "==================== Обучение 2 фолда! ====================\n"
     ]
    },
    {
     "name": "stderr",
     "output_type": "stream",
     "text": [
      "\n",
      "2it [00:02,  1.13s/it]\u001b[A"
     ]
    },
    {
     "name": "stdout",
     "output_type": "stream",
     "text": [
      "BEST ITERATION:  287\n",
      "ROC AUC на обучающей выборке: 0.7284585171539869\n",
      "ROC AUC на проверочной выборке: 0.712293388429752\n",
      "\n",
      "********************** 2 фолд обучен! ******************************\n",
      "\n",
      "\n",
      "==================== Обучение 3 фолда! ====================\n"
     ]
    },
    {
     "name": "stderr",
     "output_type": "stream",
     "text": [
      "\n",
      "3it [00:03,  1.15s/it]\u001b[A\n"
     ]
    },
    {
     "name": "stdout",
     "output_type": "stream",
     "text": [
      "BEST ITERATION:  400\n",
      "ROC AUC на обучающей выборке: 0.7233585940066644\n",
      "ROC AUC на проверочной выборке: 0.7379907024793388\n",
      "\n",
      "********************** 3 фолд обучен! ******************************\n",
      "\n",
      "\n",
      "\n",
      "Среднее значение ROC AUC: 0.723803925477687\n",
      "Количество признаков: 9 => метрика: 0.723803925477687\n",
      "Метрика модели со всеми признаками=0.727290318041092\n",
      "Разница метрики =0.003486392563404994\n",
      "Сохраняем:  MonthlySpending\n",
      "Проверяемый признак: ClientPeriod\n"
     ]
    },
    {
     "name": "stderr",
     "output_type": "stream",
     "text": [
      "\n",
      "0it [00:00, ?it/s]\u001b[A"
     ]
    },
    {
     "name": "stdout",
     "output_type": "stream",
     "text": [
      "==================== Обучение 1 фолда! ====================\n"
     ]
    },
    {
     "name": "stderr",
     "output_type": "stream",
     "text": [
      "\n",
      "1it [00:00,  1.62it/s]\u001b[A"
     ]
    },
    {
     "name": "stdout",
     "output_type": "stream",
     "text": [
      "BEST ITERATION:  92\n",
      "ROC AUC на обучающей выборке: 0.702995867768595\n",
      "ROC AUC на проверочной выборке: 0.6893675532413922\n",
      "\n",
      "********************** 1 фолд обучен! ******************************\n",
      "\n",
      "\n",
      "==================== Обучение 2 фолда! ====================\n"
     ]
    },
    {
     "name": "stderr",
     "output_type": "stream",
     "text": [
      "\n",
      "2it [00:01,  1.69it/s]\u001b[A"
     ]
    },
    {
     "name": "stdout",
     "output_type": "stream",
     "text": [
      "BEST ITERATION:  79\n",
      "ROC AUC на обучающей выборке: 0.7001209256347679\n",
      "ROC AUC на проверочной выборке: 0.6951188016528925\n",
      "\n",
      "********************** 2 фолд обучен! ******************************\n",
      "\n",
      "\n",
      "==================== Обучение 3 фолда! ====================\n"
     ]
    },
    {
     "name": "stderr",
     "output_type": "stream",
     "text": [
      "\n",
      "3it [00:01,  1.79it/s]\u001b[A\n"
     ]
    },
    {
     "name": "stdout",
     "output_type": "stream",
     "text": [
      "BEST ITERATION:  24\n",
      "ROC AUC на обучающей выборке: 0.6922427928615009\n",
      "ROC AUC на проверочной выборке: 0.7108729338842974\n",
      "\n",
      "********************** 3 фолд обучен! ******************************\n",
      "\n",
      "\n",
      "\n",
      "Среднее значение ROC AUC: 0.6984530962595273\n",
      "Количество признаков: 9 => метрика: 0.6984530962595273\n",
      "Метрика модели со всеми признаками=0.727290318041092\n",
      "Разница метрики =0.02883722178156467\n",
      "Сохраняем:  ClientPeriod\n",
      "Проверяемый признак: HasContractPhone\n"
     ]
    },
    {
     "name": "stderr",
     "output_type": "stream",
     "text": [
      "\n",
      "0it [00:00, ?it/s]\u001b[A"
     ]
    },
    {
     "name": "stdout",
     "output_type": "stream",
     "text": [
      "==================== Обучение 1 фолда! ====================\n"
     ]
    },
    {
     "name": "stderr",
     "output_type": "stream",
     "text": [
      "\n",
      "1it [00:00,  1.02it/s]\u001b[A"
     ]
    },
    {
     "name": "stdout",
     "output_type": "stream",
     "text": [
      "BEST ITERATION:  489\n",
      "ROC AUC на обучающей выборке: 0.726175103305785\n",
      "ROC AUC на проверочной выборке: 0.7021399169715733\n",
      "\n",
      "********************** 1 фолд обучен! ******************************\n",
      "\n",
      "\n",
      "==================== Обучение 2 фолда! ====================\n"
     ]
    },
    {
     "name": "stderr",
     "output_type": "stream",
     "text": [
      "\n",
      "2it [00:01,  1.23it/s]\u001b[A"
     ]
    },
    {
     "name": "stdout",
     "output_type": "stream",
     "text": [
      "BEST ITERATION:  301\n",
      "ROC AUC на обучающей выборке: 0.7107013686816539\n",
      "ROC AUC на проверочной выборке: 0.6987345041322315\n",
      "\n",
      "********************** 2 фолд обучен! ******************************\n",
      "\n",
      "\n",
      "==================== Обучение 3 фолда! ====================\n"
     ]
    },
    {
     "name": "stderr",
     "output_type": "stream",
     "text": [
      "\n",
      "3it [00:02,  1.21it/s]\u001b[A"
     ]
    },
    {
     "name": "stdout",
     "output_type": "stream",
     "text": [
      "BEST ITERATION:  374\n",
      "ROC AUC на обучающей выборке: 0.7175469769324634\n",
      "ROC AUC на проверочной выборке: 0.7359245867768595\n",
      "\n",
      "********************** 3 фолд обучен! ******************************\n",
      "\n",
      "\n",
      "\n",
      "Среднее значение ROC AUC: 0.7122663359602214\n",
      "Количество признаков: 9 => метрика: 0.7122663359602214\n",
      "Метрика модели со всеми признаками=0.727290318041092\n",
      "Разница метрики =0.015023982080870635\n",
      "Сохраняем:  HasContractPhone\n",
      "Общее количество признаков для сохранения:  10\n",
      "\n",
      "==========================\n",
      "Конец жадного отбора факторов Backward Selection!\n"
     ]
    },
    {
     "name": "stderr",
     "output_type": "stream",
     "text": [
      "\n"
     ]
    }
   ],
   "source": [
    "f_selection = CustomSelection(train=train,\n",
    "                              target=target_col,\n",
    "                              main_estimator=model,\n",
    "                              main_fit_params=fit_params,\n",
    "                              base_pipe=base_pipe,\n",
    "                              num_columns=num_cols,\n",
    "                              cat_columns=cat_cols                     \n",
    "                             )\n",
    "\n",
    "feats_selected = f_selection.backward_selection(strat=strat)"
   ]
  },
  {
   "cell_type": "code",
   "execution_count": 24,
   "metadata": {},
   "outputs": [
    {
     "name": "stdout",
     "output_type": "stream",
     "text": [
      "2 8\n"
     ]
    }
   ],
   "source": [
    "# Обновляем признаки\n",
    "\n",
    "num_cols = list(filter(lambda x: x in feats_selected, num_cols))\n",
    "cat_cols = list(filter(lambda x: x in feats_selected, cat_cols))\n",
    "print(len(num_cols),len(cat_cols))\n",
    "\n",
    "# Обновление пайплайна трансформации\n",
    "\n",
    "prep_pipe = base_pipe(\n",
    "    num_columns=num_cols, \n",
    "    cat_columns=cat_cols)"
   ]
  },
  {
   "cell_type": "code",
   "execution_count": 25,
   "metadata": {},
   "outputs": [
    {
     "name": "stderr",
     "output_type": "stream",
     "text": [
      "\u001b[32m[I 2024-03-31 13:38:02,952]\u001b[0m A new study created in memory with name: no-name-46c4e7a1-0424-4f13-bb56-c32497b926a0\u001b[0m\n",
      "0it [00:00, ?it/s]"
     ]
    },
    {
     "name": "stdout",
     "output_type": "stream",
     "text": [
      "==================== Обучение 1 фолда! ====================\n"
     ]
    },
    {
     "name": "stderr",
     "output_type": "stream",
     "text": [
      "\r",
      "1it [00:00,  1.53it/s]"
     ]
    },
    {
     "name": "stdout",
     "output_type": "stream",
     "text": [
      "BEST ITERATION:  2\n",
      "ROC AUC на обучающей выборке: 0.7216554752066117\n",
      "ROC AUC на проверочной выборке: 0.692840264096069\n",
      "\n",
      "********************** 1 фолд обучен! ******************************\n",
      "\n",
      "\n",
      "==================== Обучение 2 фолда! ====================\n"
     ]
    },
    {
     "name": "stderr",
     "output_type": "stream",
     "text": [
      "\r",
      "2it [00:01,  1.42it/s]"
     ]
    },
    {
     "name": "stdout",
     "output_type": "stream",
     "text": [
      "BEST ITERATION:  28\n",
      "ROC AUC на обучающей выборке: 0.7286495488571831\n",
      "ROC AUC на проверочной выборке: 0.7100981404958678\n",
      "\n",
      "********************** 2 фолд обучен! ******************************\n",
      "\n",
      "\n",
      "==================== Обучение 3 фолда! ====================\n"
     ]
    },
    {
     "name": "stderr",
     "output_type": "stream",
     "text": [
      "3it [00:02,  1.44it/s]\n",
      "\u001b[32m[I 2024-03-31 13:38:05,052]\u001b[0m Trial 0 finished with value: 0.7076168648915271 and parameters: {'learning_rate': 0.003148911647956862, 'depth': 9, 'subsample': 0.7822573760490122, 'colsample_bylevel': 0.6922933401417407, 'l2_leaf_reg': 1.77071686435378e-07}. Best is trial 0 with value: 0.7076168648915271.\u001b[0m\n"
     ]
    },
    {
     "name": "stdout",
     "output_type": "stream",
     "text": [
      "BEST ITERATION:  17\n",
      "ROC AUC на обучающей выборке: 0.7201253549303046\n",
      "ROC AUC на проверочной выборке: 0.7199121900826446\n",
      "\n",
      "********************** 3 фолд обучен! ******************************\n",
      "\n",
      "\n",
      "\n",
      "Среднее значение ROC AUC: 0.7076168648915271\n"
     ]
    },
    {
     "name": "stderr",
     "output_type": "stream",
     "text": [
      "\r",
      "0it [00:00, ?it/s]"
     ]
    },
    {
     "name": "stdout",
     "output_type": "stream",
     "text": [
      "==================== Обучение 1 фолда! ====================\n"
     ]
    },
    {
     "name": "stderr",
     "output_type": "stream",
     "text": [
      "\r",
      "1it [00:00,  1.41it/s]"
     ]
    },
    {
     "name": "stdout",
     "output_type": "stream",
     "text": [
      "BEST ITERATION:  234\n",
      "ROC AUC на обучающей выборке: 0.5\n",
      "ROC AUC на проверочной выборке: 0.5\n",
      "\n",
      "********************** 1 фолд обучен! ******************************\n",
      "\n",
      "\n",
      "==================== Обучение 2 фолда! ====================\n"
     ]
    },
    {
     "name": "stderr",
     "output_type": "stream",
     "text": [
      "\r",
      "2it [00:01,  1.70it/s]"
     ]
    },
    {
     "name": "stdout",
     "output_type": "stream",
     "text": [
      "BEST ITERATION:  117\n",
      "ROC AUC на обучающей выборке: 0.5\n",
      "ROC AUC на проверочной выборке: 0.5\n",
      "\n",
      "********************** 2 фолд обучен! ******************************\n",
      "\n",
      "\n",
      "==================== Обучение 3 фолда! ====================\n"
     ]
    },
    {
     "name": "stderr",
     "output_type": "stream",
     "text": [
      "3it [00:03,  1.01s/it]\n",
      "\u001b[32m[I 2024-03-31 13:38:08,101]\u001b[0m Trial 1 finished with value: 0.5 and parameters: {'learning_rate': 0.0004207053950287938, 'depth': 1, 'subsample': 0.8845983689917747, 'colsample_bylevel': 0.6938533737439828, 'l2_leaf_reg': 0.004619347374377372}. Best is trial 0 with value: 0.7076168648915271.\u001b[0m\n"
     ]
    },
    {
     "name": "stdout",
     "output_type": "stream",
     "text": [
      "BEST ITERATION:  1223\n",
      "ROC AUC на обучающей выборке: 0.5\n",
      "ROC AUC на проверочной выборке: 0.5\n",
      "\n",
      "********************** 3 фолд обучен! ******************************\n",
      "\n",
      "\n",
      "\n",
      "Среднее значение ROC AUC: 0.5\n"
     ]
    },
    {
     "name": "stderr",
     "output_type": "stream",
     "text": [
      "\r",
      "0it [00:00, ?it/s]"
     ]
    },
    {
     "name": "stdout",
     "output_type": "stream",
     "text": [
      "==================== Обучение 1 фолда! ====================\n"
     ]
    },
    {
     "name": "stderr",
     "output_type": "stream",
     "text": [
      "\r",
      "1it [00:01,  1.29s/it]"
     ]
    },
    {
     "name": "stdout",
     "output_type": "stream",
     "text": [
      "BEST ITERATION:  333\n",
      "ROC AUC на обучающей выборке: 0.7156508264462811\n",
      "ROC AUC на проверочной выборке: 0.6729480368702505\n",
      "\n",
      "********************** 1 фолд обучен! ******************************\n",
      "\n",
      "\n",
      "==================== Обучение 2 фолда! ====================\n"
     ]
    },
    {
     "name": "stderr",
     "output_type": "stream",
     "text": [
      "\r",
      "2it [00:02,  1.04it/s]"
     ]
    },
    {
     "name": "stdout",
     "output_type": "stream",
     "text": [
      "BEST ITERATION:  96\n",
      "ROC AUC на обучающей выборке: 0.7123770210494204\n",
      "ROC AUC на проверочной выборке: 0.6922778925619836\n",
      "\n",
      "********************** 2 фолд обучен! ******************************\n",
      "\n",
      "\n",
      "==================== Обучение 3 фолда! ====================\n"
     ]
    },
    {
     "name": "stderr",
     "output_type": "stream",
     "text": [
      "3it [00:02,  1.13it/s]\n",
      "\u001b[32m[I 2024-03-31 13:38:10,770]\u001b[0m Trial 2 finished with value: 0.6952182161468329 and parameters: {'learning_rate': 0.00012087541473056971, 'depth': 9, 'subsample': 0.8576739569300319, 'colsample_bylevel': 0.48591266506353753, 'l2_leaf_reg': 2.8483918709107956e-07}. Best is trial 0 with value: 0.7076168648915271.\u001b[0m\n"
     ]
    },
    {
     "name": "stdout",
     "output_type": "stream",
     "text": [
      "BEST ITERATION:  59\n",
      "ROC AUC на обучающей выборке: 0.7213518444642606\n",
      "ROC AUC на проверочной выборке: 0.7204287190082643\n",
      "\n",
      "********************** 3 фолд обучен! ******************************\n",
      "\n",
      "\n",
      "\n",
      "Среднее значение ROC AUC: 0.6952182161468329\n"
     ]
    },
    {
     "name": "stderr",
     "output_type": "stream",
     "text": [
      "\r",
      "0it [00:00, ?it/s]"
     ]
    },
    {
     "name": "stdout",
     "output_type": "stream",
     "text": [
      "==================== Обучение 1 фолда! ====================\n"
     ]
    },
    {
     "name": "stderr",
     "output_type": "stream",
     "text": [
      "\r",
      "1it [00:02,  2.06s/it]"
     ]
    },
    {
     "name": "stdout",
     "output_type": "stream",
     "text": [
      "BEST ITERATION:  1496\n",
      "ROC AUC на обучающей выборке: 0.6759426652892561\n",
      "ROC AUC на проверочной выборке: 0.6649354418801015\n",
      "\n",
      "********************** 1 фолд обучен! ******************************\n",
      "\n",
      "\n",
      "==================== Обучение 2 фолда! ====================\n"
     ]
    },
    {
     "name": "stderr",
     "output_type": "stream",
     "text": [
      "\r",
      "2it [00:02,  1.16s/it]"
     ]
    },
    {
     "name": "stdout",
     "output_type": "stream",
     "text": [
      "BEST ITERATION:  155\n",
      "ROC AUC на обучающей выборке: 0.6675641367860328\n",
      "ROC AUC на проверочной выборке: 0.6650309917355371\n",
      "\n",
      "********************** 2 фолд обучен! ******************************\n",
      "\n",
      "\n",
      "==================== Обучение 3 фолда! ====================\n"
     ]
    },
    {
     "name": "stderr",
     "output_type": "stream",
     "text": [
      "3it [00:03,  1.02s/it]\n",
      "\u001b[32m[I 2024-03-31 13:38:13,839]\u001b[0m Trial 3 finished with value: 0.6649991417837252 and parameters: {'learning_rate': 0.0005415244119402539, 'depth': 3, 'subsample': 0.6469661675743767, 'colsample_bylevel': 0.5942212735373064, 'l2_leaf_reg': 2.1371407316372935e-06}. Best is trial 0 with value: 0.7076168648915271.\u001b[0m\n"
     ]
    },
    {
     "name": "stdout",
     "output_type": "stream",
     "text": [
      "BEST ITERATION:  109\n",
      "ROC AUC на обучающей выборке: 0.6526449640963063\n",
      "ROC AUC на проверочной выборке: 0.6650309917355371\n",
      "\n",
      "********************** 3 фолд обучен! ******************************\n",
      "\n",
      "\n",
      "\n",
      "Среднее значение ROC AUC: 0.6649991417837252\n"
     ]
    },
    {
     "name": "stderr",
     "output_type": "stream",
     "text": [
      "\r",
      "0it [00:00, ?it/s]"
     ]
    },
    {
     "name": "stdout",
     "output_type": "stream",
     "text": [
      "==================== Обучение 1 фолда! ====================\n"
     ]
    },
    {
     "name": "stderr",
     "output_type": "stream",
     "text": [
      "\r",
      "1it [00:00,  1.03it/s]"
     ]
    },
    {
     "name": "stdout",
     "output_type": "stream",
     "text": [
      "BEST ITERATION:  408\n",
      "ROC AUC на обучающей выборке: 0.7408316115702479\n",
      "ROC AUC на проверочной выборке: 0.7138920161365981\n",
      "\n",
      "********************** 1 фолд обучен! ******************************\n",
      "\n",
      "\n",
      "==================== Обучение 2 фолда! ====================\n"
     ]
    },
    {
     "name": "stderr",
     "output_type": "stream",
     "text": [
      "\r",
      "2it [00:01,  1.03it/s]"
     ]
    },
    {
     "name": "stdout",
     "output_type": "stream",
     "text": [
      "BEST ITERATION:  364\n",
      "ROC AUC на обучающей выборке: 0.7314292251372788\n",
      "ROC AUC на проверочной выборке: 0.7192665289256199\n",
      "\n",
      "********************** 2 фолд обучен! ******************************\n",
      "\n",
      "\n",
      "==================== Обучение 3 фолда! ====================\n"
     ]
    },
    {
     "name": "stderr",
     "output_type": "stream",
     "text": [
      "3it [00:02,  1.09it/s]\n",
      "\u001b[32m[I 2024-03-31 13:38:16,619]\u001b[0m Trial 4 finished with value: 0.7256964433953951 and parameters: {'learning_rate': 0.0280163515871626, 'depth': 2, 'subsample': 0.5227764740992744, 'colsample_bylevel': 0.5595643355000384, 'l2_leaf_reg': 4.452048365748842e-05}. Best is trial 4 with value: 0.7256964433953951.\u001b[0m\n"
     ]
    },
    {
     "name": "stdout",
     "output_type": "stream",
     "text": [
      "BEST ITERATION:  379\n",
      "ROC AUC на обучающей выборке: 0.7271678615009152\n",
      "ROC AUC на проверочной выборке: 0.7439307851239669\n",
      "\n",
      "********************** 3 фолд обучен! ******************************\n",
      "\n",
      "\n",
      "\n",
      "Среднее значение ROC AUC: 0.7256964433953951\n"
     ]
    },
    {
     "name": "stderr",
     "output_type": "stream",
     "text": [
      "\r",
      "0it [00:00, ?it/s]"
     ]
    },
    {
     "name": "stdout",
     "output_type": "stream",
     "text": [
      "==================== Обучение 1 фолда! ====================\n"
     ]
    },
    {
     "name": "stderr",
     "output_type": "stream",
     "text": [
      "\r",
      "1it [00:00,  2.02it/s]"
     ]
    },
    {
     "name": "stdout",
     "output_type": "stream",
     "text": [
      "BEST ITERATION:  77\n",
      "ROC AUC на обучающей выборке: 0.7403150826446282\n",
      "ROC AUC на проверочной выборке: 0.720478292991838\n",
      "\n",
      "********************** 1 фолд обучен! ******************************\n",
      "\n",
      "\n",
      "==================== Обучение 2 фолда! ====================\n"
     ]
    },
    {
     "name": "stderr",
     "output_type": "stream",
     "text": [
      "\r",
      "2it [00:00,  2.13it/s]"
     ]
    },
    {
     "name": "stdout",
     "output_type": "stream",
     "text": [
      "BEST ITERATION:  68\n",
      "ROC AUC на обучающей выборке: 0.734204501454921\n",
      "ROC AUC на проверочной выборке: 0.7178460743801652\n",
      "\n",
      "********************** 2 фолд обучен! ******************************\n",
      "\n",
      "\n",
      "==================== Обучение 3 фолда! ====================\n"
     ]
    },
    {
     "name": "stderr",
     "output_type": "stream",
     "text": [
      "3it [00:01,  2.16it/s]\n",
      "\u001b[32m[I 2024-03-31 13:38:18,019]\u001b[0m Trial 5 finished with value: 0.7255244447713839 and parameters: {'learning_rate': 0.13826232179369857, 'depth': 2, 'subsample': 0.6407586064789756, 'colsample_bylevel': 0.6883438712855351, 'l2_leaf_reg': 2.3528990899815284e-08}. Best is trial 4 with value: 0.7256964433953951.\u001b[0m\n"
     ]
    },
    {
     "name": "stdout",
     "output_type": "stream",
     "text": [
      "BEST ITERATION:  53\n",
      "ROC AUC на обучающей выборке: 0.7158683912563946\n",
      "ROC AUC на проверочной выборке: 0.7382489669421488\n",
      "\n",
      "********************** 3 фолд обучен! ******************************\n",
      "\n",
      "\n",
      "\n",
      "Среднее значение ROC AUC: 0.7255244447713839\n"
     ]
    },
    {
     "name": "stderr",
     "output_type": "stream",
     "text": [
      "\r",
      "0it [00:00, ?it/s]"
     ]
    },
    {
     "name": "stdout",
     "output_type": "stream",
     "text": [
      "==================== Обучение 1 фолда! ====================\n"
     ]
    },
    {
     "name": "stderr",
     "output_type": "stream",
     "text": [
      "\r",
      "1it [00:00,  1.02it/s]"
     ]
    },
    {
     "name": "stdout",
     "output_type": "stream",
     "text": [
      "BEST ITERATION:  467\n",
      "ROC AUC на обучающей выборке: 0.7408961776859503\n",
      "ROC AUC на проверочной выборке: 0.7203507599211934\n",
      "\n",
      "********************** 1 фолд обучен! ******************************\n",
      "\n",
      "\n",
      "==================== Обучение 2 фолда! ====================\n"
     ]
    },
    {
     "name": "stderr",
     "output_type": "stream",
     "text": [
      "\r",
      "2it [00:02,  1.02s/it]"
     ]
    },
    {
     "name": "stdout",
     "output_type": "stream",
     "text": [
      "BEST ITERATION:  533\n",
      "ROC AUC на обучающей выборке: 0.7337524053128079\n",
      "ROC AUC на проверочной выборке: 0.7196539256198348\n",
      "\n",
      "********************** 2 фолд обучен! ******************************\n",
      "\n",
      "\n",
      "==================== Обучение 3 фолда! ====================\n"
     ]
    },
    {
     "name": "stderr",
     "output_type": "stream",
     "text": [
      "3it [00:02,  1.05it/s]\n",
      "\u001b[32m[I 2024-03-31 13:38:20,902]\u001b[0m Trial 6 finished with value: 0.7266871679076154 and parameters: {'learning_rate': 0.02692646910086179, 'depth': 2, 'subsample': 0.42456737905889963, 'colsample_bylevel': 0.9542441589365409, 'l2_leaf_reg': 0.530953226900921}. Best is trial 6 with value: 0.7266871679076154.\u001b[0m\n"
     ]
    },
    {
     "name": "stdout",
     "output_type": "stream",
     "text": [
      "BEST ITERATION:  390\n",
      "ROC AUC на обучающей выборке: 0.7269738964894167\n",
      "ROC AUC на проверочной выборке: 0.7400568181818182\n",
      "\n",
      "********************** 3 фолд обучен! ******************************\n",
      "\n",
      "\n",
      "\n",
      "Среднее значение ROC AUC: 0.7266871679076154\n"
     ]
    },
    {
     "name": "stderr",
     "output_type": "stream",
     "text": [
      "\r",
      "0it [00:00, ?it/s]"
     ]
    },
    {
     "name": "stdout",
     "output_type": "stream",
     "text": [
      "==================== Обучение 1 фолда! ====================\n"
     ]
    },
    {
     "name": "stderr",
     "output_type": "stream",
     "text": [
      "\r",
      "1it [00:00,  1.86it/s]"
     ]
    },
    {
     "name": "stdout",
     "output_type": "stream",
     "text": [
      "BEST ITERATION:  67\n",
      "ROC AUC на обучающей выборке: 0.7472236570247934\n",
      "ROC AUC на проверочной выборке: 0.713120954123276\n",
      "\n",
      "********************** 1 фолд обучен! ******************************\n",
      "\n",
      "\n",
      "==================== Обучение 2 фолда! ====================\n"
     ]
    },
    {
     "name": "stderr",
     "output_type": "stream",
     "text": [
      "\r",
      "2it [00:00,  2.09it/s]"
     ]
    },
    {
     "name": "stdout",
     "output_type": "stream",
     "text": [
      "BEST ITERATION:  28\n",
      "ROC AUC на обучающей выборке: 0.7161235890787065\n",
      "ROC AUC на проверочной выборке: 0.6974431818181818\n",
      "\n",
      "********************** 2 фолд обучен! ******************************\n",
      "\n",
      "\n",
      "==================== Обучение 3 фолда! ====================\n"
     ]
    },
    {
     "name": "stderr",
     "output_type": "stream",
     "text": [
      "3it [00:01,  2.15it/s]\n",
      "\u001b[32m[I 2024-03-31 13:38:22,326]\u001b[0m Trial 7 finished with value: 0.7170027836058303 and parameters: {'learning_rate': 0.17123375973163968, 'depth': 3, 'subsample': 0.43744920663366266, 'colsample_bylevel': 0.7487618141055226, 'l2_leaf_reg': 3.320625892007924e-05}. Best is trial 6 with value: 0.7266871679076154.\u001b[0m\n"
     ]
    },
    {
     "name": "stdout",
     "output_type": "stream",
     "text": [
      "BEST ITERATION:  24\n",
      "ROC AUC на обучающей выборке: 0.722324602830056\n",
      "ROC AUC на проверочной выборке: 0.7404442148760331\n",
      "\n",
      "********************** 3 фолд обучен! ******************************\n",
      "\n",
      "\n",
      "\n",
      "Среднее значение ROC AUC: 0.7170027836058303\n"
     ]
    },
    {
     "name": "stderr",
     "output_type": "stream",
     "text": [
      "\r",
      "0it [00:00, ?it/s]"
     ]
    },
    {
     "name": "stdout",
     "output_type": "stream",
     "text": [
      "==================== Обучение 1 фолда! ====================\n"
     ]
    },
    {
     "name": "stderr",
     "output_type": "stream",
     "text": [
      "\r",
      "1it [00:00,  1.54it/s]"
     ]
    },
    {
     "name": "stdout",
     "output_type": "stream",
     "text": [
      "BEST ITERATION:  112\n",
      "ROC AUC на обучающей выборке: 0.6956998966942148\n",
      "ROC AUC на проверочной выборке: 0.6725595740688619\n",
      "\n",
      "********************** 1 фолд обучен! ******************************\n",
      "\n",
      "\n",
      "==================== Обучение 2 фолда! ====================\n"
     ]
    },
    {
     "name": "stderr",
     "output_type": "stream",
     "text": [
      "\r",
      "2it [00:01,  1.32it/s]"
     ]
    },
    {
     "name": "stdout",
     "output_type": "stream",
     "text": [
      "BEST ITERATION:  244\n",
      "ROC AUC на обучающей выборке: 0.6905524739522222\n",
      "ROC AUC на проверочной выборке: 0.6862086776859504\n",
      "\n",
      "********************** 2 фолд обучен! ******************************\n",
      "\n",
      "\n",
      "==================== Обучение 3 фолда! ====================\n"
     ]
    },
    {
     "name": "stderr",
     "output_type": "stream",
     "text": [
      "3it [00:02,  1.30it/s]\n",
      "\u001b[32m[I 2024-03-31 13:38:24,656]\u001b[0m Trial 8 finished with value: 0.6863507808879677 and parameters: {'learning_rate': 0.00030771802712506853, 'depth': 5, 'subsample': 0.41280463004086393, 'colsample_bylevel': 0.9202693545129238, 'l2_leaf_reg': 1.1755466083160747e-06}. Best is trial 6 with value: 0.7266871679076154.\u001b[0m\n"
     ]
    },
    {
     "name": "stdout",
     "output_type": "stream",
     "text": [
      "BEST ITERATION:  217\n",
      "ROC AUC на обучающей выборке: 0.6897124477871123\n",
      "ROC AUC на проверочной выборке: 0.7002840909090909\n",
      "\n",
      "********************** 3 фолд обучен! ******************************\n",
      "\n",
      "\n",
      "\n",
      "Среднее значение ROC AUC: 0.6863507808879677\n"
     ]
    },
    {
     "name": "stderr",
     "output_type": "stream",
     "text": [
      "\r",
      "0it [00:00, ?it/s]"
     ]
    },
    {
     "name": "stdout",
     "output_type": "stream",
     "text": [
      "==================== Обучение 1 фолда! ====================\n"
     ]
    },
    {
     "name": "stderr",
     "output_type": "stream",
     "text": [
      "\r",
      "1it [00:00,  1.56it/s]"
     ]
    },
    {
     "name": "stdout",
     "output_type": "stream",
     "text": [
      "BEST ITERATION:  161\n",
      "ROC AUC на обучающей выборке: 0.7438016528925621\n",
      "ROC AUC на проверочной выборке: 0.7132484871939205\n",
      "\n",
      "********************** 1 фолд обучен! ******************************\n",
      "\n",
      "\n",
      "==================== Обучение 2 фолда! ====================\n"
     ]
    },
    {
     "name": "stderr",
     "output_type": "stream",
     "text": [
      "\r",
      "2it [00:01,  1.72it/s]"
     ]
    },
    {
     "name": "stdout",
     "output_type": "stream",
     "text": [
      "BEST ITERATION:  95\n",
      "ROC AUC на обучающей выборке: 0.7143808372835218\n",
      "ROC AUC на проверочной выборке: 0.7018336776859503\n",
      "\n",
      "********************** 2 фолд обучен! ******************************\n",
      "\n",
      "\n",
      "==================== Обучение 3 фолда! ====================\n"
     ]
    },
    {
     "name": "stderr",
     "output_type": "stream",
     "text": [
      "3it [00:01,  1.67it/s]\n",
      "\u001b[32m[I 2024-03-31 13:38:26,466]\u001b[0m Trial 9 finished with value: 0.7210914378800671 and parameters: {'learning_rate': 0.04467752817973906, 'depth': 3, 'subsample': 0.6441927965702634, 'colsample_bylevel': 0.6601123904545768, 'l2_leaf_reg': 3.0118659882617117e-07}. Best is trial 6 with value: 0.7266871679076154.\u001b[0m\n"
     ]
    },
    {
     "name": "stdout",
     "output_type": "stream",
     "text": [
      "BEST ITERATION:  160\n",
      "ROC AUC на обучающей выборке: 0.7311710940066645\n",
      "ROC AUC на проверочной выборке: 0.7481921487603306\n",
      "\n",
      "********************** 3 фолд обучен! ******************************\n",
      "\n",
      "\n",
      "\n",
      "Среднее значение ROC AUC: 0.7210914378800671\n"
     ]
    },
    {
     "name": "stderr",
     "output_type": "stream",
     "text": [
      "\r",
      "0it [00:00, ?it/s]"
     ]
    },
    {
     "name": "stdout",
     "output_type": "stream",
     "text": [
      "==================== Обучение 1 фолда! ====================\n"
     ]
    },
    {
     "name": "stderr",
     "output_type": "stream",
     "text": [
      "\r",
      "1it [00:00,  1.95it/s]"
     ]
    },
    {
     "name": "stdout",
     "output_type": "stream",
     "text": [
      "BEST ITERATION:  3\n",
      "ROC AUC на обучающей выборке: 0.7426394628099173\n",
      "ROC AUC на проверочной выборке: 0.6953044375644996\n",
      "\n",
      "********************** 1 фолд обучен! ******************************\n",
      "\n",
      "\n",
      "==================== Обучение 2 фолда! ====================\n"
     ]
    },
    {
     "name": "stderr",
     "output_type": "stream",
     "text": [
      "\r",
      "2it [00:00,  2.16it/s]"
     ]
    },
    {
     "name": "stdout",
     "output_type": "stream",
     "text": [
      "BEST ITERATION:  3\n",
      "ROC AUC на обучающей выборке: 0.7415007391936921\n",
      "ROC AUC на проверочной выборке: 0.7160382231404958\n",
      "\n",
      "********************** 2 фолд обучен! ******************************\n",
      "\n",
      "\n",
      "==================== Обучение 3 фолда! ====================\n"
     ]
    },
    {
     "name": "stderr",
     "output_type": "stream",
     "text": [
      "3it [00:01,  2.14it/s]\n",
      "\u001b[32m[I 2024-03-31 13:38:27,901]\u001b[0m Trial 10 finished with value: 0.719801892411307 and parameters: {'learning_rate': 0.6607883189474447, 'depth': 6, 'subsample': 0.5045288705958699, 'colsample_bylevel': 0.9597327896058049, 'l2_leaf_reg': 0.7433098422141448}. Best is trial 6 with value: 0.7266871679076154.\u001b[0m\n"
     ]
    },
    {
     "name": "stdout",
     "output_type": "stream",
     "text": [
      "BEST ITERATION:  3\n",
      "ROC AUC на обучающей выборке: 0.7285883160463698\n",
      "ROC AUC на проверочной выборке: 0.7480630165289256\n",
      "\n",
      "********************** 3 фолд обучен! ******************************\n",
      "\n",
      "\n",
      "\n",
      "Среднее значение ROC AUC: 0.719801892411307\n"
     ]
    },
    {
     "name": "stderr",
     "output_type": "stream",
     "text": [
      "\r",
      "0it [00:00, ?it/s]"
     ]
    },
    {
     "name": "stdout",
     "output_type": "stream",
     "text": [
      "==================== Обучение 1 фолда! ====================\n"
     ]
    },
    {
     "name": "stderr",
     "output_type": "stream",
     "text": [
      "\r",
      "1it [00:00,  1.08it/s]"
     ]
    },
    {
     "name": "stdout",
     "output_type": "stream",
     "text": [
      "BEST ITERATION:  325\n",
      "ROC AUC на обучающей выборке: 0.7489023760330579\n",
      "ROC AUC на проверочной выборке: 0.7096306525002345\n",
      "\n",
      "********************** 1 фолд обучен! ******************************\n",
      "\n",
      "\n",
      "==================== Обучение 2 фолда! ====================\n"
     ]
    },
    {
     "name": "stderr",
     "output_type": "stream",
     "text": [
      "\r",
      "2it [00:01,  1.18it/s]"
     ]
    },
    {
     "name": "stdout",
     "output_type": "stream",
     "text": [
      "BEST ITERATION:  266\n",
      "ROC AUC на обучающей выборке: 0.7267128320504999\n",
      "ROC AUC на проверочной выборке: 0.7019628099173555\n",
      "\n",
      "********************** 2 фолд обучен! ******************************\n",
      "\n",
      "\n",
      "==================== Обучение 3 фолда! ====================\n"
     ]
    },
    {
     "name": "stderr",
     "output_type": "stream",
     "text": [
      "3it [00:02,  1.13it/s]\n",
      "\u001b[32m[I 2024-03-31 13:38:30,590]\u001b[0m Trial 11 finished with value: 0.7180345976653674 and parameters: {'learning_rate': 0.011004938211129588, 'depth': 5, 'subsample': 0.5186594119408318, 'colsample_bylevel': 0.4297119367453282, 'l2_leaf_reg': 0.004170982973983112}. Best is trial 6 with value: 0.7266871679076154.\u001b[0m\n"
     ]
    },
    {
     "name": "stdout",
     "output_type": "stream",
     "text": [
      "BEST ITERATION:  340\n",
      "ROC AUC на обучающей выборке: 0.7383360661989018\n",
      "ROC AUC на проверочной выборке: 0.7425103305785123\n",
      "\n",
      "********************** 3 фолд обучен! ******************************\n",
      "\n",
      "\n",
      "\n",
      "Среднее значение ROC AUC: 0.7180345976653674\n"
     ]
    },
    {
     "name": "stderr",
     "output_type": "stream",
     "text": [
      "\r",
      "0it [00:00, ?it/s]"
     ]
    },
    {
     "name": "stdout",
     "output_type": "stream",
     "text": [
      "==================== Обучение 1 фолда! ====================\n"
     ]
    },
    {
     "name": "stderr",
     "output_type": "stream",
     "text": [
      "\r",
      "1it [00:01,  1.84s/it]"
     ]
    },
    {
     "name": "stdout",
     "output_type": "stream",
     "text": [
      "BEST ITERATION:  1497\n",
      "ROC AUC на обучающей выборке: 0.7306947314049587\n",
      "ROC AUC на проверочной выборке: 0.7155734004127967\n",
      "\n",
      "********************** 1 фолд обучен! ******************************\n",
      "\n",
      "\n",
      "==================== Обучение 2 фолда! ====================\n"
     ]
    },
    {
     "name": "stderr",
     "output_type": "stream",
     "text": [
      "\r",
      "2it [00:03,  1.83s/it]"
     ]
    },
    {
     "name": "stdout",
     "output_type": "stream",
     "text": [
      "BEST ITERATION:  1369\n",
      "ROC AUC на обучающей выборке: 0.7260055380860749\n",
      "ROC AUC на проверочной выборке: 0.715392561983471\n",
      "\n",
      "********************** 2 фолд обучен! ******************************\n",
      "\n",
      "\n",
      "==================== Обучение 3 фолда! ====================\n"
     ]
    },
    {
     "name": "stderr",
     "output_type": "stream",
     "text": [
      "3it [00:05,  1.84s/it]\n",
      "\u001b[32m[I 2024-03-31 13:38:36,150]\u001b[0m Trial 12 finished with value: 0.7261708166665244 and parameters: {'learning_rate': 0.012142464710441904, 'depth': 1, 'subsample': 0.5067576074387837, 'colsample_bylevel': 0.5228214157875922, 'l2_leaf_reg': 0.4612316680842598}. Best is trial 6 with value: 0.7266871679076154.\u001b[0m\n"
     ]
    },
    {
     "name": "stdout",
     "output_type": "stream",
     "text": [
      "BEST ITERATION:  1355\n",
      "ROC AUC на обучающей выборке: 0.7254251097057305\n",
      "ROC AUC на проверочной выборке: 0.7475464876033057\n",
      "\n",
      "********************** 3 фолд обучен! ******************************\n",
      "\n",
      "\n",
      "\n",
      "Среднее значение ROC AUC: 0.7261708166665244\n"
     ]
    },
    {
     "name": "stderr",
     "output_type": "stream",
     "text": [
      "\r",
      "0it [00:00, ?it/s]"
     ]
    },
    {
     "name": "stdout",
     "output_type": "stream",
     "text": [
      "==================== Обучение 1 фолда! ====================\n"
     ]
    },
    {
     "name": "stderr",
     "output_type": "stream",
     "text": [
      "\r",
      "1it [00:01,  1.03s/it]"
     ]
    },
    {
     "name": "stdout",
     "output_type": "stream",
     "text": [
      "BEST ITERATION:  560\n",
      "ROC AUC на обучающей выборке: 0.5978822314049587\n",
      "ROC AUC на проверочной выборке: 0.5999595412327611\n",
      "\n",
      "********************** 1 фолд обучен! ******************************\n",
      "\n",
      "\n",
      "==================== Обучение 2 фолда! ====================\n"
     ]
    },
    {
     "name": "stderr",
     "output_type": "stream",
     "text": [
      "\r",
      "2it [00:02,  1.50s/it]"
     ]
    },
    {
     "name": "stdout",
     "output_type": "stream",
     "text": [
      "BEST ITERATION:  1494\n",
      "ROC AUC на обучающей выборке: 0.6768612574506032\n",
      "ROC AUC на проверочной выборке: 0.6636105371900827\n",
      "\n",
      "********************** 2 фолд обучен! ******************************\n",
      "\n",
      "\n",
      "==================== Обучение 3 фолда! ====================\n"
     ]
    },
    {
     "name": "stderr",
     "output_type": "stream",
     "text": [
      "3it [00:04,  1.57s/it]\n",
      "\u001b[32m[I 2024-03-31 13:38:40,907]\u001b[0m Trial 13 finished with value: 0.645837064708441 and parameters: {'learning_rate': 0.002674276270628787, 'depth': 1, 'subsample': 0.4629409760626914, 'colsample_bylevel': 0.5108653194480437, 'l2_leaf_reg': 0.5769883659045825}. Best is trial 6 with value: 0.7266871679076154.\u001b[0m\n"
     ]
    },
    {
     "name": "stdout",
     "output_type": "stream",
     "text": [
      "BEST ITERATION:  1284\n",
      "ROC AUC на обучающей выборке: 0.654518981438025\n",
      "ROC AUC на проверочной выборке: 0.6739411157024794\n",
      "\n",
      "********************** 3 фолд обучен! ******************************\n",
      "\n",
      "\n",
      "\n",
      "Среднее значение ROC AUC: 0.645837064708441\n"
     ]
    },
    {
     "name": "stderr",
     "output_type": "stream",
     "text": [
      "\r",
      "0it [00:00, ?it/s]"
     ]
    },
    {
     "name": "stdout",
     "output_type": "stream",
     "text": [
      "==================== Обучение 1 фолда! ====================\n"
     ]
    },
    {
     "name": "stderr",
     "output_type": "stream",
     "text": [
      "\r",
      "1it [00:01,  1.22s/it]"
     ]
    },
    {
     "name": "stdout",
     "output_type": "stream",
     "text": [
      "BEST ITERATION:  371\n",
      "ROC AUC на обучающей выборке: 0.7577479338842975\n",
      "ROC AUC на проверочной выборке: 0.7033053053757389\n",
      "\n",
      "********************** 1 фолд обучен! ******************************\n",
      "\n",
      "\n",
      "==================== Обучение 2 фолда! ====================\n"
     ]
    },
    {
     "name": "stderr",
     "output_type": "stream",
     "text": [
      "\r",
      "2it [00:01,  1.24it/s]"
     ]
    },
    {
     "name": "stdout",
     "output_type": "stream",
     "text": [
      "BEST ITERATION:  21\n",
      "ROC AUC на обучающей выборке: 0.7077277273900595\n",
      "ROC AUC на проверочной выборке: 0.6944731404958677\n",
      "\n",
      "********************** 2 фолд обучен! ******************************\n",
      "\n",
      "\n",
      "==================== Обучение 3 фолда! ====================\n"
     ]
    },
    {
     "name": "stderr",
     "output_type": "stream",
     "text": [
      "3it [00:02,  1.26it/s]\n",
      "\u001b[32m[I 2024-03-31 13:38:43,340]\u001b[0m Trial 14 finished with value: 0.702840749174833 and parameters: {'learning_rate': 0.005207039941415477, 'depth': 7, 'subsample': 0.5590746419113533, 'colsample_bylevel': 0.8245642508446496, 'l2_leaf_reg': 0.03120545224146421}. Best is trial 6 with value: 0.7266871679076154.\u001b[0m\n"
     ]
    },
    {
     "name": "stdout",
     "output_type": "stream",
     "text": [
      "BEST ITERATION:  79\n",
      "ROC AUC на обучающей выборке: 0.7084379546627868\n",
      "ROC AUC на проверочной выборке: 0.7107438016528925\n",
      "\n",
      "********************** 3 фолд обучен! ******************************\n",
      "\n",
      "\n",
      "\n",
      "Среднее значение ROC AUC: 0.702840749174833\n",
      "CPU times: user 1min 20s, sys: 6.46 s, total: 1min 27s\n",
      "Wall time: 40.4 s\n"
     ]
    }
   ],
   "source": [
    "%%time\n",
    "\n",
    "def create_model(trial):\n",
    "    \n",
    "    param = {'learning_rate':trial.suggest_loguniform('learning_rate', 0.0001, 1.0),\n",
    "             'iterations':1500,\n",
    "             'loss_function':'Logloss',\n",
    "             'thread_count':-1,\n",
    "             'random_state':42,\n",
    "             'eval_metric':'AUC',\n",
    "             'verbose':0,\n",
    "             'depth': trial.suggest_int('depth', 1, 9),\n",
    "             'subsample':trial.suggest_loguniform('subsample', 0.4, 1.0),\n",
    "             'colsample_bylevel':trial.suggest_loguniform('colsample_bylevel', 0.4, 1.0),\n",
    "             'l2_leaf_reg': trial.suggest_loguniform('l2_leaf_reg', 1e-8, 1.0)\n",
    "            }\n",
    "        \n",
    "    fit_params = {'early_stopping_rounds':150, \n",
    "                  'verbose':0}\n",
    "\n",
    "    # создаем экземпляр класса XGBClassifier\n",
    "    catb_model = CatBoostClassifier(**param)\n",
    "    \n",
    "    model = CustomCatboostCV(\n",
    "        main_estimator=catb_model, \n",
    "        main_fit_params=fit_params,\n",
    "        main_prep_pipe=prep_pipe,\n",
    "        main_features=num_cols+cat_cols,\n",
    "\n",
    "        train=train,\n",
    "        target=target_col)\n",
    "    \n",
    "    return model\n",
    "    \n",
    "def objective(trial):\n",
    "    my_model = create_model(trial)\n",
    "    my_model.model_fit_cv(strat=strat)\n",
    "    return my_model.mean_cv_scores\n",
    "\n",
    "sampler = TPESampler(seed=42)\n",
    "\n",
    "study = optuna.create_study(direction='maximize', sampler=sampler)\n",
    "study.optimize(objective, n_trials=15)"
   ]
  },
  {
   "cell_type": "code",
   "execution_count": 26,
   "metadata": {},
   "outputs": [
    {
     "data": {
      "text/plain": [
       "{'iterations': 545,\n",
       " 'loss_function': 'Logloss',\n",
       " 'thread_count': -1,\n",
       " 'random_state': 42,\n",
       " 'eval_metric': 'AUC',\n",
       " 'verbose': 0,\n",
       " 'learning_rate': 0.02692646910086179,\n",
       " 'depth': 2,\n",
       " 'subsample': 0.42456737905889963,\n",
       " 'colsample_bylevel': 0.9542441589365409,\n",
       " 'l2_leaf_reg': 0.530953226900921}"
      ]
     },
     "execution_count": 26,
     "metadata": {},
     "output_type": "execute_result"
    }
   ],
   "source": [
    "params.update(study.best_params)\n",
    "params['iterations'] = int(np.mean([467,533,390])/0.85)\n",
    "model = CatBoostClassifier(**params)\n",
    "\n",
    "params"
   ]
  },
  {
   "cell_type": "code",
   "execution_count": 27,
   "metadata": {},
   "outputs": [],
   "source": [
    "class FinalModel():\n",
    "\n",
    "    def __init__(self,\n",
    "                 base_pipe: object=None,\n",
    "                 num_columns: list=None,\n",
    "                 cat_columns: list=None,\n",
    "                 estimator:object=None):\n",
    "\n",
    "\n",
    "        self.num_columns = num_columns\n",
    "        self.cat_columns = cat_columns\n",
    "        self.features = self.num_columns+self.cat_columns\n",
    "        self.base_pipe = base_pipe\n",
    "        self.estimator = estimator\n",
    "\n",
    "    def fit(self, train: pd.DataFrame, target:str):\n",
    "        \n",
    "        X_train = train.reset_index(drop=True)\n",
    "        y_train = train[target_col].reset_index(drop=True)\n",
    "\n",
    "\n",
    "        prep_pipe = self.base_pipe(\n",
    "            num_columns=self.num_columns,\n",
    "            cat_columns=self.cat_columns)\n",
    "\n",
    "        self.prep_pipe = prep_pipe.fit(X_train[self.features],y_train)\n",
    "\n",
    "        self.estimator.fit(self.prep_pipe.transform(X_train[self.features]),y_train)\n",
    "\n",
    "        return 'Пайплайн и модель обучены!'\n",
    "\n",
    "    def predict(self, X: pd.DataFrame):\n",
    "\n",
    "        predict = self.estimator.predict_proba(self.prep_pipe.transform(X[self.features]))[:, 1]\n",
    "\n",
    "        return predict"
   ]
  },
  {
   "cell_type": "code",
   "execution_count": 28,
   "metadata": {},
   "outputs": [],
   "source": [
    "final_model = FinalModel(base_pipe=base_pipe,\n",
    "                         num_columns=num_cols,\n",
    "                         cat_columns=cat_cols,\n",
    "                         estimator=model\n",
    "                        )"
   ]
  },
  {
   "cell_type": "code",
   "execution_count": 29,
   "metadata": {},
   "outputs": [
    {
     "data": {
      "text/plain": [
       "'Пайплайн и модель обучены!'"
      ]
     },
     "execution_count": 29,
     "metadata": {},
     "output_type": "execute_result"
    }
   ],
   "source": [
    "final_model.fit(train=train,target=target_col)"
   ]
  },
  {
   "cell_type": "code",
   "execution_count": 30,
   "metadata": {},
   "outputs": [
    {
     "data": {
      "image/png": "[encoded data removed]",
      "text/plain": [
       "<Figure size 2000x1000 with 1 Axes>"
      ]
     },
     "metadata": {},
     "output_type": "display_data"
    }
   ],
   "source": [
    "# Рассчитаем ROC-AUC и отрисуем ROC curve обученной модели\n",
    "\n",
    "from sklearn.metrics import roc_curve\n",
    "\n",
    "y_train_predicted = final_model.predict(train)\n",
    "y_valid_predicted = final_model.predict(valid)\n",
    "\n",
    "train_auc = roc_auc_score(train[target_col], y_train_predicted)\n",
    "test_auc = roc_auc_score(valid[target_col], y_valid_predicted)\n",
    "\n",
    "plt.figure(figsize=(20,10))\n",
    "plt.plot(*roc_curve(train[target_col], y_train_predicted)[:2], label='train AUC={:.4f}'.format(train_auc))\n",
    "plt.plot(*roc_curve(valid[target_col], y_valid_predicted)[:2], label='test AUC={:.4f}'.format(test_auc))\n",
    "legend_box = plt.legend(fontsize='large', framealpha=1).get_frame()\n",
    "legend_box.set_facecolor(\"white\")\n",
    "legend_box.set_edgecolor(\"black\")\n",
    "plt.plot(np.linspace(0,1,100), np.linspace(0,1,100))\n",
    "plt.show()"
   ]
  },
  {
   "cell_type": "code",
   "execution_count": 31,
   "metadata": {},
   "outputs": [
    {
     "data": {
      "text/plain": [
       "'Пайплайн и модель обучены!'"
      ]
     },
     "execution_count": 31,
     "metadata": {},
     "output_type": "execute_result"
    }
   ],
   "source": [
    "final_model.fit(train=data,target=target_col)"
   ]
  },
  {
   "cell_type": "code",
   "execution_count": 32,
   "metadata": {},
   "outputs": [
    {
     "data": {
      "image/png": "[encoded data removed]",
      "text/plain": [
       "<Figure size 2000x1000 with 1 Axes>"
      ]
     },
     "metadata": {},
     "output_type": "display_data"
    }
   ],
   "source": [
    "y_predicted = final_model.predict(data)\n",
    "train_auc = roc_auc_score(data[target_col], y_predicted)\n",
    "\n",
    "plt.figure(figsize=(20,10))\n",
    "plt.plot(*roc_curve(data[target_col], y_predicted)[:2], label='train AUC={:.4f}'.format(train_auc))\n",
    "legend_box = plt.legend(fontsize='large', framealpha=1).get_frame()\n",
    "legend_box.set_facecolor(\"white\")\n",
    "legend_box.set_edgecolor(\"black\")\n",
    "plt.plot(np.linspace(0,1,100), np.linspace(0,1,100))\n",
    "plt.show()"
   ]
  },
  {
   "cell_type": "code",
   "execution_count": 33,
   "metadata": {},
   "outputs": [
    {
     "name": "stdout",
     "output_type": "stream",
     "text": [
      "(1761, 19)\n"
     ]
    },
    {
     "data": {
      "text/html": [
       "<div>\n",
       "<style scoped>\n",
       "    .dataframe tbody tr th:only-of-type {\n",
       "        vertical-align: middle;\n",
       "    }\n",
       "\n",
       "    .dataframe tbody tr th {\n",
       "        vertical-align: top;\n",
       "    }\n",
       "\n",
       "    .dataframe thead th {\n",
       "        text-align: right;\n",
       "    }\n",
       "</style>\n",
       "<table border=\"1\" class=\"dataframe\">\n",
       "  <thead>\n",
       "    <tr style=\"text-align: right;\">\n",
       "      <th></th>\n",
       "      <th>ClientPeriod</th>\n",
       "      <th>MonthlySpending</th>\n",
       "      <th>TotalSpent</th>\n",
       "      <th>Sex</th>\n",
       "      <th>IsSeniorCitizen</th>\n",
       "      <th>HasPartner</th>\n",
       "      <th>HasChild</th>\n",
       "      <th>HasPhoneService</th>\n",
       "      <th>HasMultiplePhoneNumbers</th>\n",
       "      <th>HasInternetService</th>\n",
       "      <th>HasOnlineSecurityService</th>\n",
       "      <th>HasOnlineBackup</th>\n",
       "      <th>HasDeviceProtection</th>\n",
       "      <th>HasTechSupportAccess</th>\n",
       "      <th>HasOnlineTV</th>\n",
       "      <th>HasMovieSubscription</th>\n",
       "      <th>HasContractPhone</th>\n",
       "      <th>IsBillingPaperless</th>\n",
       "      <th>PaymentMethod</th>\n",
       "    </tr>\n",
       "  </thead>\n",
       "  <tbody>\n",
       "    <tr>\n",
       "      <th>0</th>\n",
       "      <td>42</td>\n",
       "      <td>56.10</td>\n",
       "      <td>2386.85</td>\n",
       "      <td>Male</td>\n",
       "      <td>0</td>\n",
       "      <td>Yes</td>\n",
       "      <td>No</td>\n",
       "      <td>Yes</td>\n",
       "      <td>Yes</td>\n",
       "      <td>DSL</td>\n",
       "      <td>Yes</td>\n",
       "      <td>No</td>\n",
       "      <td>No</td>\n",
       "      <td>No</td>\n",
       "      <td>No</td>\n",
       "      <td>No</td>\n",
       "      <td>One year</td>\n",
       "      <td>No</td>\n",
       "      <td>Credit card (automatic)</td>\n",
       "    </tr>\n",
       "    <tr>\n",
       "      <th>1</th>\n",
       "      <td>29</td>\n",
       "      <td>98.50</td>\n",
       "      <td>3004.15</td>\n",
       "      <td>Male</td>\n",
       "      <td>1</td>\n",
       "      <td>Yes</td>\n",
       "      <td>No</td>\n",
       "      <td>Yes</td>\n",
       "      <td>Yes</td>\n",
       "      <td>Fiber optic</td>\n",
       "      <td>No</td>\n",
       "      <td>No</td>\n",
       "      <td>Yes</td>\n",
       "      <td>No</td>\n",
       "      <td>Yes</td>\n",
       "      <td>Yes</td>\n",
       "      <td>Month-to-month</td>\n",
       "      <td>Yes</td>\n",
       "      <td>Electronic check</td>\n",
       "    </tr>\n",
       "    <tr>\n",
       "      <th>2</th>\n",
       "      <td>9</td>\n",
       "      <td>76.25</td>\n",
       "      <td>684.85</td>\n",
       "      <td>Male</td>\n",
       "      <td>0</td>\n",
       "      <td>No</td>\n",
       "      <td>No</td>\n",
       "      <td>Yes</td>\n",
       "      <td>Yes</td>\n",
       "      <td>Fiber optic</td>\n",
       "      <td>No</td>\n",
       "      <td>No</td>\n",
       "      <td>No</td>\n",
       "      <td>No</td>\n",
       "      <td>No</td>\n",
       "      <td>No</td>\n",
       "      <td>Month-to-month</td>\n",
       "      <td>Yes</td>\n",
       "      <td>Electronic check</td>\n",
       "    </tr>\n",
       "    <tr>\n",
       "      <th>3</th>\n",
       "      <td>67</td>\n",
       "      <td>74.00</td>\n",
       "      <td>4868.4</td>\n",
       "      <td>Female</td>\n",
       "      <td>0</td>\n",
       "      <td>Yes</td>\n",
       "      <td>Yes</td>\n",
       "      <td>Yes</td>\n",
       "      <td>Yes</td>\n",
       "      <td>DSL</td>\n",
       "      <td>Yes</td>\n",
       "      <td>Yes</td>\n",
       "      <td>No</td>\n",
       "      <td>Yes</td>\n",
       "      <td>Yes</td>\n",
       "      <td>No</td>\n",
       "      <td>Two year</td>\n",
       "      <td>No</td>\n",
       "      <td>Credit card (automatic)</td>\n",
       "    </tr>\n",
       "    <tr>\n",
       "      <th>4</th>\n",
       "      <td>71</td>\n",
       "      <td>20.10</td>\n",
       "      <td>1389.6</td>\n",
       "      <td>Female</td>\n",
       "      <td>0</td>\n",
       "      <td>Yes</td>\n",
       "      <td>Yes</td>\n",
       "      <td>Yes</td>\n",
       "      <td>No</td>\n",
       "      <td>No</td>\n",
       "      <td>No internet service</td>\n",
       "      <td>No internet service</td>\n",
       "      <td>No internet service</td>\n",
       "      <td>No internet service</td>\n",
       "      <td>No internet service</td>\n",
       "      <td>No internet service</td>\n",
       "      <td>Two year</td>\n",
       "      <td>No</td>\n",
       "      <td>Bank transfer (automatic)</td>\n",
       "    </tr>\n",
       "  </tbody>\n",
       "</table>\n",
       "</div>"
      ],
      "text/plain": [
       "   ClientPeriod  MonthlySpending TotalSpent     Sex  IsSeniorCitizen  \\\n",
       "0            42            56.10    2386.85    Male                0   \n",
       "1            29            98.50    3004.15    Male                1   \n",
       "2             9            76.25     684.85    Male                0   \n",
       "3            67            74.00     4868.4  Female                0   \n",
       "4            71            20.10     1389.6  Female                0   \n",
       "\n",
       "  HasPartner HasChild HasPhoneService HasMultiplePhoneNumbers  \\\n",
       "0        Yes       No             Yes                     Yes   \n",
       "1        Yes       No             Yes                     Yes   \n",
       "2         No       No             Yes                     Yes   \n",
       "3        Yes      Yes             Yes                     Yes   \n",
       "4        Yes      Yes             Yes                      No   \n",
       "\n",
       "  HasInternetService HasOnlineSecurityService      HasOnlineBackup  \\\n",
       "0                DSL                      Yes                   No   \n",
       "1        Fiber optic                       No                   No   \n",
       "2        Fiber optic                       No                   No   \n",
       "3                DSL                      Yes                  Yes   \n",
       "4                 No      No internet service  No internet service   \n",
       "\n",
       "   HasDeviceProtection HasTechSupportAccess          HasOnlineTV  \\\n",
       "0                   No                   No                   No   \n",
       "1                  Yes                   No                  Yes   \n",
       "2                   No                   No                   No   \n",
       "3                   No                  Yes                  Yes   \n",
       "4  No internet service  No internet service  No internet service   \n",
       "\n",
       "  HasMovieSubscription HasContractPhone IsBillingPaperless  \\\n",
       "0                   No         One year                 No   \n",
       "1                  Yes   Month-to-month                Yes   \n",
       "2                   No   Month-to-month                Yes   \n",
       "3                   No         Two year                 No   \n",
       "4  No internet service         Two year                 No   \n",
       "\n",
       "               PaymentMethod  \n",
       "0    Credit card (automatic)  \n",
       "1           Electronic check  \n",
       "2           Electronic check  \n",
       "3    Credit card (automatic)  \n",
       "4  Bank transfer (automatic)  "
      ]
     },
     "execution_count": 33,
     "metadata": {},
     "output_type": "execute_result"
    }
   ],
   "source": [
    "X_test = pd.read_csv('./test.csv')\n",
    "print(X_test.shape)\n",
    "X_test.head()"
   ]
  },
  {
   "cell_type": "code",
   "execution_count": 34,
   "metadata": {},
   "outputs": [
    {
     "name": "stdout",
     "output_type": "stream",
     "text": [
      "(1761, 2)\n"
     ]
    },
    {
     "data": {
      "text/html": [
       "<div>\n",
       "<style scoped>\n",
       "    .dataframe tbody tr th:only-of-type {\n",
       "        vertical-align: middle;\n",
       "    }\n",
       "\n",
       "    .dataframe tbody tr th {\n",
       "        vertical-align: top;\n",
       "    }\n",
       "\n",
       "    .dataframe thead th {\n",
       "        text-align: right;\n",
       "    }\n",
       "</style>\n",
       "<table border=\"1\" class=\"dataframe\">\n",
       "  <thead>\n",
       "    <tr style=\"text-align: right;\">\n",
       "      <th></th>\n",
       "      <th>Id</th>\n",
       "      <th>Churn</th>\n",
       "    </tr>\n",
       "  </thead>\n",
       "  <tbody>\n",
       "    <tr>\n",
       "      <th>0</th>\n",
       "      <td>0</td>\n",
       "      <td>0.5</td>\n",
       "    </tr>\n",
       "    <tr>\n",
       "      <th>1</th>\n",
       "      <td>1</td>\n",
       "      <td>0.5</td>\n",
       "    </tr>\n",
       "    <tr>\n",
       "      <th>2</th>\n",
       "      <td>2</td>\n",
       "      <td>0.5</td>\n",
       "    </tr>\n",
       "    <tr>\n",
       "      <th>3</th>\n",
       "      <td>3</td>\n",
       "      <td>0.5</td>\n",
       "    </tr>\n",
       "    <tr>\n",
       "      <th>4</th>\n",
       "      <td>4</td>\n",
       "      <td>0.5</td>\n",
       "    </tr>\n",
       "  </tbody>\n",
       "</table>\n",
       "</div>"
      ],
      "text/plain": [
       "   Id  Churn\n",
       "0   0    0.5\n",
       "1   1    0.5\n",
       "2   2    0.5\n",
       "3   3    0.5\n",
       "4   4    0.5"
      ]
     },
     "execution_count": 34,
     "metadata": {},
     "output_type": "execute_result"
    }
   ],
   "source": [
    "submission = pd.read_csv('./submission.csv')\n",
    "print(submission.shape)\n",
    "submission.head()"
   ]
  },
  {
   "cell_type": "code",
   "execution_count": 35,
   "metadata": {},
   "outputs": [],
   "source": [
    "# Преобразование\n",
    "\n",
    "X_test['TotalSpent'] = X_test['TotalSpent'].apply(lambda x: np.nan if x == ' ' else np.float(x))\n",
    "X_test['TotalSpent'] = X_test['TotalSpent'].fillna(data['TotalSpent'].median())"
   ]
  },
  {
   "cell_type": "code",
   "execution_count": 36,
   "metadata": {},
   "outputs": [],
   "source": [
    "# Применение\n",
    "\n",
    "submission['Churn'] = final_model.predict(X_test)\n",
    "submission.to_csv('./my_submission_custom_CV.csv',index=False)"
   ]
  },
  {
   "cell_type": "markdown",
   "metadata": {
    "id": "tzGirrp5l2I-"
   },
   "source": [
    "Лучшее решение отправьте в Stepik."
   ]
  },
  {
   "cell_type": "code",
   "execution_count": 37,
   "metadata": {
    "id": "eoNce9Yu0OM5"
   },
   "outputs": [
    {
     "data": {
      "text/html": [
       "<div>\n",
       "<style scoped>\n",
       "    .dataframe tbody tr th:only-of-type {\n",
       "        vertical-align: middle;\n",
       "    }\n",
       "\n",
       "    .dataframe tbody tr th {\n",
       "        vertical-align: top;\n",
       "    }\n",
       "\n",
       "    .dataframe thead th {\n",
       "        text-align: right;\n",
       "    }\n",
       "</style>\n",
       "<table border=\"1\" class=\"dataframe\">\n",
       "  <thead>\n",
       "    <tr style=\"text-align: right;\">\n",
       "      <th></th>\n",
       "      <th>Id</th>\n",
       "      <th>Churn</th>\n",
       "    </tr>\n",
       "  </thead>\n",
       "  <tbody>\n",
       "    <tr>\n",
       "      <th>0</th>\n",
       "      <td>0</td>\n",
       "      <td>0.047084</td>\n",
       "    </tr>\n",
       "    <tr>\n",
       "      <th>1</th>\n",
       "      <td>1</td>\n",
       "      <td>0.584847</td>\n",
       "    </tr>\n",
       "    <tr>\n",
       "      <th>2</th>\n",
       "      <td>2</td>\n",
       "      <td>0.634647</td>\n",
       "    </tr>\n",
       "    <tr>\n",
       "      <th>3</th>\n",
       "      <td>3</td>\n",
       "      <td>0.013668</td>\n",
       "    </tr>\n",
       "    <tr>\n",
       "      <th>4</th>\n",
       "      <td>4</td>\n",
       "      <td>0.005403</td>\n",
       "    </tr>\n",
       "    <tr>\n",
       "      <th>...</th>\n",
       "      <td>...</td>\n",
       "      <td>...</td>\n",
       "    </tr>\n",
       "    <tr>\n",
       "      <th>1756</th>\n",
       "      <td>1756</td>\n",
       "      <td>0.120430</td>\n",
       "    </tr>\n",
       "    <tr>\n",
       "      <th>1757</th>\n",
       "      <td>1757</td>\n",
       "      <td>0.016352</td>\n",
       "    </tr>\n",
       "    <tr>\n",
       "      <th>1758</th>\n",
       "      <td>1758</td>\n",
       "      <td>0.790593</td>\n",
       "    </tr>\n",
       "    <tr>\n",
       "      <th>1759</th>\n",
       "      <td>1759</td>\n",
       "      <td>0.588424</td>\n",
       "    </tr>\n",
       "    <tr>\n",
       "      <th>1760</th>\n",
       "      <td>1760</td>\n",
       "      <td>0.013993</td>\n",
       "    </tr>\n",
       "  </tbody>\n",
       "</table>\n",
       "<p>1761 rows × 2 columns</p>\n",
       "</div>"
      ],
      "text/plain": [
       "        Id     Churn\n",
       "0        0  0.047084\n",
       "1        1  0.584847\n",
       "2        2  0.634647\n",
       "3        3  0.013668\n",
       "4        4  0.005403\n",
       "...    ...       ...\n",
       "1756  1756  0.120430\n",
       "1757  1757  0.016352\n",
       "1758  1758  0.790593\n",
       "1759  1759  0.588424\n",
       "1760  1760  0.013993\n",
       "\n",
       "[1761 rows x 2 columns]"
      ]
     },
     "execution_count": 37,
     "metadata": {},
     "output_type": "execute_result"
    }
   ],
   "source": [
    "pd.read_csv('my_submission_custom_CV.csv')"
   ]
  },
  {
   "cell_type": "code",
   "execution_count": null,
   "metadata": {},
   "outputs": [],
   "source": []
  }
 ],
 "metadata": {
  "colab": {
   "authorship_tag": "ABX9TyOBGrwMrgJk+MixkkB/xQ+Q",
   "provenance": []
  },
  "kernelspec": {
   "display_name": "Python 3",
   "language": "python",
   "name": "python3"
  },
  "language_info": {
   "codemirror_mode": {
    "name": "ipython",
    "version": 3
   },
   "file_extension": ".py",
   "mimetype": "text/x-python",
   "name": "python",
   "nbconvert_exporter": "python",
   "pygments_lexer": "ipython3",
   "version": "3.7.6"
  }
 },
 "nbformat": 4,
 "nbformat_minor": 1
}
